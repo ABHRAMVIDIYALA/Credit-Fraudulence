{
 "cells": [
  {
   "cell_type": "code",
   "execution_count": 4,
   "id": "9aaa6161",
   "metadata": {},
   "outputs": [],
   "source": [
    "import pandas as pd\n",
    "import numpy as np\n",
    "import matplotlib.pyplot as plt\n",
    "import seaborn as sns\n",
    "from sklearn.model_selection import train_test_split as tts\n",
    "from sklearn.linear_model import LogisticRegression as lr\n",
    "from sklearn.metrics import confusion_matrix as cm#Evaluation\n",
    "from sklearn.metrics import accuracy_score\n",
    "from sklearn.tree import DecisionTreeClassifier as dtc # Decision tree algorithm\n",
    "from sklearn.naive_bayes import GaussianNB as gnb\n",
    "from sklearn.metrics import f1_score#Evaluation\n",
    "from sklearn.preprocessing import StandardScaler # data normalization\n",
    "import pickle"
   ]
  },
  {
   "cell_type": "code",
   "execution_count": 5,
   "id": "15fcc247",
   "metadata": {},
   "outputs": [],
   "source": [
    "cd = pd.read_csv('creditcard.csv')"
   ]
  },
  {
   "cell_type": "code",
   "execution_count": 6,
   "id": "f7db792b",
   "metadata": {},
   "outputs": [
    {
     "data": {
      "text/html": [
       "<style type=\"text/css\">\n",
       "#T_b582a_row0_col0, #T_b582a_row0_col1, #T_b582a_row0_col12, #T_b582a_row0_col13, #T_b582a_row0_col30, #T_b582a_row1_col0, #T_b582a_row1_col3, #T_b582a_row1_col6, #T_b582a_row1_col7, #T_b582a_row1_col10, #T_b582a_row1_col18, #T_b582a_row1_col21, #T_b582a_row1_col22, #T_b582a_row1_col29, #T_b582a_row1_col30, #T_b582a_row2_col1, #T_b582a_row2_col2, #T_b582a_row2_col5, #T_b582a_row2_col9, #T_b582a_row2_col16, #T_b582a_row2_col19, #T_b582a_row2_col25, #T_b582a_row2_col27, #T_b582a_row2_col28, #T_b582a_row2_col30, #T_b582a_row3_col4, #T_b582a_row3_col15, #T_b582a_row3_col17, #T_b582a_row3_col20, #T_b582a_row3_col23, #T_b582a_row3_col24, #T_b582a_row3_col26, #T_b582a_row3_col30, #T_b582a_row4_col8, #T_b582a_row4_col11, #T_b582a_row4_col14, #T_b582a_row4_col30 {\n",
       "  background-color: #fff7fb;\n",
       "  color: #000000;\n",
       "}\n",
       "#T_b582a_row0_col2 {\n",
       "  background-color: #509ac6;\n",
       "  color: #f1f1f1;\n",
       "}\n",
       "#T_b582a_row0_col3, #T_b582a_row0_col4, #T_b582a_row1_col1, #T_b582a_row1_col5, #T_b582a_row1_col11, #T_b582a_row1_col12, #T_b582a_row1_col14, #T_b582a_row1_col16, #T_b582a_row2_col6, #T_b582a_row2_col7, #T_b582a_row2_col15, #T_b582a_row2_col17, #T_b582a_row2_col20, #T_b582a_row2_col21, #T_b582a_row2_col23, #T_b582a_row2_col29, #T_b582a_row3_col8, #T_b582a_row3_col18, #T_b582a_row3_col25, #T_b582a_row4_col0, #T_b582a_row4_col2, #T_b582a_row4_col9, #T_b582a_row4_col10, #T_b582a_row4_col13, #T_b582a_row4_col19, #T_b582a_row4_col22, #T_b582a_row4_col24, #T_b582a_row4_col26, #T_b582a_row4_col27, #T_b582a_row4_col28 {\n",
       "  background-color: #023858;\n",
       "  color: #f1f1f1;\n",
       "}\n",
       "#T_b582a_row0_col5, #T_b582a_row0_col6 {\n",
       "  background-color: #c2cbe2;\n",
       "  color: #000000;\n",
       "}\n",
       "#T_b582a_row0_col7, #T_b582a_row3_col7 {\n",
       "  background-color: #a9bfdc;\n",
       "  color: #000000;\n",
       "}\n",
       "#T_b582a_row0_col8 {\n",
       "  background-color: #529bc7;\n",
       "  color: #f1f1f1;\n",
       "}\n",
       "#T_b582a_row0_col9 {\n",
       "  background-color: #0566a0;\n",
       "  color: #f1f1f1;\n",
       "}\n",
       "#T_b582a_row0_col10 {\n",
       "  background-color: #c6cce3;\n",
       "  color: #000000;\n",
       "}\n",
       "#T_b582a_row0_col11 {\n",
       "  background-color: #eee9f3;\n",
       "  color: #000000;\n",
       "}\n",
       "#T_b582a_row0_col14 {\n",
       "  background-color: #046299;\n",
       "  color: #f1f1f1;\n",
       "}\n",
       "#T_b582a_row0_col15, #T_b582a_row3_col6 {\n",
       "  background-color: #167bb6;\n",
       "  color: #f1f1f1;\n",
       "}\n",
       "#T_b582a_row0_col16 {\n",
       "  background-color: #1077b4;\n",
       "  color: #f1f1f1;\n",
       "}\n",
       "#T_b582a_row0_col17 {\n",
       "  background-color: #75a9cf;\n",
       "  color: #f1f1f1;\n",
       "}\n",
       "#T_b582a_row0_col18, #T_b582a_row4_col6 {\n",
       "  background-color: #f1ebf4;\n",
       "  color: #000000;\n",
       "}\n",
       "#T_b582a_row0_col19 {\n",
       "  background-color: #045b8e;\n",
       "  color: #f1f1f1;\n",
       "}\n",
       "#T_b582a_row0_col20 {\n",
       "  background-color: #358fc0;\n",
       "  color: #f1f1f1;\n",
       "}\n",
       "#T_b582a_row0_col21, #T_b582a_row3_col28 {\n",
       "  background-color: #8cb3d5;\n",
       "  color: #000000;\n",
       "}\n",
       "#T_b582a_row0_col22 {\n",
       "  background-color: #308cbe;\n",
       "  color: #f1f1f1;\n",
       "}\n",
       "#T_b582a_row0_col23 {\n",
       "  background-color: #f4eef6;\n",
       "  color: #000000;\n",
       "}\n",
       "#T_b582a_row0_col24 {\n",
       "  background-color: #03476f;\n",
       "  color: #f1f1f1;\n",
       "}\n",
       "#T_b582a_row0_col25 {\n",
       "  background-color: #81aed2;\n",
       "  color: #f1f1f1;\n",
       "}\n",
       "#T_b582a_row0_col26, #T_b582a_row4_col23 {\n",
       "  background-color: #f8f1f8;\n",
       "  color: #000000;\n",
       "}\n",
       "#T_b582a_row0_col27, #T_b582a_row1_col19 {\n",
       "  background-color: #1c7fb8;\n",
       "  color: #f1f1f1;\n",
       "}\n",
       "#T_b582a_row0_col28 {\n",
       "  background-color: #e8e4f0;\n",
       "  color: #000000;\n",
       "}\n",
       "#T_b582a_row0_col29 {\n",
       "  background-color: #9fbad9;\n",
       "  color: #000000;\n",
       "}\n",
       "#T_b582a_row1_col2 {\n",
       "  background-color: #0f76b3;\n",
       "  color: #f1f1f1;\n",
       "}\n",
       "#T_b582a_row1_col4, #T_b582a_row4_col3 {\n",
       "  background-color: #4a98c5;\n",
       "  color: #f1f1f1;\n",
       "}\n",
       "#T_b582a_row1_col8 {\n",
       "  background-color: #5c9fc9;\n",
       "  color: #f1f1f1;\n",
       "}\n",
       "#T_b582a_row1_col9 {\n",
       "  background-color: #60a1ca;\n",
       "  color: #f1f1f1;\n",
       "}\n",
       "#T_b582a_row1_col13, #T_b582a_row1_col24 {\n",
       "  background-color: #328dbf;\n",
       "  color: #f1f1f1;\n",
       "}\n",
       "#T_b582a_row1_col15 {\n",
       "  background-color: #93b5d6;\n",
       "  color: #000000;\n",
       "}\n",
       "#T_b582a_row1_col17 {\n",
       "  background-color: #b9c6e0;\n",
       "  color: #000000;\n",
       "}\n",
       "#T_b582a_row1_col20 {\n",
       "  background-color: #dedcec;\n",
       "  color: #000000;\n",
       "}\n",
       "#T_b582a_row1_col23 {\n",
       "  background-color: #cccfe5;\n",
       "  color: #000000;\n",
       "}\n",
       "#T_b582a_row1_col25 {\n",
       "  background-color: #71a8ce;\n",
       "  color: #f1f1f1;\n",
       "}\n",
       "#T_b582a_row1_col26 {\n",
       "  background-color: #7dacd1;\n",
       "  color: #f1f1f1;\n",
       "}\n",
       "#T_b582a_row1_col27, #T_b582a_row4_col5 {\n",
       "  background-color: #e2dfee;\n",
       "  color: #000000;\n",
       "}\n",
       "#T_b582a_row1_col28, #T_b582a_row4_col15 {\n",
       "  background-color: #c9cee4;\n",
       "  color: #000000;\n",
       "}\n",
       "#T_b582a_row2_col0, #T_b582a_row3_col0 {\n",
       "  background-color: #73a9cf;\n",
       "  color: #f1f1f1;\n",
       "}\n",
       "#T_b582a_row2_col3 {\n",
       "  background-color: #2182b9;\n",
       "  color: #f1f1f1;\n",
       "}\n",
       "#T_b582a_row2_col4 {\n",
       "  background-color: #5a9ec9;\n",
       "  color: #f1f1f1;\n",
       "}\n",
       "#T_b582a_row2_col8 {\n",
       "  background-color: #0567a2;\n",
       "  color: #f1f1f1;\n",
       "}\n",
       "#T_b582a_row2_col10, #T_b582a_row2_col12 {\n",
       "  background-color: #99b8d8;\n",
       "  color: #000000;\n",
       "}\n",
       "#T_b582a_row2_col11 {\n",
       "  background-color: #4496c3;\n",
       "  color: #f1f1f1;\n",
       "}\n",
       "#T_b582a_row2_col13 {\n",
       "  background-color: #0c74b2;\n",
       "  color: #f1f1f1;\n",
       "}\n",
       "#T_b582a_row2_col14 {\n",
       "  background-color: #023d60;\n",
       "  color: #f1f1f1;\n",
       "}\n",
       "#T_b582a_row2_col18 {\n",
       "  background-color: #fbf3f9;\n",
       "  color: #000000;\n",
       "}\n",
       "#T_b582a_row2_col22 {\n",
       "  background-color: #023c5f;\n",
       "  color: #f1f1f1;\n",
       "}\n",
       "#T_b582a_row2_col24 {\n",
       "  background-color: #a8bedc;\n",
       "  color: #000000;\n",
       "}\n",
       "#T_b582a_row2_col26 {\n",
       "  background-color: #eee8f3;\n",
       "  color: #000000;\n",
       "}\n",
       "#T_b582a_row3_col1 {\n",
       "  background-color: #e6e2ef;\n",
       "  color: #000000;\n",
       "}\n",
       "#T_b582a_row3_col2 {\n",
       "  background-color: #69a5cc;\n",
       "  color: #f1f1f1;\n",
       "}\n",
       "#T_b582a_row3_col3, #T_b582a_row4_col12 {\n",
       "  background-color: #1e80b8;\n",
       "  color: #f1f1f1;\n",
       "}\n",
       "#T_b582a_row3_col5 {\n",
       "  background-color: #04598c;\n",
       "  color: #f1f1f1;\n",
       "}\n",
       "#T_b582a_row3_col9 {\n",
       "  background-color: #f7f0f7;\n",
       "  color: #000000;\n",
       "}\n",
       "#T_b582a_row3_col10, #T_b582a_row4_col25 {\n",
       "  background-color: #ede7f2;\n",
       "  color: #000000;\n",
       "}\n",
       "#T_b582a_row3_col11 {\n",
       "  background-color: #d2d2e7;\n",
       "  color: #000000;\n",
       "}\n",
       "#T_b582a_row3_col12 {\n",
       "  background-color: #7eadd1;\n",
       "  color: #f1f1f1;\n",
       "}\n",
       "#T_b582a_row3_col13 {\n",
       "  background-color: #2f8bbe;\n",
       "  color: #f1f1f1;\n",
       "}\n",
       "#T_b582a_row3_col14 {\n",
       "  background-color: #045e93;\n",
       "  color: #f1f1f1;\n",
       "}\n",
       "#T_b582a_row3_col16 {\n",
       "  background-color: #5ea0ca;\n",
       "  color: #f1f1f1;\n",
       "}\n",
       "#T_b582a_row3_col19 {\n",
       "  background-color: #b4c4df;\n",
       "  color: #000000;\n",
       "}\n",
       "#T_b582a_row3_col21, #T_b582a_row4_col17 {\n",
       "  background-color: #d1d2e6;\n",
       "  color: #000000;\n",
       "}\n",
       "#T_b582a_row3_col22 {\n",
       "  background-color: #89b1d4;\n",
       "  color: #000000;\n",
       "}\n",
       "#T_b582a_row3_col27 {\n",
       "  background-color: #8fb4d6;\n",
       "  color: #000000;\n",
       "}\n",
       "#T_b582a_row3_col29 {\n",
       "  background-color: #b8c6e0;\n",
       "  color: #000000;\n",
       "}\n",
       "#T_b582a_row4_col1 {\n",
       "  background-color: #f3edf5;\n",
       "  color: #000000;\n",
       "}\n",
       "#T_b582a_row4_col4 {\n",
       "  background-color: #549cc7;\n",
       "  color: #f1f1f1;\n",
       "}\n",
       "#T_b582a_row4_col7 {\n",
       "  background-color: #056caa;\n",
       "  color: #f1f1f1;\n",
       "}\n",
       "#T_b582a_row4_col16 {\n",
       "  background-color: #0d75b3;\n",
       "  color: #f1f1f1;\n",
       "}\n",
       "#T_b582a_row4_col18 {\n",
       "  background-color: #f5eef6;\n",
       "  color: #000000;\n",
       "}\n",
       "#T_b582a_row4_col20 {\n",
       "  background-color: #046096;\n",
       "  color: #f1f1f1;\n",
       "}\n",
       "#T_b582a_row4_col21 {\n",
       "  background-color: #86b0d3;\n",
       "  color: #000000;\n",
       "}\n",
       "#T_b582a_row4_col29 {\n",
       "  background-color: #e0deed;\n",
       "  color: #000000;\n",
       "}\n",
       "</style>\n",
       "<table id=\"T_b582a_\">\n",
       "  <thead>\n",
       "    <tr>\n",
       "      <th class=\"blank level0\" >&nbsp;</th>\n",
       "      <th class=\"col_heading level0 col0\" >Time</th>\n",
       "      <th class=\"col_heading level0 col1\" >V1</th>\n",
       "      <th class=\"col_heading level0 col2\" >V2</th>\n",
       "      <th class=\"col_heading level0 col3\" >V3</th>\n",
       "      <th class=\"col_heading level0 col4\" >V4</th>\n",
       "      <th class=\"col_heading level0 col5\" >V5</th>\n",
       "      <th class=\"col_heading level0 col6\" >V6</th>\n",
       "      <th class=\"col_heading level0 col7\" >V7</th>\n",
       "      <th class=\"col_heading level0 col8\" >V8</th>\n",
       "      <th class=\"col_heading level0 col9\" >V9</th>\n",
       "      <th class=\"col_heading level0 col10\" >V10</th>\n",
       "      <th class=\"col_heading level0 col11\" >V11</th>\n",
       "      <th class=\"col_heading level0 col12\" >V12</th>\n",
       "      <th class=\"col_heading level0 col13\" >V13</th>\n",
       "      <th class=\"col_heading level0 col14\" >V14</th>\n",
       "      <th class=\"col_heading level0 col15\" >V15</th>\n",
       "      <th class=\"col_heading level0 col16\" >V16</th>\n",
       "      <th class=\"col_heading level0 col17\" >V17</th>\n",
       "      <th class=\"col_heading level0 col18\" >V18</th>\n",
       "      <th class=\"col_heading level0 col19\" >V19</th>\n",
       "      <th class=\"col_heading level0 col20\" >V20</th>\n",
       "      <th class=\"col_heading level0 col21\" >V21</th>\n",
       "      <th class=\"col_heading level0 col22\" >V22</th>\n",
       "      <th class=\"col_heading level0 col23\" >V23</th>\n",
       "      <th class=\"col_heading level0 col24\" >V24</th>\n",
       "      <th class=\"col_heading level0 col25\" >V25</th>\n",
       "      <th class=\"col_heading level0 col26\" >V26</th>\n",
       "      <th class=\"col_heading level0 col27\" >V27</th>\n",
       "      <th class=\"col_heading level0 col28\" >V28</th>\n",
       "      <th class=\"col_heading level0 col29\" >Amount</th>\n",
       "      <th class=\"col_heading level0 col30\" >Class</th>\n",
       "    </tr>\n",
       "  </thead>\n",
       "  <tbody>\n",
       "    <tr>\n",
       "      <th id=\"T_b582a_level0_row0\" class=\"row_heading level0 row0\" >0</th>\n",
       "      <td id=\"T_b582a_row0_col0\" class=\"data row0 col0\" >0.000000</td>\n",
       "      <td id=\"T_b582a_row0_col1\" class=\"data row0 col1\" >-1.359807</td>\n",
       "      <td id=\"T_b582a_row0_col2\" class=\"data row0 col2\" >-0.072781</td>\n",
       "      <td id=\"T_b582a_row0_col3\" class=\"data row0 col3\" >2.536347</td>\n",
       "      <td id=\"T_b582a_row0_col4\" class=\"data row0 col4\" >1.378155</td>\n",
       "      <td id=\"T_b582a_row0_col5\" class=\"data row0 col5\" >-0.338321</td>\n",
       "      <td id=\"T_b582a_row0_col6\" class=\"data row0 col6\" >0.462388</td>\n",
       "      <td id=\"T_b582a_row0_col7\" class=\"data row0 col7\" >0.239599</td>\n",
       "      <td id=\"T_b582a_row0_col8\" class=\"data row0 col8\" >0.098698</td>\n",
       "      <td id=\"T_b582a_row0_col9\" class=\"data row0 col9\" >0.363787</td>\n",
       "      <td id=\"T_b582a_row0_col10\" class=\"data row0 col10\" >0.090794</td>\n",
       "      <td id=\"T_b582a_row0_col11\" class=\"data row0 col11\" >-0.551600</td>\n",
       "      <td id=\"T_b582a_row0_col12\" class=\"data row0 col12\" >-0.617801</td>\n",
       "      <td id=\"T_b582a_row0_col13\" class=\"data row0 col13\" >-0.991390</td>\n",
       "      <td id=\"T_b582a_row0_col14\" class=\"data row0 col14\" >-0.311169</td>\n",
       "      <td id=\"T_b582a_row0_col15\" class=\"data row0 col15\" >1.468177</td>\n",
       "      <td id=\"T_b582a_row0_col16\" class=\"data row0 col16\" >-0.470401</td>\n",
       "      <td id=\"T_b582a_row0_col17\" class=\"data row0 col17\" >0.207971</td>\n",
       "      <td id=\"T_b582a_row0_col18\" class=\"data row0 col18\" >0.025791</td>\n",
       "      <td id=\"T_b582a_row0_col19\" class=\"data row0 col19\" >0.403993</td>\n",
       "      <td id=\"T_b582a_row0_col20\" class=\"data row0 col20\" >0.251412</td>\n",
       "      <td id=\"T_b582a_row0_col21\" class=\"data row0 col21\" >-0.018307</td>\n",
       "      <td id=\"T_b582a_row0_col22\" class=\"data row0 col22\" >0.277838</td>\n",
       "      <td id=\"T_b582a_row0_col23\" class=\"data row0 col23\" >-0.110474</td>\n",
       "      <td id=\"T_b582a_row0_col24\" class=\"data row0 col24\" >0.066928</td>\n",
       "      <td id=\"T_b582a_row0_col25\" class=\"data row0 col25\" >0.128539</td>\n",
       "      <td id=\"T_b582a_row0_col26\" class=\"data row0 col26\" >-0.189115</td>\n",
       "      <td id=\"T_b582a_row0_col27\" class=\"data row0 col27\" >0.133558</td>\n",
       "      <td id=\"T_b582a_row0_col28\" class=\"data row0 col28\" >-0.021053</td>\n",
       "      <td id=\"T_b582a_row0_col29\" class=\"data row0 col29\" >149.620000</td>\n",
       "      <td id=\"T_b582a_row0_col30\" class=\"data row0 col30\" >0</td>\n",
       "    </tr>\n",
       "    <tr>\n",
       "      <th id=\"T_b582a_level0_row1\" class=\"row_heading level0 row1\" >1</th>\n",
       "      <td id=\"T_b582a_row1_col0\" class=\"data row1 col0\" >0.000000</td>\n",
       "      <td id=\"T_b582a_row1_col1\" class=\"data row1 col1\" >1.191857</td>\n",
       "      <td id=\"T_b582a_row1_col2\" class=\"data row1 col2\" >0.266151</td>\n",
       "      <td id=\"T_b582a_row1_col3\" class=\"data row1 col3\" >0.166480</td>\n",
       "      <td id=\"T_b582a_row1_col4\" class=\"data row1 col4\" >0.448154</td>\n",
       "      <td id=\"T_b582a_row1_col5\" class=\"data row1 col5\" >0.060018</td>\n",
       "      <td id=\"T_b582a_row1_col6\" class=\"data row1 col6\" >-0.082361</td>\n",
       "      <td id=\"T_b582a_row1_col7\" class=\"data row1 col7\" >-0.078803</td>\n",
       "      <td id=\"T_b582a_row1_col8\" class=\"data row1 col8\" >0.085102</td>\n",
       "      <td id=\"T_b582a_row1_col9\" class=\"data row1 col9\" >-0.255425</td>\n",
       "      <td id=\"T_b582a_row1_col10\" class=\"data row1 col10\" >-0.166974</td>\n",
       "      <td id=\"T_b582a_row1_col11\" class=\"data row1 col11\" >1.612727</td>\n",
       "      <td id=\"T_b582a_row1_col12\" class=\"data row1 col12\" >1.065235</td>\n",
       "      <td id=\"T_b582a_row1_col13\" class=\"data row1 col13\" >0.489095</td>\n",
       "      <td id=\"T_b582a_row1_col14\" class=\"data row1 col14\" >-0.143772</td>\n",
       "      <td id=\"T_b582a_row1_col15\" class=\"data row1 col15\" >0.635558</td>\n",
       "      <td id=\"T_b582a_row1_col16\" class=\"data row1 col16\" >0.463917</td>\n",
       "      <td id=\"T_b582a_row1_col17\" class=\"data row1 col17\" >-0.114805</td>\n",
       "      <td id=\"T_b582a_row1_col18\" class=\"data row1 col18\" >-0.183361</td>\n",
       "      <td id=\"T_b582a_row1_col19\" class=\"data row1 col19\" >-0.145783</td>\n",
       "      <td id=\"T_b582a_row1_col20\" class=\"data row1 col20\" >-0.069083</td>\n",
       "      <td id=\"T_b582a_row1_col21\" class=\"data row1 col21\" >-0.225775</td>\n",
       "      <td id=\"T_b582a_row1_col22\" class=\"data row1 col22\" >-0.638672</td>\n",
       "      <td id=\"T_b582a_row1_col23\" class=\"data row1 col23\" >0.101288</td>\n",
       "      <td id=\"T_b582a_row1_col24\" class=\"data row1 col24\" >-0.339846</td>\n",
       "      <td id=\"T_b582a_row1_col25\" class=\"data row1 col25\" >0.167170</td>\n",
       "      <td id=\"T_b582a_row1_col26\" class=\"data row1 col26\" >0.125895</td>\n",
       "      <td id=\"T_b582a_row1_col27\" class=\"data row1 col27\" >-0.008983</td>\n",
       "      <td id=\"T_b582a_row1_col28\" class=\"data row1 col28\" >0.014724</td>\n",
       "      <td id=\"T_b582a_row1_col29\" class=\"data row1 col29\" >2.690000</td>\n",
       "      <td id=\"T_b582a_row1_col30\" class=\"data row1 col30\" >0</td>\n",
       "    </tr>\n",
       "    <tr>\n",
       "      <th id=\"T_b582a_level0_row2\" class=\"row_heading level0 row2\" >2</th>\n",
       "      <td id=\"T_b582a_row2_col0\" class=\"data row2 col0\" >1.000000</td>\n",
       "      <td id=\"T_b582a_row2_col1\" class=\"data row2 col1\" >-1.358354</td>\n",
       "      <td id=\"T_b582a_row2_col2\" class=\"data row2 col2\" >-1.340163</td>\n",
       "      <td id=\"T_b582a_row2_col3\" class=\"data row2 col3\" >1.773209</td>\n",
       "      <td id=\"T_b582a_row2_col4\" class=\"data row2 col4\" >0.379780</td>\n",
       "      <td id=\"T_b582a_row2_col5\" class=\"data row2 col5\" >-0.503198</td>\n",
       "      <td id=\"T_b582a_row2_col6\" class=\"data row2 col6\" >1.800499</td>\n",
       "      <td id=\"T_b582a_row2_col7\" class=\"data row2 col7\" >0.791461</td>\n",
       "      <td id=\"T_b582a_row2_col8\" class=\"data row2 col8\" >0.247676</td>\n",
       "      <td id=\"T_b582a_row2_col9\" class=\"data row2 col9\" >-1.514654</td>\n",
       "      <td id=\"T_b582a_row2_col10\" class=\"data row2 col10\" >0.207643</td>\n",
       "      <td id=\"T_b582a_row2_col11\" class=\"data row2 col11\" >0.624501</td>\n",
       "      <td id=\"T_b582a_row2_col12\" class=\"data row2 col12\" >0.066084</td>\n",
       "      <td id=\"T_b582a_row2_col13\" class=\"data row2 col13\" >0.717293</td>\n",
       "      <td id=\"T_b582a_row2_col14\" class=\"data row2 col14\" >-0.165946</td>\n",
       "      <td id=\"T_b582a_row2_col15\" class=\"data row2 col15\" >2.345865</td>\n",
       "      <td id=\"T_b582a_row2_col16\" class=\"data row2 col16\" >-2.890083</td>\n",
       "      <td id=\"T_b582a_row2_col17\" class=\"data row2 col17\" >1.109969</td>\n",
       "      <td id=\"T_b582a_row2_col18\" class=\"data row2 col18\" >-0.121359</td>\n",
       "      <td id=\"T_b582a_row2_col19\" class=\"data row2 col19\" >-2.261857</td>\n",
       "      <td id=\"T_b582a_row2_col20\" class=\"data row2 col20\" >0.524980</td>\n",
       "      <td id=\"T_b582a_row2_col21\" class=\"data row2 col21\" >0.247998</td>\n",
       "      <td id=\"T_b582a_row2_col22\" class=\"data row2 col22\" >0.771679</td>\n",
       "      <td id=\"T_b582a_row2_col23\" class=\"data row2 col23\" >0.909412</td>\n",
       "      <td id=\"T_b582a_row2_col24\" class=\"data row2 col24\" >-0.689281</td>\n",
       "      <td id=\"T_b582a_row2_col25\" class=\"data row2 col25\" >-0.327642</td>\n",
       "      <td id=\"T_b582a_row2_col26\" class=\"data row2 col26\" >-0.139097</td>\n",
       "      <td id=\"T_b582a_row2_col27\" class=\"data row2 col27\" >-0.055353</td>\n",
       "      <td id=\"T_b582a_row2_col28\" class=\"data row2 col28\" >-0.059752</td>\n",
       "      <td id=\"T_b582a_row2_col29\" class=\"data row2 col29\" >378.660000</td>\n",
       "      <td id=\"T_b582a_row2_col30\" class=\"data row2 col30\" >0</td>\n",
       "    </tr>\n",
       "    <tr>\n",
       "      <th id=\"T_b582a_level0_row3\" class=\"row_heading level0 row3\" >3</th>\n",
       "      <td id=\"T_b582a_row3_col0\" class=\"data row3 col0\" >1.000000</td>\n",
       "      <td id=\"T_b582a_row3_col1\" class=\"data row3 col1\" >-0.966272</td>\n",
       "      <td id=\"T_b582a_row3_col2\" class=\"data row3 col2\" >-0.185226</td>\n",
       "      <td id=\"T_b582a_row3_col3\" class=\"data row3 col3\" >1.792993</td>\n",
       "      <td id=\"T_b582a_row3_col4\" class=\"data row3 col4\" >-0.863291</td>\n",
       "      <td id=\"T_b582a_row3_col5\" class=\"data row3 col5\" >-0.010309</td>\n",
       "      <td id=\"T_b582a_row3_col6\" class=\"data row3 col6\" >1.247203</td>\n",
       "      <td id=\"T_b582a_row3_col7\" class=\"data row3 col7\" >0.237609</td>\n",
       "      <td id=\"T_b582a_row3_col8\" class=\"data row3 col8\" >0.377436</td>\n",
       "      <td id=\"T_b582a_row3_col9\" class=\"data row3 col9\" >-1.387024</td>\n",
       "      <td id=\"T_b582a_row3_col10\" class=\"data row3 col10\" >-0.054952</td>\n",
       "      <td id=\"T_b582a_row3_col11\" class=\"data row3 col11\" >-0.226487</td>\n",
       "      <td id=\"T_b582a_row3_col12\" class=\"data row3 col12\" >0.178228</td>\n",
       "      <td id=\"T_b582a_row3_col13\" class=\"data row3 col13\" >0.507757</td>\n",
       "      <td id=\"T_b582a_row3_col14\" class=\"data row3 col14\" >-0.287924</td>\n",
       "      <td id=\"T_b582a_row3_col15\" class=\"data row3 col15\" >-0.631418</td>\n",
       "      <td id=\"T_b582a_row3_col16\" class=\"data row3 col16\" >-1.059647</td>\n",
       "      <td id=\"T_b582a_row3_col17\" class=\"data row3 col17\" >-0.684093</td>\n",
       "      <td id=\"T_b582a_row3_col18\" class=\"data row3 col18\" >1.965775</td>\n",
       "      <td id=\"T_b582a_row3_col19\" class=\"data row3 col19\" >-1.232622</td>\n",
       "      <td id=\"T_b582a_row3_col20\" class=\"data row3 col20\" >-0.208038</td>\n",
       "      <td id=\"T_b582a_row3_col21\" class=\"data row3 col21\" >-0.108300</td>\n",
       "      <td id=\"T_b582a_row3_col22\" class=\"data row3 col22\" >0.005274</td>\n",
       "      <td id=\"T_b582a_row3_col23\" class=\"data row3 col23\" >-0.190321</td>\n",
       "      <td id=\"T_b582a_row3_col24\" class=\"data row3 col24\" >-1.175575</td>\n",
       "      <td id=\"T_b582a_row3_col25\" class=\"data row3 col25\" >0.647376</td>\n",
       "      <td id=\"T_b582a_row3_col26\" class=\"data row3 col26\" >-0.221929</td>\n",
       "      <td id=\"T_b582a_row3_col27\" class=\"data row3 col27\" >0.062723</td>\n",
       "      <td id=\"T_b582a_row3_col28\" class=\"data row3 col28\" >0.061458</td>\n",
       "      <td id=\"T_b582a_row3_col29\" class=\"data row3 col29\" >123.500000</td>\n",
       "      <td id=\"T_b582a_row3_col30\" class=\"data row3 col30\" >0</td>\n",
       "    </tr>\n",
       "    <tr>\n",
       "      <th id=\"T_b582a_level0_row4\" class=\"row_heading level0 row4\" >4</th>\n",
       "      <td id=\"T_b582a_row4_col0\" class=\"data row4 col0\" >2.000000</td>\n",
       "      <td id=\"T_b582a_row4_col1\" class=\"data row4 col1\" >-1.158233</td>\n",
       "      <td id=\"T_b582a_row4_col2\" class=\"data row4 col2\" >0.877737</td>\n",
       "      <td id=\"T_b582a_row4_col3\" class=\"data row4 col3\" >1.548718</td>\n",
       "      <td id=\"T_b582a_row4_col4\" class=\"data row4 col4\" >0.403034</td>\n",
       "      <td id=\"T_b582a_row4_col5\" class=\"data row4 col5\" >-0.407193</td>\n",
       "      <td id=\"T_b582a_row4_col6\" class=\"data row4 col6\" >0.095921</td>\n",
       "      <td id=\"T_b582a_row4_col7\" class=\"data row4 col7\" >0.592941</td>\n",
       "      <td id=\"T_b582a_row4_col8\" class=\"data row4 col8\" >-0.270533</td>\n",
       "      <td id=\"T_b582a_row4_col9\" class=\"data row4 col9\" >0.817739</td>\n",
       "      <td id=\"T_b582a_row4_col10\" class=\"data row4 col10\" >0.753074</td>\n",
       "      <td id=\"T_b582a_row4_col11\" class=\"data row4 col11\" >-0.822843</td>\n",
       "      <td id=\"T_b582a_row4_col12\" class=\"data row4 col12\" >0.538196</td>\n",
       "      <td id=\"T_b582a_row4_col13\" class=\"data row4 col13\" >1.345852</td>\n",
       "      <td id=\"T_b582a_row4_col14\" class=\"data row4 col14\" >-1.119670</td>\n",
       "      <td id=\"T_b582a_row4_col15\" class=\"data row4 col15\" >0.175121</td>\n",
       "      <td id=\"T_b582a_row4_col16\" class=\"data row4 col16\" >-0.451449</td>\n",
       "      <td id=\"T_b582a_row4_col17\" class=\"data row4 col17\" >-0.237033</td>\n",
       "      <td id=\"T_b582a_row4_col18\" class=\"data row4 col18\" >-0.038195</td>\n",
       "      <td id=\"T_b582a_row4_col19\" class=\"data row4 col19\" >0.803487</td>\n",
       "      <td id=\"T_b582a_row4_col20\" class=\"data row4 col20\" >0.408542</td>\n",
       "      <td id=\"T_b582a_row4_col21\" class=\"data row4 col21\" >-0.009431</td>\n",
       "      <td id=\"T_b582a_row4_col22\" class=\"data row4 col22\" >0.798278</td>\n",
       "      <td id=\"T_b582a_row4_col23\" class=\"data row4 col23\" >-0.137458</td>\n",
       "      <td id=\"T_b582a_row4_col24\" class=\"data row4 col24\" >0.141267</td>\n",
       "      <td id=\"T_b582a_row4_col25\" class=\"data row4 col25\" >-0.206010</td>\n",
       "      <td id=\"T_b582a_row4_col26\" class=\"data row4 col26\" >0.502292</td>\n",
       "      <td id=\"T_b582a_row4_col27\" class=\"data row4 col27\" >0.219422</td>\n",
       "      <td id=\"T_b582a_row4_col28\" class=\"data row4 col28\" >0.215153</td>\n",
       "      <td id=\"T_b582a_row4_col29\" class=\"data row4 col29\" >69.990000</td>\n",
       "      <td id=\"T_b582a_row4_col30\" class=\"data row4 col30\" >0</td>\n",
       "    </tr>\n",
       "  </tbody>\n",
       "</table>\n"
      ],
      "text/plain": [
       "<pandas.io.formats.style.Styler at 0x1aa56012fd0>"
      ]
     },
     "execution_count": 6,
     "metadata": {},
     "output_type": "execute_result"
    }
   ],
   "source": [
    "cd.head().style.background_gradient()"
   ]
  },
  {
   "cell_type": "code",
   "execution_count": 7,
   "id": "3b7c56a8",
   "metadata": {},
   "outputs": [
    {
     "data": {
      "text/html": [
       "<style type=\"text/css\">\n",
       "#T_60dc6_row0_col0, #T_60dc6_row0_col1, #T_60dc6_row0_col3, #T_60dc6_row0_col4, #T_60dc6_row0_col5, #T_60dc6_row0_col6, #T_60dc6_row0_col7, #T_60dc6_row0_col15, #T_60dc6_row0_col21, #T_60dc6_row0_col22, #T_60dc6_row0_col29, #T_60dc6_row0_col30, #T_60dc6_row1_col10, #T_60dc6_row1_col14, #T_60dc6_row1_col16, #T_60dc6_row1_col18, #T_60dc6_row1_col19, #T_60dc6_row1_col24, #T_60dc6_row1_col25, #T_60dc6_row1_col28, #T_60dc6_row1_col30, #T_60dc6_row2_col2, #T_60dc6_row2_col20, #T_60dc6_row2_col30, #T_60dc6_row3_col9, #T_60dc6_row3_col11, #T_60dc6_row3_col12, #T_60dc6_row3_col13, #T_60dc6_row3_col23, #T_60dc6_row3_col30, #T_60dc6_row4_col8, #T_60dc6_row4_col17, #T_60dc6_row4_col26, #T_60dc6_row4_col27, #T_60dc6_row4_col30 {\n",
       "  background-color: #fff7fb;\n",
       "  color: #000000;\n",
       "}\n",
       "#T_60dc6_row0_col2, #T_60dc6_row0_col8, #T_60dc6_row0_col9, #T_60dc6_row0_col10, #T_60dc6_row0_col12, #T_60dc6_row0_col14, #T_60dc6_row0_col16, #T_60dc6_row0_col17, #T_60dc6_row0_col20, #T_60dc6_row0_col23, #T_60dc6_row0_col25, #T_60dc6_row0_col27, #T_60dc6_row0_col28, #T_60dc6_row1_col3, #T_60dc6_row1_col13, #T_60dc6_row1_col22, #T_60dc6_row2_col1, #T_60dc6_row2_col5, #T_60dc6_row2_col6, #T_60dc6_row2_col11, #T_60dc6_row2_col24, #T_60dc6_row3_col4, #T_60dc6_row3_col15, #T_60dc6_row3_col18, #T_60dc6_row3_col19, #T_60dc6_row3_col21, #T_60dc6_row3_col26, #T_60dc6_row4_col0, #T_60dc6_row4_col7, #T_60dc6_row4_col29 {\n",
       "  background-color: #023858;\n",
       "  color: #f1f1f1;\n",
       "}\n",
       "#T_60dc6_row0_col11, #T_60dc6_row1_col23, #T_60dc6_row2_col8 {\n",
       "  background-color: #e7e3f0;\n",
       "  color: #000000;\n",
       "}\n",
       "#T_60dc6_row0_col13 {\n",
       "  background-color: #e5e1ef;\n",
       "  color: #000000;\n",
       "}\n",
       "#T_60dc6_row0_col18 {\n",
       "  background-color: #0872b1;\n",
       "  color: #f1f1f1;\n",
       "}\n",
       "#T_60dc6_row0_col19 {\n",
       "  background-color: #dddbec;\n",
       "  color: #000000;\n",
       "}\n",
       "#T_60dc6_row0_col24 {\n",
       "  background-color: #bdc8e1;\n",
       "  color: #000000;\n",
       "}\n",
       "#T_60dc6_row0_col26 {\n",
       "  background-color: #056aa6;\n",
       "  color: #f1f1f1;\n",
       "}\n",
       "#T_60dc6_row1_col0 {\n",
       "  background-color: #e3e0ee;\n",
       "  color: #000000;\n",
       "}\n",
       "#T_60dc6_row1_col1 {\n",
       "  background-color: #0566a0;\n",
       "  color: #f1f1f1;\n",
       "}\n",
       "#T_60dc6_row1_col2, #T_60dc6_row2_col9 {\n",
       "  background-color: #fbf4f9;\n",
       "  color: #000000;\n",
       "}\n",
       "#T_60dc6_row1_col4 {\n",
       "  background-color: #7bacd1;\n",
       "  color: #f1f1f1;\n",
       "}\n",
       "#T_60dc6_row1_col5, #T_60dc6_row2_col15 {\n",
       "  background-color: #056ba7;\n",
       "  color: #f1f1f1;\n",
       "}\n",
       "#T_60dc6_row1_col6, #T_60dc6_row3_col7 {\n",
       "  background-color: #2c89bd;\n",
       "  color: #f1f1f1;\n",
       "}\n",
       "#T_60dc6_row1_col7, #T_60dc6_row1_col11 {\n",
       "  background-color: #056ead;\n",
       "  color: #f1f1f1;\n",
       "}\n",
       "#T_60dc6_row1_col8, #T_60dc6_row2_col10 {\n",
       "  background-color: #f1ebf5;\n",
       "  color: #000000;\n",
       "}\n",
       "#T_60dc6_row1_col9 {\n",
       "  background-color: #ece7f2;\n",
       "  color: #000000;\n",
       "}\n",
       "#T_60dc6_row1_col12 {\n",
       "  background-color: #6fa7ce;\n",
       "  color: #f1f1f1;\n",
       "}\n",
       "#T_60dc6_row1_col15 {\n",
       "  background-color: #0f76b3;\n",
       "  color: #f1f1f1;\n",
       "}\n",
       "#T_60dc6_row1_col17 {\n",
       "  background-color: #d2d3e7;\n",
       "  color: #000000;\n",
       "}\n",
       "#T_60dc6_row1_col20, #T_60dc6_row3_col29 {\n",
       "  background-color: #f9f2f8;\n",
       "  color: #000000;\n",
       "}\n",
       "#T_60dc6_row1_col21, #T_60dc6_row3_col25 {\n",
       "  background-color: #fdf5fa;\n",
       "  color: #000000;\n",
       "}\n",
       "#T_60dc6_row1_col26, #T_60dc6_row2_col29 {\n",
       "  background-color: #bcc7e1;\n",
       "  color: #000000;\n",
       "}\n",
       "#T_60dc6_row1_col27, #T_60dc6_row4_col28 {\n",
       "  background-color: #f4edf6;\n",
       "  color: #000000;\n",
       "}\n",
       "#T_60dc6_row1_col29, #T_60dc6_row4_col14 {\n",
       "  background-color: #eee9f3;\n",
       "  color: #000000;\n",
       "}\n",
       "#T_60dc6_row2_col0, #T_60dc6_row3_col0, #T_60dc6_row4_col15 {\n",
       "  background-color: #b4c4df;\n",
       "  color: #000000;\n",
       "}\n",
       "#T_60dc6_row2_col3 {\n",
       "  background-color: #589ec8;\n",
       "  color: #f1f1f1;\n",
       "}\n",
       "#T_60dc6_row2_col4 {\n",
       "  background-color: #5c9fc9;\n",
       "  color: #f1f1f1;\n",
       "}\n",
       "#T_60dc6_row2_col7 {\n",
       "  background-color: #1379b5;\n",
       "  color: #f1f1f1;\n",
       "}\n",
       "#T_60dc6_row2_col12 {\n",
       "  background-color: #c6cce3;\n",
       "  color: #000000;\n",
       "}\n",
       "#T_60dc6_row2_col13, #T_60dc6_row4_col11 {\n",
       "  background-color: #a4bcda;\n",
       "  color: #000000;\n",
       "}\n",
       "#T_60dc6_row2_col14, #T_60dc6_row2_col28 {\n",
       "  background-color: #fbf3f9;\n",
       "  color: #000000;\n",
       "}\n",
       "#T_60dc6_row2_col16 {\n",
       "  background-color: #81aed2;\n",
       "  color: #f1f1f1;\n",
       "}\n",
       "#T_60dc6_row2_col17 {\n",
       "  background-color: #a8bedc;\n",
       "  color: #000000;\n",
       "}\n",
       "#T_60dc6_row2_col18 {\n",
       "  background-color: #1b7eb7;\n",
       "  color: #f1f1f1;\n",
       "}\n",
       "#T_60dc6_row2_col19 {\n",
       "  background-color: #d8d7e9;\n",
       "  color: #000000;\n",
       "}\n",
       "#T_60dc6_row2_col21 {\n",
       "  background-color: #acc0dd;\n",
       "  color: #000000;\n",
       "}\n",
       "#T_60dc6_row2_col22, #T_60dc6_row3_col6 {\n",
       "  background-color: #509ac6;\n",
       "  color: #f1f1f1;\n",
       "}\n",
       "#T_60dc6_row2_col23, #T_60dc6_row3_col10 {\n",
       "  background-color: #efe9f3;\n",
       "  color: #000000;\n",
       "}\n",
       "#T_60dc6_row2_col25 {\n",
       "  background-color: #91b5d6;\n",
       "  color: #000000;\n",
       "}\n",
       "#T_60dc6_row2_col26 {\n",
       "  background-color: #62a2cb;\n",
       "  color: #f1f1f1;\n",
       "}\n",
       "#T_60dc6_row2_col27 {\n",
       "  background-color: #fef6fb;\n",
       "  color: #000000;\n",
       "}\n",
       "#T_60dc6_row3_col1 {\n",
       "  background-color: #046096;\n",
       "  color: #f1f1f1;\n",
       "}\n",
       "#T_60dc6_row3_col2 {\n",
       "  background-color: #f3edf5;\n",
       "  color: #000000;\n",
       "}\n",
       "#T_60dc6_row3_col3, #T_60dc6_row4_col3 {\n",
       "  background-color: #045687;\n",
       "  color: #f1f1f1;\n",
       "}\n",
       "#T_60dc6_row3_col5 {\n",
       "  background-color: #3790c0;\n",
       "  color: #f1f1f1;\n",
       "}\n",
       "#T_60dc6_row3_col8 {\n",
       "  background-color: #e8e4f0;\n",
       "  color: #000000;\n",
       "}\n",
       "#T_60dc6_row3_col14 {\n",
       "  background-color: #d9d8ea;\n",
       "  color: #000000;\n",
       "}\n",
       "#T_60dc6_row3_col16 {\n",
       "  background-color: #f7f0f7;\n",
       "  color: #000000;\n",
       "}\n",
       "#T_60dc6_row3_col17 {\n",
       "  background-color: #8cb3d5;\n",
       "  color: #000000;\n",
       "}\n",
       "#T_60dc6_row3_col20 {\n",
       "  background-color: #f2ecf5;\n",
       "  color: #000000;\n",
       "}\n",
       "#T_60dc6_row3_col22 {\n",
       "  background-color: #045f95;\n",
       "  color: #f1f1f1;\n",
       "}\n",
       "#T_60dc6_row3_col24 {\n",
       "  background-color: #1c7fb8;\n",
       "  color: #f1f1f1;\n",
       "}\n",
       "#T_60dc6_row3_col27 {\n",
       "  background-color: #ede8f3;\n",
       "  color: #000000;\n",
       "}\n",
       "#T_60dc6_row3_col28 {\n",
       "  background-color: #e0dded;\n",
       "  color: #000000;\n",
       "}\n",
       "#T_60dc6_row4_col1 {\n",
       "  background-color: #04639b;\n",
       "  color: #f1f1f1;\n",
       "}\n",
       "#T_60dc6_row4_col2, #T_60dc6_row4_col10 {\n",
       "  background-color: #fef6fa;\n",
       "  color: #000000;\n",
       "}\n",
       "#T_60dc6_row4_col4 {\n",
       "  background-color: #549cc7;\n",
       "  color: #f1f1f1;\n",
       "}\n",
       "#T_60dc6_row4_col5 {\n",
       "  background-color: #2484ba;\n",
       "  color: #f1f1f1;\n",
       "}\n",
       "#T_60dc6_row4_col6 {\n",
       "  background-color: #b0c2de;\n",
       "  color: #000000;\n",
       "}\n",
       "#T_60dc6_row4_col9 {\n",
       "  background-color: #f6eff7;\n",
       "  color: #000000;\n",
       "}\n",
       "#T_60dc6_row4_col12 {\n",
       "  background-color: #d0d1e6;\n",
       "  color: #000000;\n",
       "}\n",
       "#T_60dc6_row4_col13 {\n",
       "  background-color: #a5bddb;\n",
       "  color: #000000;\n",
       "}\n",
       "#T_60dc6_row4_col16 {\n",
       "  background-color: #d6d6e9;\n",
       "  color: #000000;\n",
       "}\n",
       "#T_60dc6_row4_col18 {\n",
       "  background-color: #4496c3;\n",
       "  color: #f1f1f1;\n",
       "}\n",
       "#T_60dc6_row4_col19 {\n",
       "  background-color: #c2cbe2;\n",
       "  color: #000000;\n",
       "}\n",
       "#T_60dc6_row4_col20 {\n",
       "  background-color: #cdd0e5;\n",
       "  color: #000000;\n",
       "}\n",
       "#T_60dc6_row4_col21 {\n",
       "  background-color: #034d79;\n",
       "  color: #f1f1f1;\n",
       "}\n",
       "#T_60dc6_row4_col22 {\n",
       "  background-color: #2a88bc;\n",
       "  color: #f1f1f1;\n",
       "}\n",
       "#T_60dc6_row4_col23 {\n",
       "  background-color: #84b0d3;\n",
       "  color: #f1f1f1;\n",
       "}\n",
       "#T_60dc6_row4_col24 {\n",
       "  background-color: #3991c1;\n",
       "  color: #f1f1f1;\n",
       "}\n",
       "#T_60dc6_row4_col25 {\n",
       "  background-color: #f5eff6;\n",
       "  color: #000000;\n",
       "}\n",
       "</style>\n",
       "<table id=\"T_60dc6_\">\n",
       "  <thead>\n",
       "    <tr>\n",
       "      <th class=\"blank level0\" >&nbsp;</th>\n",
       "      <th class=\"col_heading level0 col0\" >Time</th>\n",
       "      <th class=\"col_heading level0 col1\" >V1</th>\n",
       "      <th class=\"col_heading level0 col2\" >V2</th>\n",
       "      <th class=\"col_heading level0 col3\" >V3</th>\n",
       "      <th class=\"col_heading level0 col4\" >V4</th>\n",
       "      <th class=\"col_heading level0 col5\" >V5</th>\n",
       "      <th class=\"col_heading level0 col6\" >V6</th>\n",
       "      <th class=\"col_heading level0 col7\" >V7</th>\n",
       "      <th class=\"col_heading level0 col8\" >V8</th>\n",
       "      <th class=\"col_heading level0 col9\" >V9</th>\n",
       "      <th class=\"col_heading level0 col10\" >V10</th>\n",
       "      <th class=\"col_heading level0 col11\" >V11</th>\n",
       "      <th class=\"col_heading level0 col12\" >V12</th>\n",
       "      <th class=\"col_heading level0 col13\" >V13</th>\n",
       "      <th class=\"col_heading level0 col14\" >V14</th>\n",
       "      <th class=\"col_heading level0 col15\" >V15</th>\n",
       "      <th class=\"col_heading level0 col16\" >V16</th>\n",
       "      <th class=\"col_heading level0 col17\" >V17</th>\n",
       "      <th class=\"col_heading level0 col18\" >V18</th>\n",
       "      <th class=\"col_heading level0 col19\" >V19</th>\n",
       "      <th class=\"col_heading level0 col20\" >V20</th>\n",
       "      <th class=\"col_heading level0 col21\" >V21</th>\n",
       "      <th class=\"col_heading level0 col22\" >V22</th>\n",
       "      <th class=\"col_heading level0 col23\" >V23</th>\n",
       "      <th class=\"col_heading level0 col24\" >V24</th>\n",
       "      <th class=\"col_heading level0 col25\" >V25</th>\n",
       "      <th class=\"col_heading level0 col26\" >V26</th>\n",
       "      <th class=\"col_heading level0 col27\" >V27</th>\n",
       "      <th class=\"col_heading level0 col28\" >V28</th>\n",
       "      <th class=\"col_heading level0 col29\" >Amount</th>\n",
       "      <th class=\"col_heading level0 col30\" >Class</th>\n",
       "    </tr>\n",
       "  </thead>\n",
       "  <tbody>\n",
       "    <tr>\n",
       "      <th id=\"T_60dc6_level0_row0\" class=\"row_heading level0 row0\" >284802</th>\n",
       "      <td id=\"T_60dc6_row0_col0\" class=\"data row0 col0\" >172786.000000</td>\n",
       "      <td id=\"T_60dc6_row0_col1\" class=\"data row0 col1\" >-11.881118</td>\n",
       "      <td id=\"T_60dc6_row0_col2\" class=\"data row0 col2\" >10.071785</td>\n",
       "      <td id=\"T_60dc6_row0_col3\" class=\"data row0 col3\" >-9.834783</td>\n",
       "      <td id=\"T_60dc6_row0_col4\" class=\"data row0 col4\" >-2.066656</td>\n",
       "      <td id=\"T_60dc6_row0_col5\" class=\"data row0 col5\" >-5.364473</td>\n",
       "      <td id=\"T_60dc6_row0_col6\" class=\"data row0 col6\" >-2.606837</td>\n",
       "      <td id=\"T_60dc6_row0_col7\" class=\"data row0 col7\" >-4.918215</td>\n",
       "      <td id=\"T_60dc6_row0_col8\" class=\"data row0 col8\" >7.305334</td>\n",
       "      <td id=\"T_60dc6_row0_col9\" class=\"data row0 col9\" >1.914428</td>\n",
       "      <td id=\"T_60dc6_row0_col10\" class=\"data row0 col10\" >4.356170</td>\n",
       "      <td id=\"T_60dc6_row0_col11\" class=\"data row0 col11\" >-1.593105</td>\n",
       "      <td id=\"T_60dc6_row0_col12\" class=\"data row0 col12\" >2.711941</td>\n",
       "      <td id=\"T_60dc6_row0_col13\" class=\"data row0 col13\" >-0.689256</td>\n",
       "      <td id=\"T_60dc6_row0_col14\" class=\"data row0 col14\" >4.626942</td>\n",
       "      <td id=\"T_60dc6_row0_col15\" class=\"data row0 col15\" >-0.924459</td>\n",
       "      <td id=\"T_60dc6_row0_col16\" class=\"data row0 col16\" >1.107641</td>\n",
       "      <td id=\"T_60dc6_row0_col17\" class=\"data row0 col17\" >1.991691</td>\n",
       "      <td id=\"T_60dc6_row0_col18\" class=\"data row0 col18\" >0.510632</td>\n",
       "      <td id=\"T_60dc6_row0_col19\" class=\"data row0 col19\" >-0.682920</td>\n",
       "      <td id=\"T_60dc6_row0_col20\" class=\"data row0 col20\" >1.475829</td>\n",
       "      <td id=\"T_60dc6_row0_col21\" class=\"data row0 col21\" >0.213454</td>\n",
       "      <td id=\"T_60dc6_row0_col22\" class=\"data row0 col22\" >0.111864</td>\n",
       "      <td id=\"T_60dc6_row0_col23\" class=\"data row0 col23\" >1.014480</td>\n",
       "      <td id=\"T_60dc6_row0_col24\" class=\"data row0 col24\" >-0.509348</td>\n",
       "      <td id=\"T_60dc6_row0_col25\" class=\"data row0 col25\" >1.436807</td>\n",
       "      <td id=\"T_60dc6_row0_col26\" class=\"data row0 col26\" >0.250034</td>\n",
       "      <td id=\"T_60dc6_row0_col27\" class=\"data row0 col27\" >0.943651</td>\n",
       "      <td id=\"T_60dc6_row0_col28\" class=\"data row0 col28\" >0.823731</td>\n",
       "      <td id=\"T_60dc6_row0_col29\" class=\"data row0 col29\" >0.770000</td>\n",
       "      <td id=\"T_60dc6_row0_col30\" class=\"data row0 col30\" >0</td>\n",
       "    </tr>\n",
       "    <tr>\n",
       "      <th id=\"T_60dc6_level0_row1\" class=\"row_heading level0 row1\" >284803</th>\n",
       "      <td id=\"T_60dc6_row1_col0\" class=\"data row1 col0\" >172787.000000</td>\n",
       "      <td id=\"T_60dc6_row1_col1\" class=\"data row1 col1\" >-0.732789</td>\n",
       "      <td id=\"T_60dc6_row1_col2\" class=\"data row1 col2\" >-0.055080</td>\n",
       "      <td id=\"T_60dc6_row1_col3\" class=\"data row1 col3\" >2.035030</td>\n",
       "      <td id=\"T_60dc6_row1_col4\" class=\"data row1 col4\" >-0.738589</td>\n",
       "      <td id=\"T_60dc6_row1_col5\" class=\"data row1 col5\" >0.868229</td>\n",
       "      <td id=\"T_60dc6_row1_col6\" class=\"data row1 col6\" >1.058415</td>\n",
       "      <td id=\"T_60dc6_row1_col7\" class=\"data row1 col7\" >0.024330</td>\n",
       "      <td id=\"T_60dc6_row1_col8\" class=\"data row1 col8\" >0.294869</td>\n",
       "      <td id=\"T_60dc6_row1_col9\" class=\"data row1 col9\" >0.584800</td>\n",
       "      <td id=\"T_60dc6_row1_col10\" class=\"data row1 col10\" >-0.975926</td>\n",
       "      <td id=\"T_60dc6_row1_col11\" class=\"data row1 col11\" >-0.150189</td>\n",
       "      <td id=\"T_60dc6_row1_col12\" class=\"data row1 col12\" >0.915802</td>\n",
       "      <td id=\"T_60dc6_row1_col13\" class=\"data row1 col13\" >1.214756</td>\n",
       "      <td id=\"T_60dc6_row1_col14\" class=\"data row1 col14\" >-0.675143</td>\n",
       "      <td id=\"T_60dc6_row1_col15\" class=\"data row1 col15\" >1.164931</td>\n",
       "      <td id=\"T_60dc6_row1_col16\" class=\"data row1 col16\" >-0.711757</td>\n",
       "      <td id=\"T_60dc6_row1_col17\" class=\"data row1 col17\" >-0.025693</td>\n",
       "      <td id=\"T_60dc6_row1_col18\" class=\"data row1 col18\" >-1.221179</td>\n",
       "      <td id=\"T_60dc6_row1_col19\" class=\"data row1 col19\" >-1.545556</td>\n",
       "      <td id=\"T_60dc6_row1_col20\" class=\"data row1 col20\" >0.059616</td>\n",
       "      <td id=\"T_60dc6_row1_col21\" class=\"data row1 col21\" >0.214205</td>\n",
       "      <td id=\"T_60dc6_row1_col22\" class=\"data row1 col22\" >0.924384</td>\n",
       "      <td id=\"T_60dc6_row1_col23\" class=\"data row1 col23\" >0.012463</td>\n",
       "      <td id=\"T_60dc6_row1_col24\" class=\"data row1 col24\" >-1.016226</td>\n",
       "      <td id=\"T_60dc6_row1_col25\" class=\"data row1 col25\" >-0.606624</td>\n",
       "      <td id=\"T_60dc6_row1_col26\" class=\"data row1 col26\" >-0.395255</td>\n",
       "      <td id=\"T_60dc6_row1_col27\" class=\"data row1 col27\" >0.068472</td>\n",
       "      <td id=\"T_60dc6_row1_col28\" class=\"data row1 col28\" >-0.053527</td>\n",
       "      <td id=\"T_60dc6_row1_col29\" class=\"data row1 col29\" >24.790000</td>\n",
       "      <td id=\"T_60dc6_row1_col30\" class=\"data row1 col30\" >0</td>\n",
       "    </tr>\n",
       "    <tr>\n",
       "      <th id=\"T_60dc6_level0_row2\" class=\"row_heading level0 row2\" >284804</th>\n",
       "      <td id=\"T_60dc6_row2_col0\" class=\"data row2 col0\" >172788.000000</td>\n",
       "      <td id=\"T_60dc6_row2_col1\" class=\"data row2 col1\" >1.919565</td>\n",
       "      <td id=\"T_60dc6_row2_col2\" class=\"data row2 col2\" >-0.301254</td>\n",
       "      <td id=\"T_60dc6_row2_col3\" class=\"data row2 col3\" >-3.249640</td>\n",
       "      <td id=\"T_60dc6_row2_col4\" class=\"data row2 col4\" >-0.557828</td>\n",
       "      <td id=\"T_60dc6_row2_col5\" class=\"data row2 col5\" >2.630515</td>\n",
       "      <td id=\"T_60dc6_row2_col6\" class=\"data row2 col6\" >3.031260</td>\n",
       "      <td id=\"T_60dc6_row2_col7\" class=\"data row2 col7\" >-0.296827</td>\n",
       "      <td id=\"T_60dc6_row2_col8\" class=\"data row2 col8\" >0.708417</td>\n",
       "      <td id=\"T_60dc6_row2_col9\" class=\"data row2 col9\" >0.432454</td>\n",
       "      <td id=\"T_60dc6_row2_col10\" class=\"data row2 col10\" >-0.484782</td>\n",
       "      <td id=\"T_60dc6_row2_col11\" class=\"data row2 col11\" >0.411614</td>\n",
       "      <td id=\"T_60dc6_row2_col12\" class=\"data row2 col12\" >0.063119</td>\n",
       "      <td id=\"T_60dc6_row2_col13\" class=\"data row2 col13\" >-0.183699</td>\n",
       "      <td id=\"T_60dc6_row2_col14\" class=\"data row2 col14\" >-0.510602</td>\n",
       "      <td id=\"T_60dc6_row2_col15\" class=\"data row2 col15\" >1.329284</td>\n",
       "      <td id=\"T_60dc6_row2_col16\" class=\"data row2 col16\" >0.140716</td>\n",
       "      <td id=\"T_60dc6_row2_col17\" class=\"data row2 col17\" >0.313502</td>\n",
       "      <td id=\"T_60dc6_row2_col18\" class=\"data row2 col18\" >0.395652</td>\n",
       "      <td id=\"T_60dc6_row2_col19\" class=\"data row2 col19\" >-0.577252</td>\n",
       "      <td id=\"T_60dc6_row2_col20\" class=\"data row2 col20\" >0.001396</td>\n",
       "      <td id=\"T_60dc6_row2_col21\" class=\"data row2 col21\" >0.232045</td>\n",
       "      <td id=\"T_60dc6_row2_col22\" class=\"data row2 col22\" >0.578229</td>\n",
       "      <td id=\"T_60dc6_row2_col23\" class=\"data row2 col23\" >-0.037501</td>\n",
       "      <td id=\"T_60dc6_row2_col24\" class=\"data row2 col24\" >0.640134</td>\n",
       "      <td id=\"T_60dc6_row2_col25\" class=\"data row2 col25\" >0.265745</td>\n",
       "      <td id=\"T_60dc6_row2_col26\" class=\"data row2 col26\" >-0.087371</td>\n",
       "      <td id=\"T_60dc6_row2_col27\" class=\"data row2 col27\" >0.004455</td>\n",
       "      <td id=\"T_60dc6_row2_col28\" class=\"data row2 col28\" >-0.026561</td>\n",
       "      <td id=\"T_60dc6_row2_col29\" class=\"data row2 col29\" >67.880000</td>\n",
       "      <td id=\"T_60dc6_row2_col30\" class=\"data row2 col30\" >0</td>\n",
       "    </tr>\n",
       "    <tr>\n",
       "      <th id=\"T_60dc6_level0_row3\" class=\"row_heading level0 row3\" >284805</th>\n",
       "      <td id=\"T_60dc6_row3_col0\" class=\"data row3 col0\" >172788.000000</td>\n",
       "      <td id=\"T_60dc6_row3_col1\" class=\"data row3 col1\" >-0.240440</td>\n",
       "      <td id=\"T_60dc6_row3_col2\" class=\"data row3 col2\" >0.530483</td>\n",
       "      <td id=\"T_60dc6_row3_col3\" class=\"data row3 col3\" >0.702510</td>\n",
       "      <td id=\"T_60dc6_row3_col4\" class=\"data row3 col4\" >0.689799</td>\n",
       "      <td id=\"T_60dc6_row3_col5\" class=\"data row3 col5\" >-0.377961</td>\n",
       "      <td id=\"T_60dc6_row3_col6\" class=\"data row3 col6\" >0.623708</td>\n",
       "      <td id=\"T_60dc6_row3_col7\" class=\"data row3 col7\" >-0.686180</td>\n",
       "      <td id=\"T_60dc6_row3_col8\" class=\"data row3 col8\" >0.679145</td>\n",
       "      <td id=\"T_60dc6_row3_col9\" class=\"data row3 col9\" >0.392087</td>\n",
       "      <td id=\"T_60dc6_row3_col10\" class=\"data row3 col10\" >-0.399126</td>\n",
       "      <td id=\"T_60dc6_row3_col11\" class=\"data row3 col11\" >-1.933849</td>\n",
       "      <td id=\"T_60dc6_row3_col12\" class=\"data row3 col12\" >-0.962886</td>\n",
       "      <td id=\"T_60dc6_row3_col13\" class=\"data row3 col13\" >-1.042082</td>\n",
       "      <td id=\"T_60dc6_row3_col14\" class=\"data row3 col14\" >0.449624</td>\n",
       "      <td id=\"T_60dc6_row3_col15\" class=\"data row3 col15\" >1.962563</td>\n",
       "      <td id=\"T_60dc6_row3_col16\" class=\"data row3 col16\" >-0.608577</td>\n",
       "      <td id=\"T_60dc6_row3_col17\" class=\"data row3 col17\" >0.509928</td>\n",
       "      <td id=\"T_60dc6_row3_col18\" class=\"data row3 col18\" >1.113981</td>\n",
       "      <td id=\"T_60dc6_row3_col19\" class=\"data row3 col19\" >2.897849</td>\n",
       "      <td id=\"T_60dc6_row3_col20\" class=\"data row3 col20\" >0.127434</td>\n",
       "      <td id=\"T_60dc6_row3_col21\" class=\"data row3 col21\" >0.265245</td>\n",
       "      <td id=\"T_60dc6_row3_col22\" class=\"data row3 col22\" >0.800049</td>\n",
       "      <td id=\"T_60dc6_row3_col23\" class=\"data row3 col23\" >-0.163298</td>\n",
       "      <td id=\"T_60dc6_row3_col24\" class=\"data row3 col24\" >0.123205</td>\n",
       "      <td id=\"T_60dc6_row3_col25\" class=\"data row3 col25\" >-0.569159</td>\n",
       "      <td id=\"T_60dc6_row3_col26\" class=\"data row3 col26\" >0.546668</td>\n",
       "      <td id=\"T_60dc6_row3_col27\" class=\"data row3 col27\" >0.108821</td>\n",
       "      <td id=\"T_60dc6_row3_col28\" class=\"data row3 col28\" >0.104533</td>\n",
       "      <td id=\"T_60dc6_row3_col29\" class=\"data row3 col29\" >10.000000</td>\n",
       "      <td id=\"T_60dc6_row3_col30\" class=\"data row3 col30\" >0</td>\n",
       "    </tr>\n",
       "    <tr>\n",
       "      <th id=\"T_60dc6_level0_row4\" class=\"row_heading level0 row4\" >284806</th>\n",
       "      <td id=\"T_60dc6_row4_col0\" class=\"data row4 col0\" >172792.000000</td>\n",
       "      <td id=\"T_60dc6_row4_col1\" class=\"data row4 col1\" >-0.533413</td>\n",
       "      <td id=\"T_60dc6_row4_col2\" class=\"data row4 col2\" >-0.189733</td>\n",
       "      <td id=\"T_60dc6_row4_col3\" class=\"data row4 col3\" >0.703337</td>\n",
       "      <td id=\"T_60dc6_row4_col4\" class=\"data row4 col4\" >-0.506271</td>\n",
       "      <td id=\"T_60dc6_row4_col5\" class=\"data row4 col5\" >-0.012546</td>\n",
       "      <td id=\"T_60dc6_row4_col6\" class=\"data row4 col6\" >-0.649617</td>\n",
       "      <td id=\"T_60dc6_row4_col7\" class=\"data row4 col7\" >1.577006</td>\n",
       "      <td id=\"T_60dc6_row4_col8\" class=\"data row4 col8\" >-0.414650</td>\n",
       "      <td id=\"T_60dc6_row4_col9\" class=\"data row4 col9\" >0.486180</td>\n",
       "      <td id=\"T_60dc6_row4_col10\" class=\"data row4 col10\" >-0.915427</td>\n",
       "      <td id=\"T_60dc6_row4_col11\" class=\"data row4 col11\" >-1.040458</td>\n",
       "      <td id=\"T_60dc6_row4_col12\" class=\"data row4 col12\" >-0.031513</td>\n",
       "      <td id=\"T_60dc6_row4_col13\" class=\"data row4 col13\" >-0.188093</td>\n",
       "      <td id=\"T_60dc6_row4_col14\" class=\"data row4 col14\" >-0.084316</td>\n",
       "      <td id=\"T_60dc6_row4_col15\" class=\"data row4 col15\" >0.041333</td>\n",
       "      <td id=\"T_60dc6_row4_col16\" class=\"data row4 col16\" >-0.302620</td>\n",
       "      <td id=\"T_60dc6_row4_col17\" class=\"data row4 col17\" >-0.660377</td>\n",
       "      <td id=\"T_60dc6_row4_col18\" class=\"data row4 col18\" >0.167430</td>\n",
       "      <td id=\"T_60dc6_row4_col19\" class=\"data row4 col19\" >-0.256117</td>\n",
       "      <td id=\"T_60dc6_row4_col20\" class=\"data row4 col20\" >0.382948</td>\n",
       "      <td id=\"T_60dc6_row4_col21\" class=\"data row4 col21\" >0.261057</td>\n",
       "      <td id=\"T_60dc6_row4_col22\" class=\"data row4 col22\" >0.643078</td>\n",
       "      <td id=\"T_60dc6_row4_col23\" class=\"data row4 col23\" >0.376777</td>\n",
       "      <td id=\"T_60dc6_row4_col24\" class=\"data row4 col24\" >0.008797</td>\n",
       "      <td id=\"T_60dc6_row4_col25\" class=\"data row4 col25\" >-0.473649</td>\n",
       "      <td id=\"T_60dc6_row4_col26\" class=\"data row4 col26\" >-0.818267</td>\n",
       "      <td id=\"T_60dc6_row4_col27\" class=\"data row4 col27\" >-0.002415</td>\n",
       "      <td id=\"T_60dc6_row4_col28\" class=\"data row4 col28\" >0.013649</td>\n",
       "      <td id=\"T_60dc6_row4_col29\" class=\"data row4 col29\" >217.000000</td>\n",
       "      <td id=\"T_60dc6_row4_col30\" class=\"data row4 col30\" >0</td>\n",
       "    </tr>\n",
       "  </tbody>\n",
       "</table>\n"
      ],
      "text/plain": [
       "<pandas.io.formats.style.Styler at 0x1aa5bac58e0>"
      ]
     },
     "execution_count": 7,
     "metadata": {},
     "output_type": "execute_result"
    }
   ],
   "source": [
    "cd.tail().style.background_gradient()"
   ]
  },
  {
   "cell_type": "code",
   "execution_count": 8,
   "id": "77fd8eae",
   "metadata": {},
   "outputs": [
    {
     "name": "stdout",
     "output_type": "stream",
     "text": [
      "<class 'pandas.core.frame.DataFrame'>\n",
      "RangeIndex: 284807 entries, 0 to 284806\n",
      "Data columns (total 31 columns):\n",
      " #   Column  Non-Null Count   Dtype  \n",
      "---  ------  --------------   -----  \n",
      " 0   Time    284807 non-null  float64\n",
      " 1   V1      284807 non-null  float64\n",
      " 2   V2      284807 non-null  float64\n",
      " 3   V3      284807 non-null  float64\n",
      " 4   V4      284807 non-null  float64\n",
      " 5   V5      284807 non-null  float64\n",
      " 6   V6      284807 non-null  float64\n",
      " 7   V7      284807 non-null  float64\n",
      " 8   V8      284807 non-null  float64\n",
      " 9   V9      284807 non-null  float64\n",
      " 10  V10     284807 non-null  float64\n",
      " 11  V11     284807 non-null  float64\n",
      " 12  V12     284807 non-null  float64\n",
      " 13  V13     284807 non-null  float64\n",
      " 14  V14     284807 non-null  float64\n",
      " 15  V15     284807 non-null  float64\n",
      " 16  V16     284807 non-null  float64\n",
      " 17  V17     284807 non-null  float64\n",
      " 18  V18     284807 non-null  float64\n",
      " 19  V19     284807 non-null  float64\n",
      " 20  V20     284807 non-null  float64\n",
      " 21  V21     284807 non-null  float64\n",
      " 22  V22     284807 non-null  float64\n",
      " 23  V23     284807 non-null  float64\n",
      " 24  V24     284807 non-null  float64\n",
      " 25  V25     284807 non-null  float64\n",
      " 26  V26     284807 non-null  float64\n",
      " 27  V27     284807 non-null  float64\n",
      " 28  V28     284807 non-null  float64\n",
      " 29  Amount  284807 non-null  float64\n",
      " 30  Class   284807 non-null  int64  \n",
      "dtypes: float64(30), int64(1)\n",
      "memory usage: 67.4 MB\n"
     ]
    }
   ],
   "source": [
    "cd.info()"
   ]
  },
  {
   "cell_type": "code",
   "execution_count": 9,
   "id": "70e864fd",
   "metadata": {},
   "outputs": [
    {
     "data": {
      "text/html": [
       "<style type=\"text/css\">\n",
       "#T_84d2d_row0_col0, #T_84d2d_row0_col1, #T_84d2d_row0_col2, #T_84d2d_row0_col3, #T_84d2d_row0_col4, #T_84d2d_row0_col5, #T_84d2d_row0_col6, #T_84d2d_row0_col7, #T_84d2d_row0_col8, #T_84d2d_row0_col9, #T_84d2d_row0_col10, #T_84d2d_row0_col11, #T_84d2d_row0_col12, #T_84d2d_row0_col13, #T_84d2d_row0_col14, #T_84d2d_row0_col15, #T_84d2d_row0_col16, #T_84d2d_row0_col17, #T_84d2d_row0_col18, #T_84d2d_row0_col19, #T_84d2d_row0_col20, #T_84d2d_row0_col21, #T_84d2d_row0_col22, #T_84d2d_row0_col23, #T_84d2d_row0_col24, #T_84d2d_row0_col25, #T_84d2d_row0_col26, #T_84d2d_row0_col27, #T_84d2d_row0_col28, #T_84d2d_row0_col29, #T_84d2d_row0_col30 {\n",
       "  background-color: #023858;\n",
       "  color: #f1f1f1;\n",
       "}\n",
       "#T_84d2d_row1_col0 {\n",
       "  background-color: #b4c4df;\n",
       "  color: #000000;\n",
       "}\n",
       "#T_84d2d_row1_col1, #T_84d2d_row1_col2, #T_84d2d_row1_col3, #T_84d2d_row1_col4, #T_84d2d_row1_col5, #T_84d2d_row1_col6, #T_84d2d_row1_col7, #T_84d2d_row1_col8, #T_84d2d_row1_col9, #T_84d2d_row1_col10, #T_84d2d_row1_col11, #T_84d2d_row1_col12, #T_84d2d_row1_col13, #T_84d2d_row1_col14, #T_84d2d_row1_col15, #T_84d2d_row1_col16, #T_84d2d_row1_col17, #T_84d2d_row1_col18, #T_84d2d_row1_col19, #T_84d2d_row1_col20, #T_84d2d_row1_col21, #T_84d2d_row1_col22, #T_84d2d_row1_col23, #T_84d2d_row1_col24, #T_84d2d_row1_col25, #T_84d2d_row1_col26, #T_84d2d_row1_col27, #T_84d2d_row1_col28, #T_84d2d_row1_col29, #T_84d2d_row1_col30, #T_84d2d_row2_col1, #T_84d2d_row2_col2, #T_84d2d_row2_col3, #T_84d2d_row2_col4, #T_84d2d_row2_col5, #T_84d2d_row2_col6, #T_84d2d_row2_col7, #T_84d2d_row2_col8, #T_84d2d_row2_col9, #T_84d2d_row2_col10, #T_84d2d_row2_col11, #T_84d2d_row2_col12, #T_84d2d_row2_col13, #T_84d2d_row2_col14, #T_84d2d_row2_col15, #T_84d2d_row2_col16, #T_84d2d_row2_col17, #T_84d2d_row2_col18, #T_84d2d_row2_col19, #T_84d2d_row2_col20, #T_84d2d_row2_col21, #T_84d2d_row2_col22, #T_84d2d_row2_col23, #T_84d2d_row2_col24, #T_84d2d_row2_col25, #T_84d2d_row2_col26, #T_84d2d_row2_col27, #T_84d2d_row2_col28, #T_84d2d_row2_col29, #T_84d2d_row2_col30, #T_84d2d_row3_col0, #T_84d2d_row3_col1, #T_84d2d_row3_col2, #T_84d2d_row3_col3, #T_84d2d_row3_col4, #T_84d2d_row3_col5, #T_84d2d_row3_col6, #T_84d2d_row3_col7, #T_84d2d_row3_col8, #T_84d2d_row3_col9, #T_84d2d_row3_col10, #T_84d2d_row3_col11, #T_84d2d_row3_col12, #T_84d2d_row3_col13, #T_84d2d_row3_col14, #T_84d2d_row3_col15, #T_84d2d_row3_col16, #T_84d2d_row3_col17, #T_84d2d_row3_col18, #T_84d2d_row3_col19, #T_84d2d_row3_col20, #T_84d2d_row3_col21, #T_84d2d_row3_col22, #T_84d2d_row3_col23, #T_84d2d_row3_col24, #T_84d2d_row3_col25, #T_84d2d_row3_col26, #T_84d2d_row3_col27, #T_84d2d_row3_col28, #T_84d2d_row3_col29, #T_84d2d_row3_col30, #T_84d2d_row4_col1, #T_84d2d_row4_col2, #T_84d2d_row4_col3, #T_84d2d_row4_col4, #T_84d2d_row4_col5, #T_84d2d_row4_col6, #T_84d2d_row4_col7, #T_84d2d_row4_col8, #T_84d2d_row4_col9, #T_84d2d_row4_col10, #T_84d2d_row4_col11, #T_84d2d_row4_col12, #T_84d2d_row4_col13, #T_84d2d_row4_col14, #T_84d2d_row4_col15, #T_84d2d_row4_col16, #T_84d2d_row4_col17, #T_84d2d_row4_col18, #T_84d2d_row4_col19, #T_84d2d_row4_col20, #T_84d2d_row4_col21, #T_84d2d_row4_col22, #T_84d2d_row4_col23, #T_84d2d_row4_col24, #T_84d2d_row4_col25, #T_84d2d_row4_col26, #T_84d2d_row4_col27, #T_84d2d_row4_col28, #T_84d2d_row4_col29, #T_84d2d_row4_col30, #T_84d2d_row5_col1, #T_84d2d_row5_col2, #T_84d2d_row5_col3, #T_84d2d_row5_col4, #T_84d2d_row5_col5, #T_84d2d_row5_col6, #T_84d2d_row5_col7, #T_84d2d_row5_col8, #T_84d2d_row5_col9, #T_84d2d_row5_col10, #T_84d2d_row5_col11, #T_84d2d_row5_col12, #T_84d2d_row5_col13, #T_84d2d_row5_col14, #T_84d2d_row5_col15, #T_84d2d_row5_col16, #T_84d2d_row5_col17, #T_84d2d_row5_col18, #T_84d2d_row5_col19, #T_84d2d_row5_col20, #T_84d2d_row5_col21, #T_84d2d_row5_col22, #T_84d2d_row5_col23, #T_84d2d_row5_col24, #T_84d2d_row5_col25, #T_84d2d_row5_col26, #T_84d2d_row5_col27, #T_84d2d_row5_col28, #T_84d2d_row5_col29, #T_84d2d_row5_col30, #T_84d2d_row6_col1, #T_84d2d_row6_col2, #T_84d2d_row6_col3, #T_84d2d_row6_col4, #T_84d2d_row6_col5, #T_84d2d_row6_col6, #T_84d2d_row6_col7, #T_84d2d_row6_col8, #T_84d2d_row6_col9, #T_84d2d_row6_col10, #T_84d2d_row6_col11, #T_84d2d_row6_col12, #T_84d2d_row6_col13, #T_84d2d_row6_col14, #T_84d2d_row6_col15, #T_84d2d_row6_col16, #T_84d2d_row6_col17, #T_84d2d_row6_col18, #T_84d2d_row6_col19, #T_84d2d_row6_col20, #T_84d2d_row6_col21, #T_84d2d_row6_col22, #T_84d2d_row6_col23, #T_84d2d_row6_col24, #T_84d2d_row6_col25, #T_84d2d_row6_col26, #T_84d2d_row6_col27, #T_84d2d_row6_col28, #T_84d2d_row6_col29, #T_84d2d_row6_col30, #T_84d2d_row7_col1, #T_84d2d_row7_col2, #T_84d2d_row7_col3, #T_84d2d_row7_col4, #T_84d2d_row7_col5, #T_84d2d_row7_col6, #T_84d2d_row7_col7, #T_84d2d_row7_col8, #T_84d2d_row7_col9, #T_84d2d_row7_col10, #T_84d2d_row7_col11, #T_84d2d_row7_col12, #T_84d2d_row7_col13, #T_84d2d_row7_col14, #T_84d2d_row7_col15, #T_84d2d_row7_col16, #T_84d2d_row7_col17, #T_84d2d_row7_col18, #T_84d2d_row7_col19, #T_84d2d_row7_col20, #T_84d2d_row7_col21, #T_84d2d_row7_col22, #T_84d2d_row7_col23, #T_84d2d_row7_col24, #T_84d2d_row7_col25, #T_84d2d_row7_col26, #T_84d2d_row7_col27, #T_84d2d_row7_col28, #T_84d2d_row7_col30 {\n",
       "  background-color: #fff7fb;\n",
       "  color: #000000;\n",
       "}\n",
       "#T_84d2d_row2_col0 {\n",
       "  background-color: #e3e0ee;\n",
       "  color: #000000;\n",
       "}\n",
       "#T_84d2d_row4_col0 {\n",
       "  background-color: #dedcec;\n",
       "  color: #000000;\n",
       "}\n",
       "#T_84d2d_row5_col0 {\n",
       "  background-color: #c0c9e2;\n",
       "  color: #000000;\n",
       "}\n",
       "#T_84d2d_row6_col0 {\n",
       "  background-color: #78abd0;\n",
       "  color: #f1f1f1;\n",
       "}\n",
       "#T_84d2d_row7_col0 {\n",
       "  background-color: #3f93c2;\n",
       "  color: #f1f1f1;\n",
       "}\n",
       "#T_84d2d_row7_col29 {\n",
       "  background-color: #f1ebf5;\n",
       "  color: #000000;\n",
       "}\n",
       "</style>\n",
       "<table id=\"T_84d2d_\">\n",
       "  <thead>\n",
       "    <tr>\n",
       "      <th class=\"blank level0\" >&nbsp;</th>\n",
       "      <th class=\"col_heading level0 col0\" >Time</th>\n",
       "      <th class=\"col_heading level0 col1\" >V1</th>\n",
       "      <th class=\"col_heading level0 col2\" >V2</th>\n",
       "      <th class=\"col_heading level0 col3\" >V3</th>\n",
       "      <th class=\"col_heading level0 col4\" >V4</th>\n",
       "      <th class=\"col_heading level0 col5\" >V5</th>\n",
       "      <th class=\"col_heading level0 col6\" >V6</th>\n",
       "      <th class=\"col_heading level0 col7\" >V7</th>\n",
       "      <th class=\"col_heading level0 col8\" >V8</th>\n",
       "      <th class=\"col_heading level0 col9\" >V9</th>\n",
       "      <th class=\"col_heading level0 col10\" >V10</th>\n",
       "      <th class=\"col_heading level0 col11\" >V11</th>\n",
       "      <th class=\"col_heading level0 col12\" >V12</th>\n",
       "      <th class=\"col_heading level0 col13\" >V13</th>\n",
       "      <th class=\"col_heading level0 col14\" >V14</th>\n",
       "      <th class=\"col_heading level0 col15\" >V15</th>\n",
       "      <th class=\"col_heading level0 col16\" >V16</th>\n",
       "      <th class=\"col_heading level0 col17\" >V17</th>\n",
       "      <th class=\"col_heading level0 col18\" >V18</th>\n",
       "      <th class=\"col_heading level0 col19\" >V19</th>\n",
       "      <th class=\"col_heading level0 col20\" >V20</th>\n",
       "      <th class=\"col_heading level0 col21\" >V21</th>\n",
       "      <th class=\"col_heading level0 col22\" >V22</th>\n",
       "      <th class=\"col_heading level0 col23\" >V23</th>\n",
       "      <th class=\"col_heading level0 col24\" >V24</th>\n",
       "      <th class=\"col_heading level0 col25\" >V25</th>\n",
       "      <th class=\"col_heading level0 col26\" >V26</th>\n",
       "      <th class=\"col_heading level0 col27\" >V27</th>\n",
       "      <th class=\"col_heading level0 col28\" >V28</th>\n",
       "      <th class=\"col_heading level0 col29\" >Amount</th>\n",
       "      <th class=\"col_heading level0 col30\" >Class</th>\n",
       "    </tr>\n",
       "  </thead>\n",
       "  <tbody>\n",
       "    <tr>\n",
       "      <th id=\"T_84d2d_level0_row0\" class=\"row_heading level0 row0\" >count</th>\n",
       "      <td id=\"T_84d2d_row0_col0\" class=\"data row0 col0\" >284807.000000</td>\n",
       "      <td id=\"T_84d2d_row0_col1\" class=\"data row0 col1\" >284807.000000</td>\n",
       "      <td id=\"T_84d2d_row0_col2\" class=\"data row0 col2\" >284807.000000</td>\n",
       "      <td id=\"T_84d2d_row0_col3\" class=\"data row0 col3\" >284807.000000</td>\n",
       "      <td id=\"T_84d2d_row0_col4\" class=\"data row0 col4\" >284807.000000</td>\n",
       "      <td id=\"T_84d2d_row0_col5\" class=\"data row0 col5\" >284807.000000</td>\n",
       "      <td id=\"T_84d2d_row0_col6\" class=\"data row0 col6\" >284807.000000</td>\n",
       "      <td id=\"T_84d2d_row0_col7\" class=\"data row0 col7\" >284807.000000</td>\n",
       "      <td id=\"T_84d2d_row0_col8\" class=\"data row0 col8\" >284807.000000</td>\n",
       "      <td id=\"T_84d2d_row0_col9\" class=\"data row0 col9\" >284807.000000</td>\n",
       "      <td id=\"T_84d2d_row0_col10\" class=\"data row0 col10\" >284807.000000</td>\n",
       "      <td id=\"T_84d2d_row0_col11\" class=\"data row0 col11\" >284807.000000</td>\n",
       "      <td id=\"T_84d2d_row0_col12\" class=\"data row0 col12\" >284807.000000</td>\n",
       "      <td id=\"T_84d2d_row0_col13\" class=\"data row0 col13\" >284807.000000</td>\n",
       "      <td id=\"T_84d2d_row0_col14\" class=\"data row0 col14\" >284807.000000</td>\n",
       "      <td id=\"T_84d2d_row0_col15\" class=\"data row0 col15\" >284807.000000</td>\n",
       "      <td id=\"T_84d2d_row0_col16\" class=\"data row0 col16\" >284807.000000</td>\n",
       "      <td id=\"T_84d2d_row0_col17\" class=\"data row0 col17\" >284807.000000</td>\n",
       "      <td id=\"T_84d2d_row0_col18\" class=\"data row0 col18\" >284807.000000</td>\n",
       "      <td id=\"T_84d2d_row0_col19\" class=\"data row0 col19\" >284807.000000</td>\n",
       "      <td id=\"T_84d2d_row0_col20\" class=\"data row0 col20\" >284807.000000</td>\n",
       "      <td id=\"T_84d2d_row0_col21\" class=\"data row0 col21\" >284807.000000</td>\n",
       "      <td id=\"T_84d2d_row0_col22\" class=\"data row0 col22\" >284807.000000</td>\n",
       "      <td id=\"T_84d2d_row0_col23\" class=\"data row0 col23\" >284807.000000</td>\n",
       "      <td id=\"T_84d2d_row0_col24\" class=\"data row0 col24\" >284807.000000</td>\n",
       "      <td id=\"T_84d2d_row0_col25\" class=\"data row0 col25\" >284807.000000</td>\n",
       "      <td id=\"T_84d2d_row0_col26\" class=\"data row0 col26\" >284807.000000</td>\n",
       "      <td id=\"T_84d2d_row0_col27\" class=\"data row0 col27\" >284807.000000</td>\n",
       "      <td id=\"T_84d2d_row0_col28\" class=\"data row0 col28\" >284807.000000</td>\n",
       "      <td id=\"T_84d2d_row0_col29\" class=\"data row0 col29\" >284807.000000</td>\n",
       "      <td id=\"T_84d2d_row0_col30\" class=\"data row0 col30\" >284807.000000</td>\n",
       "    </tr>\n",
       "    <tr>\n",
       "      <th id=\"T_84d2d_level0_row1\" class=\"row_heading level0 row1\" >mean</th>\n",
       "      <td id=\"T_84d2d_row1_col0\" class=\"data row1 col0\" >94813.859575</td>\n",
       "      <td id=\"T_84d2d_row1_col1\" class=\"data row1 col1\" >0.000000</td>\n",
       "      <td id=\"T_84d2d_row1_col2\" class=\"data row1 col2\" >0.000000</td>\n",
       "      <td id=\"T_84d2d_row1_col3\" class=\"data row1 col3\" >-0.000000</td>\n",
       "      <td id=\"T_84d2d_row1_col4\" class=\"data row1 col4\" >0.000000</td>\n",
       "      <td id=\"T_84d2d_row1_col5\" class=\"data row1 col5\" >-0.000000</td>\n",
       "      <td id=\"T_84d2d_row1_col6\" class=\"data row1 col6\" >0.000000</td>\n",
       "      <td id=\"T_84d2d_row1_col7\" class=\"data row1 col7\" >-0.000000</td>\n",
       "      <td id=\"T_84d2d_row1_col8\" class=\"data row1 col8\" >-0.000000</td>\n",
       "      <td id=\"T_84d2d_row1_col9\" class=\"data row1 col9\" >-0.000000</td>\n",
       "      <td id=\"T_84d2d_row1_col10\" class=\"data row1 col10\" >0.000000</td>\n",
       "      <td id=\"T_84d2d_row1_col11\" class=\"data row1 col11\" >0.000000</td>\n",
       "      <td id=\"T_84d2d_row1_col12\" class=\"data row1 col12\" >-0.000000</td>\n",
       "      <td id=\"T_84d2d_row1_col13\" class=\"data row1 col13\" >0.000000</td>\n",
       "      <td id=\"T_84d2d_row1_col14\" class=\"data row1 col14\" >0.000000</td>\n",
       "      <td id=\"T_84d2d_row1_col15\" class=\"data row1 col15\" >0.000000</td>\n",
       "      <td id=\"T_84d2d_row1_col16\" class=\"data row1 col16\" >0.000000</td>\n",
       "      <td id=\"T_84d2d_row1_col17\" class=\"data row1 col17\" >-0.000000</td>\n",
       "      <td id=\"T_84d2d_row1_col18\" class=\"data row1 col18\" >0.000000</td>\n",
       "      <td id=\"T_84d2d_row1_col19\" class=\"data row1 col19\" >0.000000</td>\n",
       "      <td id=\"T_84d2d_row1_col20\" class=\"data row1 col20\" >0.000000</td>\n",
       "      <td id=\"T_84d2d_row1_col21\" class=\"data row1 col21\" >0.000000</td>\n",
       "      <td id=\"T_84d2d_row1_col22\" class=\"data row1 col22\" >0.000000</td>\n",
       "      <td id=\"T_84d2d_row1_col23\" class=\"data row1 col23\" >0.000000</td>\n",
       "      <td id=\"T_84d2d_row1_col24\" class=\"data row1 col24\" >0.000000</td>\n",
       "      <td id=\"T_84d2d_row1_col25\" class=\"data row1 col25\" >0.000000</td>\n",
       "      <td id=\"T_84d2d_row1_col26\" class=\"data row1 col26\" >0.000000</td>\n",
       "      <td id=\"T_84d2d_row1_col27\" class=\"data row1 col27\" >-0.000000</td>\n",
       "      <td id=\"T_84d2d_row1_col28\" class=\"data row1 col28\" >-0.000000</td>\n",
       "      <td id=\"T_84d2d_row1_col29\" class=\"data row1 col29\" >88.349619</td>\n",
       "      <td id=\"T_84d2d_row1_col30\" class=\"data row1 col30\" >0.001727</td>\n",
       "    </tr>\n",
       "    <tr>\n",
       "      <th id=\"T_84d2d_level0_row2\" class=\"row_heading level0 row2\" >std</th>\n",
       "      <td id=\"T_84d2d_row2_col0\" class=\"data row2 col0\" >47488.145955</td>\n",
       "      <td id=\"T_84d2d_row2_col1\" class=\"data row2 col1\" >1.958696</td>\n",
       "      <td id=\"T_84d2d_row2_col2\" class=\"data row2 col2\" >1.651309</td>\n",
       "      <td id=\"T_84d2d_row2_col3\" class=\"data row2 col3\" >1.516255</td>\n",
       "      <td id=\"T_84d2d_row2_col4\" class=\"data row2 col4\" >1.415869</td>\n",
       "      <td id=\"T_84d2d_row2_col5\" class=\"data row2 col5\" >1.380247</td>\n",
       "      <td id=\"T_84d2d_row2_col6\" class=\"data row2 col6\" >1.332271</td>\n",
       "      <td id=\"T_84d2d_row2_col7\" class=\"data row2 col7\" >1.237094</td>\n",
       "      <td id=\"T_84d2d_row2_col8\" class=\"data row2 col8\" >1.194353</td>\n",
       "      <td id=\"T_84d2d_row2_col9\" class=\"data row2 col9\" >1.098632</td>\n",
       "      <td id=\"T_84d2d_row2_col10\" class=\"data row2 col10\" >1.088850</td>\n",
       "      <td id=\"T_84d2d_row2_col11\" class=\"data row2 col11\" >1.020713</td>\n",
       "      <td id=\"T_84d2d_row2_col12\" class=\"data row2 col12\" >0.999201</td>\n",
       "      <td id=\"T_84d2d_row2_col13\" class=\"data row2 col13\" >0.995274</td>\n",
       "      <td id=\"T_84d2d_row2_col14\" class=\"data row2 col14\" >0.958596</td>\n",
       "      <td id=\"T_84d2d_row2_col15\" class=\"data row2 col15\" >0.915316</td>\n",
       "      <td id=\"T_84d2d_row2_col16\" class=\"data row2 col16\" >0.876253</td>\n",
       "      <td id=\"T_84d2d_row2_col17\" class=\"data row2 col17\" >0.849337</td>\n",
       "      <td id=\"T_84d2d_row2_col18\" class=\"data row2 col18\" >0.838176</td>\n",
       "      <td id=\"T_84d2d_row2_col19\" class=\"data row2 col19\" >0.814041</td>\n",
       "      <td id=\"T_84d2d_row2_col20\" class=\"data row2 col20\" >0.770925</td>\n",
       "      <td id=\"T_84d2d_row2_col21\" class=\"data row2 col21\" >0.734524</td>\n",
       "      <td id=\"T_84d2d_row2_col22\" class=\"data row2 col22\" >0.725702</td>\n",
       "      <td id=\"T_84d2d_row2_col23\" class=\"data row2 col23\" >0.624460</td>\n",
       "      <td id=\"T_84d2d_row2_col24\" class=\"data row2 col24\" >0.605647</td>\n",
       "      <td id=\"T_84d2d_row2_col25\" class=\"data row2 col25\" >0.521278</td>\n",
       "      <td id=\"T_84d2d_row2_col26\" class=\"data row2 col26\" >0.482227</td>\n",
       "      <td id=\"T_84d2d_row2_col27\" class=\"data row2 col27\" >0.403632</td>\n",
       "      <td id=\"T_84d2d_row2_col28\" class=\"data row2 col28\" >0.330083</td>\n",
       "      <td id=\"T_84d2d_row2_col29\" class=\"data row2 col29\" >250.120109</td>\n",
       "      <td id=\"T_84d2d_row2_col30\" class=\"data row2 col30\" >0.041527</td>\n",
       "    </tr>\n",
       "    <tr>\n",
       "      <th id=\"T_84d2d_level0_row3\" class=\"row_heading level0 row3\" >min</th>\n",
       "      <td id=\"T_84d2d_row3_col0\" class=\"data row3 col0\" >0.000000</td>\n",
       "      <td id=\"T_84d2d_row3_col1\" class=\"data row3 col1\" >-56.407510</td>\n",
       "      <td id=\"T_84d2d_row3_col2\" class=\"data row3 col2\" >-72.715728</td>\n",
       "      <td id=\"T_84d2d_row3_col3\" class=\"data row3 col3\" >-48.325589</td>\n",
       "      <td id=\"T_84d2d_row3_col4\" class=\"data row3 col4\" >-5.683171</td>\n",
       "      <td id=\"T_84d2d_row3_col5\" class=\"data row3 col5\" >-113.743307</td>\n",
       "      <td id=\"T_84d2d_row3_col6\" class=\"data row3 col6\" >-26.160506</td>\n",
       "      <td id=\"T_84d2d_row3_col7\" class=\"data row3 col7\" >-43.557242</td>\n",
       "      <td id=\"T_84d2d_row3_col8\" class=\"data row3 col8\" >-73.216718</td>\n",
       "      <td id=\"T_84d2d_row3_col9\" class=\"data row3 col9\" >-13.434066</td>\n",
       "      <td id=\"T_84d2d_row3_col10\" class=\"data row3 col10\" >-24.588262</td>\n",
       "      <td id=\"T_84d2d_row3_col11\" class=\"data row3 col11\" >-4.797473</td>\n",
       "      <td id=\"T_84d2d_row3_col12\" class=\"data row3 col12\" >-18.683715</td>\n",
       "      <td id=\"T_84d2d_row3_col13\" class=\"data row3 col13\" >-5.791881</td>\n",
       "      <td id=\"T_84d2d_row3_col14\" class=\"data row3 col14\" >-19.214325</td>\n",
       "      <td id=\"T_84d2d_row3_col15\" class=\"data row3 col15\" >-4.498945</td>\n",
       "      <td id=\"T_84d2d_row3_col16\" class=\"data row3 col16\" >-14.129855</td>\n",
       "      <td id=\"T_84d2d_row3_col17\" class=\"data row3 col17\" >-25.162799</td>\n",
       "      <td id=\"T_84d2d_row3_col18\" class=\"data row3 col18\" >-9.498746</td>\n",
       "      <td id=\"T_84d2d_row3_col19\" class=\"data row3 col19\" >-7.213527</td>\n",
       "      <td id=\"T_84d2d_row3_col20\" class=\"data row3 col20\" >-54.497720</td>\n",
       "      <td id=\"T_84d2d_row3_col21\" class=\"data row3 col21\" >-34.830382</td>\n",
       "      <td id=\"T_84d2d_row3_col22\" class=\"data row3 col22\" >-10.933144</td>\n",
       "      <td id=\"T_84d2d_row3_col23\" class=\"data row3 col23\" >-44.807735</td>\n",
       "      <td id=\"T_84d2d_row3_col24\" class=\"data row3 col24\" >-2.836627</td>\n",
       "      <td id=\"T_84d2d_row3_col25\" class=\"data row3 col25\" >-10.295397</td>\n",
       "      <td id=\"T_84d2d_row3_col26\" class=\"data row3 col26\" >-2.604551</td>\n",
       "      <td id=\"T_84d2d_row3_col27\" class=\"data row3 col27\" >-22.565679</td>\n",
       "      <td id=\"T_84d2d_row3_col28\" class=\"data row3 col28\" >-15.430084</td>\n",
       "      <td id=\"T_84d2d_row3_col29\" class=\"data row3 col29\" >0.000000</td>\n",
       "      <td id=\"T_84d2d_row3_col30\" class=\"data row3 col30\" >0.000000</td>\n",
       "    </tr>\n",
       "    <tr>\n",
       "      <th id=\"T_84d2d_level0_row4\" class=\"row_heading level0 row4\" >25%</th>\n",
       "      <td id=\"T_84d2d_row4_col0\" class=\"data row4 col0\" >54201.500000</td>\n",
       "      <td id=\"T_84d2d_row4_col1\" class=\"data row4 col1\" >-0.920373</td>\n",
       "      <td id=\"T_84d2d_row4_col2\" class=\"data row4 col2\" >-0.598550</td>\n",
       "      <td id=\"T_84d2d_row4_col3\" class=\"data row4 col3\" >-0.890365</td>\n",
       "      <td id=\"T_84d2d_row4_col4\" class=\"data row4 col4\" >-0.848640</td>\n",
       "      <td id=\"T_84d2d_row4_col5\" class=\"data row4 col5\" >-0.691597</td>\n",
       "      <td id=\"T_84d2d_row4_col6\" class=\"data row4 col6\" >-0.768296</td>\n",
       "      <td id=\"T_84d2d_row4_col7\" class=\"data row4 col7\" >-0.554076</td>\n",
       "      <td id=\"T_84d2d_row4_col8\" class=\"data row4 col8\" >-0.208630</td>\n",
       "      <td id=\"T_84d2d_row4_col9\" class=\"data row4 col9\" >-0.643098</td>\n",
       "      <td id=\"T_84d2d_row4_col10\" class=\"data row4 col10\" >-0.535426</td>\n",
       "      <td id=\"T_84d2d_row4_col11\" class=\"data row4 col11\" >-0.762494</td>\n",
       "      <td id=\"T_84d2d_row4_col12\" class=\"data row4 col12\" >-0.405571</td>\n",
       "      <td id=\"T_84d2d_row4_col13\" class=\"data row4 col13\" >-0.648539</td>\n",
       "      <td id=\"T_84d2d_row4_col14\" class=\"data row4 col14\" >-0.425574</td>\n",
       "      <td id=\"T_84d2d_row4_col15\" class=\"data row4 col15\" >-0.582884</td>\n",
       "      <td id=\"T_84d2d_row4_col16\" class=\"data row4 col16\" >-0.468037</td>\n",
       "      <td id=\"T_84d2d_row4_col17\" class=\"data row4 col17\" >-0.483748</td>\n",
       "      <td id=\"T_84d2d_row4_col18\" class=\"data row4 col18\" >-0.498850</td>\n",
       "      <td id=\"T_84d2d_row4_col19\" class=\"data row4 col19\" >-0.456299</td>\n",
       "      <td id=\"T_84d2d_row4_col20\" class=\"data row4 col20\" >-0.211721</td>\n",
       "      <td id=\"T_84d2d_row4_col21\" class=\"data row4 col21\" >-0.228395</td>\n",
       "      <td id=\"T_84d2d_row4_col22\" class=\"data row4 col22\" >-0.542350</td>\n",
       "      <td id=\"T_84d2d_row4_col23\" class=\"data row4 col23\" >-0.161846</td>\n",
       "      <td id=\"T_84d2d_row4_col24\" class=\"data row4 col24\" >-0.354586</td>\n",
       "      <td id=\"T_84d2d_row4_col25\" class=\"data row4 col25\" >-0.317145</td>\n",
       "      <td id=\"T_84d2d_row4_col26\" class=\"data row4 col26\" >-0.326984</td>\n",
       "      <td id=\"T_84d2d_row4_col27\" class=\"data row4 col27\" >-0.070840</td>\n",
       "      <td id=\"T_84d2d_row4_col28\" class=\"data row4 col28\" >-0.052960</td>\n",
       "      <td id=\"T_84d2d_row4_col29\" class=\"data row4 col29\" >5.600000</td>\n",
       "      <td id=\"T_84d2d_row4_col30\" class=\"data row4 col30\" >0.000000</td>\n",
       "    </tr>\n",
       "    <tr>\n",
       "      <th id=\"T_84d2d_level0_row5\" class=\"row_heading level0 row5\" >50%</th>\n",
       "      <td id=\"T_84d2d_row5_col0\" class=\"data row5 col0\" >84692.000000</td>\n",
       "      <td id=\"T_84d2d_row5_col1\" class=\"data row5 col1\" >0.018109</td>\n",
       "      <td id=\"T_84d2d_row5_col2\" class=\"data row5 col2\" >0.065486</td>\n",
       "      <td id=\"T_84d2d_row5_col3\" class=\"data row5 col3\" >0.179846</td>\n",
       "      <td id=\"T_84d2d_row5_col4\" class=\"data row5 col4\" >-0.019847</td>\n",
       "      <td id=\"T_84d2d_row5_col5\" class=\"data row5 col5\" >-0.054336</td>\n",
       "      <td id=\"T_84d2d_row5_col6\" class=\"data row5 col6\" >-0.274187</td>\n",
       "      <td id=\"T_84d2d_row5_col7\" class=\"data row5 col7\" >0.040103</td>\n",
       "      <td id=\"T_84d2d_row5_col8\" class=\"data row5 col8\" >0.022358</td>\n",
       "      <td id=\"T_84d2d_row5_col9\" class=\"data row5 col9\" >-0.051429</td>\n",
       "      <td id=\"T_84d2d_row5_col10\" class=\"data row5 col10\" >-0.092917</td>\n",
       "      <td id=\"T_84d2d_row5_col11\" class=\"data row5 col11\" >-0.032757</td>\n",
       "      <td id=\"T_84d2d_row5_col12\" class=\"data row5 col12\" >0.140033</td>\n",
       "      <td id=\"T_84d2d_row5_col13\" class=\"data row5 col13\" >-0.013568</td>\n",
       "      <td id=\"T_84d2d_row5_col14\" class=\"data row5 col14\" >0.050601</td>\n",
       "      <td id=\"T_84d2d_row5_col15\" class=\"data row5 col15\" >0.048072</td>\n",
       "      <td id=\"T_84d2d_row5_col16\" class=\"data row5 col16\" >0.066413</td>\n",
       "      <td id=\"T_84d2d_row5_col17\" class=\"data row5 col17\" >-0.065676</td>\n",
       "      <td id=\"T_84d2d_row5_col18\" class=\"data row5 col18\" >-0.003636</td>\n",
       "      <td id=\"T_84d2d_row5_col19\" class=\"data row5 col19\" >0.003735</td>\n",
       "      <td id=\"T_84d2d_row5_col20\" class=\"data row5 col20\" >-0.062481</td>\n",
       "      <td id=\"T_84d2d_row5_col21\" class=\"data row5 col21\" >-0.029450</td>\n",
       "      <td id=\"T_84d2d_row5_col22\" class=\"data row5 col22\" >0.006782</td>\n",
       "      <td id=\"T_84d2d_row5_col23\" class=\"data row5 col23\" >-0.011193</td>\n",
       "      <td id=\"T_84d2d_row5_col24\" class=\"data row5 col24\" >0.040976</td>\n",
       "      <td id=\"T_84d2d_row5_col25\" class=\"data row5 col25\" >0.016594</td>\n",
       "      <td id=\"T_84d2d_row5_col26\" class=\"data row5 col26\" >-0.052139</td>\n",
       "      <td id=\"T_84d2d_row5_col27\" class=\"data row5 col27\" >0.001342</td>\n",
       "      <td id=\"T_84d2d_row5_col28\" class=\"data row5 col28\" >0.011244</td>\n",
       "      <td id=\"T_84d2d_row5_col29\" class=\"data row5 col29\" >22.000000</td>\n",
       "      <td id=\"T_84d2d_row5_col30\" class=\"data row5 col30\" >0.000000</td>\n",
       "    </tr>\n",
       "    <tr>\n",
       "      <th id=\"T_84d2d_level0_row6\" class=\"row_heading level0 row6\" >75%</th>\n",
       "      <td id=\"T_84d2d_row6_col0\" class=\"data row6 col0\" >139320.500000</td>\n",
       "      <td id=\"T_84d2d_row6_col1\" class=\"data row6 col1\" >1.315642</td>\n",
       "      <td id=\"T_84d2d_row6_col2\" class=\"data row6 col2\" >0.803724</td>\n",
       "      <td id=\"T_84d2d_row6_col3\" class=\"data row6 col3\" >1.027196</td>\n",
       "      <td id=\"T_84d2d_row6_col4\" class=\"data row6 col4\" >0.743341</td>\n",
       "      <td id=\"T_84d2d_row6_col5\" class=\"data row6 col5\" >0.611926</td>\n",
       "      <td id=\"T_84d2d_row6_col6\" class=\"data row6 col6\" >0.398565</td>\n",
       "      <td id=\"T_84d2d_row6_col7\" class=\"data row6 col7\" >0.570436</td>\n",
       "      <td id=\"T_84d2d_row6_col8\" class=\"data row6 col8\" >0.327346</td>\n",
       "      <td id=\"T_84d2d_row6_col9\" class=\"data row6 col9\" >0.597139</td>\n",
       "      <td id=\"T_84d2d_row6_col10\" class=\"data row6 col10\" >0.453923</td>\n",
       "      <td id=\"T_84d2d_row6_col11\" class=\"data row6 col11\" >0.739593</td>\n",
       "      <td id=\"T_84d2d_row6_col12\" class=\"data row6 col12\" >0.618238</td>\n",
       "      <td id=\"T_84d2d_row6_col13\" class=\"data row6 col13\" >0.662505</td>\n",
       "      <td id=\"T_84d2d_row6_col14\" class=\"data row6 col14\" >0.493150</td>\n",
       "      <td id=\"T_84d2d_row6_col15\" class=\"data row6 col15\" >0.648821</td>\n",
       "      <td id=\"T_84d2d_row6_col16\" class=\"data row6 col16\" >0.523296</td>\n",
       "      <td id=\"T_84d2d_row6_col17\" class=\"data row6 col17\" >0.399675</td>\n",
       "      <td id=\"T_84d2d_row6_col18\" class=\"data row6 col18\" >0.500807</td>\n",
       "      <td id=\"T_84d2d_row6_col19\" class=\"data row6 col19\" >0.458949</td>\n",
       "      <td id=\"T_84d2d_row6_col20\" class=\"data row6 col20\" >0.133041</td>\n",
       "      <td id=\"T_84d2d_row6_col21\" class=\"data row6 col21\" >0.186377</td>\n",
       "      <td id=\"T_84d2d_row6_col22\" class=\"data row6 col22\" >0.528554</td>\n",
       "      <td id=\"T_84d2d_row6_col23\" class=\"data row6 col23\" >0.147642</td>\n",
       "      <td id=\"T_84d2d_row6_col24\" class=\"data row6 col24\" >0.439527</td>\n",
       "      <td id=\"T_84d2d_row6_col25\" class=\"data row6 col25\" >0.350716</td>\n",
       "      <td id=\"T_84d2d_row6_col26\" class=\"data row6 col26\" >0.240952</td>\n",
       "      <td id=\"T_84d2d_row6_col27\" class=\"data row6 col27\" >0.091045</td>\n",
       "      <td id=\"T_84d2d_row6_col28\" class=\"data row6 col28\" >0.078280</td>\n",
       "      <td id=\"T_84d2d_row6_col29\" class=\"data row6 col29\" >77.165000</td>\n",
       "      <td id=\"T_84d2d_row6_col30\" class=\"data row6 col30\" >0.000000</td>\n",
       "    </tr>\n",
       "    <tr>\n",
       "      <th id=\"T_84d2d_level0_row7\" class=\"row_heading level0 row7\" >max</th>\n",
       "      <td id=\"T_84d2d_row7_col0\" class=\"data row7 col0\" >172792.000000</td>\n",
       "      <td id=\"T_84d2d_row7_col1\" class=\"data row7 col1\" >2.454930</td>\n",
       "      <td id=\"T_84d2d_row7_col2\" class=\"data row7 col2\" >22.057729</td>\n",
       "      <td id=\"T_84d2d_row7_col3\" class=\"data row7 col3\" >9.382558</td>\n",
       "      <td id=\"T_84d2d_row7_col4\" class=\"data row7 col4\" >16.875344</td>\n",
       "      <td id=\"T_84d2d_row7_col5\" class=\"data row7 col5\" >34.801666</td>\n",
       "      <td id=\"T_84d2d_row7_col6\" class=\"data row7 col6\" >73.301626</td>\n",
       "      <td id=\"T_84d2d_row7_col7\" class=\"data row7 col7\" >120.589494</td>\n",
       "      <td id=\"T_84d2d_row7_col8\" class=\"data row7 col8\" >20.007208</td>\n",
       "      <td id=\"T_84d2d_row7_col9\" class=\"data row7 col9\" >15.594995</td>\n",
       "      <td id=\"T_84d2d_row7_col10\" class=\"data row7 col10\" >23.745136</td>\n",
       "      <td id=\"T_84d2d_row7_col11\" class=\"data row7 col11\" >12.018913</td>\n",
       "      <td id=\"T_84d2d_row7_col12\" class=\"data row7 col12\" >7.848392</td>\n",
       "      <td id=\"T_84d2d_row7_col13\" class=\"data row7 col13\" >7.126883</td>\n",
       "      <td id=\"T_84d2d_row7_col14\" class=\"data row7 col14\" >10.526766</td>\n",
       "      <td id=\"T_84d2d_row7_col15\" class=\"data row7 col15\" >8.877742</td>\n",
       "      <td id=\"T_84d2d_row7_col16\" class=\"data row7 col16\" >17.315112</td>\n",
       "      <td id=\"T_84d2d_row7_col17\" class=\"data row7 col17\" >9.253526</td>\n",
       "      <td id=\"T_84d2d_row7_col18\" class=\"data row7 col18\" >5.041069</td>\n",
       "      <td id=\"T_84d2d_row7_col19\" class=\"data row7 col19\" >5.591971</td>\n",
       "      <td id=\"T_84d2d_row7_col20\" class=\"data row7 col20\" >39.420904</td>\n",
       "      <td id=\"T_84d2d_row7_col21\" class=\"data row7 col21\" >27.202839</td>\n",
       "      <td id=\"T_84d2d_row7_col22\" class=\"data row7 col22\" >10.503090</td>\n",
       "      <td id=\"T_84d2d_row7_col23\" class=\"data row7 col23\" >22.528412</td>\n",
       "      <td id=\"T_84d2d_row7_col24\" class=\"data row7 col24\" >4.584549</td>\n",
       "      <td id=\"T_84d2d_row7_col25\" class=\"data row7 col25\" >7.519589</td>\n",
       "      <td id=\"T_84d2d_row7_col26\" class=\"data row7 col26\" >3.517346</td>\n",
       "      <td id=\"T_84d2d_row7_col27\" class=\"data row7 col27\" >31.612198</td>\n",
       "      <td id=\"T_84d2d_row7_col28\" class=\"data row7 col28\" >33.847808</td>\n",
       "      <td id=\"T_84d2d_row7_col29\" class=\"data row7 col29\" >25691.160000</td>\n",
       "      <td id=\"T_84d2d_row7_col30\" class=\"data row7 col30\" >1.000000</td>\n",
       "    </tr>\n",
       "  </tbody>\n",
       "</table>\n"
      ],
      "text/plain": [
       "<pandas.io.formats.style.Styler at 0x1aa5b95f6a0>"
      ]
     },
     "execution_count": 9,
     "metadata": {},
     "output_type": "execute_result"
    }
   ],
   "source": [
    "cd.describe().style.background_gradient()"
   ]
  },
  {
   "cell_type": "code",
   "execution_count": 10,
   "id": "94d2f941",
   "metadata": {},
   "outputs": [
    {
     "data": {
      "text/plain": [
       "array([[ 0.00000000e+00, -1.35980713e+00, -7.27811733e-02, ...,\n",
       "        -2.10530535e-02,  1.49620000e+02,  0.00000000e+00],\n",
       "       [ 0.00000000e+00,  1.19185711e+00,  2.66150712e-01, ...,\n",
       "         1.47241692e-02,  2.69000000e+00,  0.00000000e+00],\n",
       "       [ 1.00000000e+00, -1.35835406e+00, -1.34016307e+00, ...,\n",
       "        -5.97518406e-02,  3.78660000e+02,  0.00000000e+00],\n",
       "       ...,\n",
       "       [ 1.72788000e+05,  1.91956501e+00, -3.01253846e-01, ...,\n",
       "        -2.65608286e-02,  6.78800000e+01,  0.00000000e+00],\n",
       "       [ 1.72788000e+05, -2.40440050e-01,  5.30482513e-01, ...,\n",
       "         1.04532821e-01,  1.00000000e+01,  0.00000000e+00],\n",
       "       [ 1.72792000e+05, -5.33412522e-01, -1.89733337e-01, ...,\n",
       "         1.36489143e-02,  2.17000000e+02,  0.00000000e+00]])"
      ]
     },
     "execution_count": 10,
     "metadata": {},
     "output_type": "execute_result"
    }
   ],
   "source": [
    "cd.values"
   ]
  },
  {
   "cell_type": "code",
   "execution_count": 11,
   "id": "aaf09615",
   "metadata": {},
   "outputs": [
    {
     "data": {
      "text/html": [
       "<div>\n",
       "<style scoped>\n",
       "    .dataframe tbody tr th:only-of-type {\n",
       "        vertical-align: middle;\n",
       "    }\n",
       "\n",
       "    .dataframe tbody tr th {\n",
       "        vertical-align: top;\n",
       "    }\n",
       "\n",
       "    .dataframe thead th {\n",
       "        text-align: right;\n",
       "    }\n",
       "</style>\n",
       "<table border=\"1\" class=\"dataframe\">\n",
       "  <thead>\n",
       "    <tr style=\"text-align: right;\">\n",
       "      <th></th>\n",
       "      <th>Time</th>\n",
       "      <th>V1</th>\n",
       "      <th>V2</th>\n",
       "      <th>V3</th>\n",
       "      <th>V4</th>\n",
       "      <th>V5</th>\n",
       "      <th>V6</th>\n",
       "      <th>V7</th>\n",
       "      <th>V8</th>\n",
       "      <th>V9</th>\n",
       "      <th>...</th>\n",
       "      <th>V21</th>\n",
       "      <th>V22</th>\n",
       "      <th>V23</th>\n",
       "      <th>V24</th>\n",
       "      <th>V25</th>\n",
       "      <th>V26</th>\n",
       "      <th>V27</th>\n",
       "      <th>V28</th>\n",
       "      <th>Amount</th>\n",
       "      <th>Class</th>\n",
       "    </tr>\n",
       "  </thead>\n",
       "  <tbody>\n",
       "    <tr>\n",
       "      <th>0</th>\n",
       "      <td>False</td>\n",
       "      <td>False</td>\n",
       "      <td>False</td>\n",
       "      <td>False</td>\n",
       "      <td>False</td>\n",
       "      <td>False</td>\n",
       "      <td>False</td>\n",
       "      <td>False</td>\n",
       "      <td>False</td>\n",
       "      <td>False</td>\n",
       "      <td>...</td>\n",
       "      <td>False</td>\n",
       "      <td>False</td>\n",
       "      <td>False</td>\n",
       "      <td>False</td>\n",
       "      <td>False</td>\n",
       "      <td>False</td>\n",
       "      <td>False</td>\n",
       "      <td>False</td>\n",
       "      <td>False</td>\n",
       "      <td>False</td>\n",
       "    </tr>\n",
       "    <tr>\n",
       "      <th>1</th>\n",
       "      <td>False</td>\n",
       "      <td>False</td>\n",
       "      <td>False</td>\n",
       "      <td>False</td>\n",
       "      <td>False</td>\n",
       "      <td>False</td>\n",
       "      <td>False</td>\n",
       "      <td>False</td>\n",
       "      <td>False</td>\n",
       "      <td>False</td>\n",
       "      <td>...</td>\n",
       "      <td>False</td>\n",
       "      <td>False</td>\n",
       "      <td>False</td>\n",
       "      <td>False</td>\n",
       "      <td>False</td>\n",
       "      <td>False</td>\n",
       "      <td>False</td>\n",
       "      <td>False</td>\n",
       "      <td>False</td>\n",
       "      <td>False</td>\n",
       "    </tr>\n",
       "    <tr>\n",
       "      <th>2</th>\n",
       "      <td>False</td>\n",
       "      <td>False</td>\n",
       "      <td>False</td>\n",
       "      <td>False</td>\n",
       "      <td>False</td>\n",
       "      <td>False</td>\n",
       "      <td>False</td>\n",
       "      <td>False</td>\n",
       "      <td>False</td>\n",
       "      <td>False</td>\n",
       "      <td>...</td>\n",
       "      <td>False</td>\n",
       "      <td>False</td>\n",
       "      <td>False</td>\n",
       "      <td>False</td>\n",
       "      <td>False</td>\n",
       "      <td>False</td>\n",
       "      <td>False</td>\n",
       "      <td>False</td>\n",
       "      <td>False</td>\n",
       "      <td>False</td>\n",
       "    </tr>\n",
       "    <tr>\n",
       "      <th>3</th>\n",
       "      <td>False</td>\n",
       "      <td>False</td>\n",
       "      <td>False</td>\n",
       "      <td>False</td>\n",
       "      <td>False</td>\n",
       "      <td>False</td>\n",
       "      <td>False</td>\n",
       "      <td>False</td>\n",
       "      <td>False</td>\n",
       "      <td>False</td>\n",
       "      <td>...</td>\n",
       "      <td>False</td>\n",
       "      <td>False</td>\n",
       "      <td>False</td>\n",
       "      <td>False</td>\n",
       "      <td>False</td>\n",
       "      <td>False</td>\n",
       "      <td>False</td>\n",
       "      <td>False</td>\n",
       "      <td>False</td>\n",
       "      <td>False</td>\n",
       "    </tr>\n",
       "    <tr>\n",
       "      <th>4</th>\n",
       "      <td>False</td>\n",
       "      <td>False</td>\n",
       "      <td>False</td>\n",
       "      <td>False</td>\n",
       "      <td>False</td>\n",
       "      <td>False</td>\n",
       "      <td>False</td>\n",
       "      <td>False</td>\n",
       "      <td>False</td>\n",
       "      <td>False</td>\n",
       "      <td>...</td>\n",
       "      <td>False</td>\n",
       "      <td>False</td>\n",
       "      <td>False</td>\n",
       "      <td>False</td>\n",
       "      <td>False</td>\n",
       "      <td>False</td>\n",
       "      <td>False</td>\n",
       "      <td>False</td>\n",
       "      <td>False</td>\n",
       "      <td>False</td>\n",
       "    </tr>\n",
       "    <tr>\n",
       "      <th>...</th>\n",
       "      <td>...</td>\n",
       "      <td>...</td>\n",
       "      <td>...</td>\n",
       "      <td>...</td>\n",
       "      <td>...</td>\n",
       "      <td>...</td>\n",
       "      <td>...</td>\n",
       "      <td>...</td>\n",
       "      <td>...</td>\n",
       "      <td>...</td>\n",
       "      <td>...</td>\n",
       "      <td>...</td>\n",
       "      <td>...</td>\n",
       "      <td>...</td>\n",
       "      <td>...</td>\n",
       "      <td>...</td>\n",
       "      <td>...</td>\n",
       "      <td>...</td>\n",
       "      <td>...</td>\n",
       "      <td>...</td>\n",
       "      <td>...</td>\n",
       "    </tr>\n",
       "    <tr>\n",
       "      <th>284802</th>\n",
       "      <td>False</td>\n",
       "      <td>False</td>\n",
       "      <td>False</td>\n",
       "      <td>False</td>\n",
       "      <td>False</td>\n",
       "      <td>False</td>\n",
       "      <td>False</td>\n",
       "      <td>False</td>\n",
       "      <td>False</td>\n",
       "      <td>False</td>\n",
       "      <td>...</td>\n",
       "      <td>False</td>\n",
       "      <td>False</td>\n",
       "      <td>False</td>\n",
       "      <td>False</td>\n",
       "      <td>False</td>\n",
       "      <td>False</td>\n",
       "      <td>False</td>\n",
       "      <td>False</td>\n",
       "      <td>False</td>\n",
       "      <td>False</td>\n",
       "    </tr>\n",
       "    <tr>\n",
       "      <th>284803</th>\n",
       "      <td>False</td>\n",
       "      <td>False</td>\n",
       "      <td>False</td>\n",
       "      <td>False</td>\n",
       "      <td>False</td>\n",
       "      <td>False</td>\n",
       "      <td>False</td>\n",
       "      <td>False</td>\n",
       "      <td>False</td>\n",
       "      <td>False</td>\n",
       "      <td>...</td>\n",
       "      <td>False</td>\n",
       "      <td>False</td>\n",
       "      <td>False</td>\n",
       "      <td>False</td>\n",
       "      <td>False</td>\n",
       "      <td>False</td>\n",
       "      <td>False</td>\n",
       "      <td>False</td>\n",
       "      <td>False</td>\n",
       "      <td>False</td>\n",
       "    </tr>\n",
       "    <tr>\n",
       "      <th>284804</th>\n",
       "      <td>False</td>\n",
       "      <td>False</td>\n",
       "      <td>False</td>\n",
       "      <td>False</td>\n",
       "      <td>False</td>\n",
       "      <td>False</td>\n",
       "      <td>False</td>\n",
       "      <td>False</td>\n",
       "      <td>False</td>\n",
       "      <td>False</td>\n",
       "      <td>...</td>\n",
       "      <td>False</td>\n",
       "      <td>False</td>\n",
       "      <td>False</td>\n",
       "      <td>False</td>\n",
       "      <td>False</td>\n",
       "      <td>False</td>\n",
       "      <td>False</td>\n",
       "      <td>False</td>\n",
       "      <td>False</td>\n",
       "      <td>False</td>\n",
       "    </tr>\n",
       "    <tr>\n",
       "      <th>284805</th>\n",
       "      <td>False</td>\n",
       "      <td>False</td>\n",
       "      <td>False</td>\n",
       "      <td>False</td>\n",
       "      <td>False</td>\n",
       "      <td>False</td>\n",
       "      <td>False</td>\n",
       "      <td>False</td>\n",
       "      <td>False</td>\n",
       "      <td>False</td>\n",
       "      <td>...</td>\n",
       "      <td>False</td>\n",
       "      <td>False</td>\n",
       "      <td>False</td>\n",
       "      <td>False</td>\n",
       "      <td>False</td>\n",
       "      <td>False</td>\n",
       "      <td>False</td>\n",
       "      <td>False</td>\n",
       "      <td>False</td>\n",
       "      <td>False</td>\n",
       "    </tr>\n",
       "    <tr>\n",
       "      <th>284806</th>\n",
       "      <td>False</td>\n",
       "      <td>False</td>\n",
       "      <td>False</td>\n",
       "      <td>False</td>\n",
       "      <td>False</td>\n",
       "      <td>False</td>\n",
       "      <td>False</td>\n",
       "      <td>False</td>\n",
       "      <td>False</td>\n",
       "      <td>False</td>\n",
       "      <td>...</td>\n",
       "      <td>False</td>\n",
       "      <td>False</td>\n",
       "      <td>False</td>\n",
       "      <td>False</td>\n",
       "      <td>False</td>\n",
       "      <td>False</td>\n",
       "      <td>False</td>\n",
       "      <td>False</td>\n",
       "      <td>False</td>\n",
       "      <td>False</td>\n",
       "    </tr>\n",
       "  </tbody>\n",
       "</table>\n",
       "<p>284807 rows × 31 columns</p>\n",
       "</div>"
      ],
      "text/plain": [
       "         Time     V1     V2     V3     V4     V5     V6     V7     V8     V9  \\\n",
       "0       False  False  False  False  False  False  False  False  False  False   \n",
       "1       False  False  False  False  False  False  False  False  False  False   \n",
       "2       False  False  False  False  False  False  False  False  False  False   \n",
       "3       False  False  False  False  False  False  False  False  False  False   \n",
       "4       False  False  False  False  False  False  False  False  False  False   \n",
       "...       ...    ...    ...    ...    ...    ...    ...    ...    ...    ...   \n",
       "284802  False  False  False  False  False  False  False  False  False  False   \n",
       "284803  False  False  False  False  False  False  False  False  False  False   \n",
       "284804  False  False  False  False  False  False  False  False  False  False   \n",
       "284805  False  False  False  False  False  False  False  False  False  False   \n",
       "284806  False  False  False  False  False  False  False  False  False  False   \n",
       "\n",
       "        ...    V21    V22    V23    V24    V25    V26    V27    V28  Amount  \\\n",
       "0       ...  False  False  False  False  False  False  False  False   False   \n",
       "1       ...  False  False  False  False  False  False  False  False   False   \n",
       "2       ...  False  False  False  False  False  False  False  False   False   \n",
       "3       ...  False  False  False  False  False  False  False  False   False   \n",
       "4       ...  False  False  False  False  False  False  False  False   False   \n",
       "...     ...    ...    ...    ...    ...    ...    ...    ...    ...     ...   \n",
       "284802  ...  False  False  False  False  False  False  False  False   False   \n",
       "284803  ...  False  False  False  False  False  False  False  False   False   \n",
       "284804  ...  False  False  False  False  False  False  False  False   False   \n",
       "284805  ...  False  False  False  False  False  False  False  False   False   \n",
       "284806  ...  False  False  False  False  False  False  False  False   False   \n",
       "\n",
       "        Class  \n",
       "0       False  \n",
       "1       False  \n",
       "2       False  \n",
       "3       False  \n",
       "4       False  \n",
       "...       ...  \n",
       "284802  False  \n",
       "284803  False  \n",
       "284804  False  \n",
       "284805  False  \n",
       "284806  False  \n",
       "\n",
       "[284807 rows x 31 columns]"
      ]
     },
     "execution_count": 11,
     "metadata": {},
     "output_type": "execute_result"
    }
   ],
   "source": [
    "#data cleaning\n",
    "cd.isnull()"
   ]
  },
  {
   "cell_type": "code",
   "execution_count": 12,
   "id": "416bd751",
   "metadata": {},
   "outputs": [
    {
     "data": {
      "text/plain": [
       "Time      0\n",
       "V1        0\n",
       "V2        0\n",
       "V3        0\n",
       "V4        0\n",
       "V5        0\n",
       "V6        0\n",
       "V7        0\n",
       "V8        0\n",
       "V9        0\n",
       "V10       0\n",
       "V11       0\n",
       "V12       0\n",
       "V13       0\n",
       "V14       0\n",
       "V15       0\n",
       "V16       0\n",
       "V17       0\n",
       "V18       0\n",
       "V19       0\n",
       "V20       0\n",
       "V21       0\n",
       "V22       0\n",
       "V23       0\n",
       "V24       0\n",
       "V25       0\n",
       "V26       0\n",
       "V27       0\n",
       "V28       0\n",
       "Amount    0\n",
       "Class     0\n",
       "dtype: int64"
      ]
     },
     "execution_count": 12,
     "metadata": {},
     "output_type": "execute_result"
    }
   ],
   "source": [
    "cd.isnull().sum()"
   ]
  },
  {
   "cell_type": "code",
   "execution_count": 13,
   "id": "a8629d81",
   "metadata": {},
   "outputs": [
    {
     "data": {
      "text/plain": [
       "0         0\n",
       "1         0\n",
       "2         0\n",
       "3         0\n",
       "4         0\n",
       "         ..\n",
       "284802    0\n",
       "284803    0\n",
       "284804    0\n",
       "284805    0\n",
       "284806    0\n",
       "Name: Class, Length: 284807, dtype: int64"
      ]
     },
     "execution_count": 13,
     "metadata": {},
     "output_type": "execute_result"
    }
   ],
   "source": [
    "cd['Class'].fillna(cd['Class'].mean()) # dealing with missing values\n",
    "cd['Class'].fillna(cd['Class'].median())"
   ]
  },
  {
   "cell_type": "code",
   "execution_count": 14,
   "id": "882878db",
   "metadata": {},
   "outputs": [
    {
     "data": {
      "text/plain": [
       "0         149.62\n",
       "1           2.69\n",
       "2         378.66\n",
       "3         123.50\n",
       "4          69.99\n",
       "           ...  \n",
       "284802      0.77\n",
       "284803     24.79\n",
       "284804     67.88\n",
       "284805     10.00\n",
       "284806    217.00\n",
       "Name: Amount, Length: 284807, dtype: float64"
      ]
     },
     "execution_count": 14,
     "metadata": {},
     "output_type": "execute_result"
    }
   ],
   "source": [
    "cd['Amount'].fillna(cd['Amount'].mode()[0])"
   ]
  },
  {
   "cell_type": "code",
   "execution_count": 15,
   "id": "0856cf63",
   "metadata": {},
   "outputs": [
    {
     "name": "stderr",
     "output_type": "stream",
     "text": [
      "C:\\Users\\Abhiram\\anaconda3\\lib\\site-packages\\seaborn\\_decorators.py:36: FutureWarning: Pass the following variable as a keyword arg: x. From version 0.12, the only valid positional argument will be `data`, and passing other arguments without an explicit keyword will result in an error or misinterpretation.\n",
      "  warnings.warn(\n"
     ]
    },
    {
     "data": {
      "image/png": "[encoded data removed]",
      "text/plain": [
       "<Figure size 432x288 with 1 Axes>"
      ]
     },
     "metadata": {
      "needs_background": "light"
     },
     "output_type": "display_data"
    }
   ],
   "source": [
    "sns.countplot(cd[\"Class\"]);"
   ]
  },
  {
   "cell_type": "code",
   "execution_count": 45,
   "id": "5ef427c7",
   "metadata": {},
   "outputs": [
    {
     "data": {
      "image/png": "[encoded data removed]",
      "text/plain": [
       "<Figure size 432x288 with 1 Axes>"
      ]
     },
     "metadata": {
      "needs_background": "light"
     },
     "output_type": "display_data"
    }
   ],
   "source": [
    "plt.hist(data['Amount']);"
   ]
  },
  {
   "cell_type": "code",
   "execution_count": 22,
   "id": "219ed897",
   "metadata": {},
   "outputs": [
    {
     "name": "stderr",
     "output_type": "stream",
     "text": [
      "C:\\Users\\Abhiram\\anaconda3\\lib\\site-packages\\seaborn\\_decorators.py:36: FutureWarning: Pass the following variable as a keyword arg: x. From version 0.12, the only valid positional argument will be `data`, and passing other arguments without an explicit keyword will result in an error or misinterpretation.\n",
      "  warnings.warn(\n"
     ]
    },
    {
     "data": {
      "image/png": "[encoded data removed]",
      "text/plain": [
       "<Figure size 432x288 with 1 Axes>"
      ]
     },
     "metadata": {
      "needs_background": "light"
     },
     "output_type": "display_data"
    }
   ],
   "source": [
    "sns.countplot(cd[\"Amount\"]);"
   ]
  },
  {
   "cell_type": "code",
   "execution_count": 16,
   "id": "97eab90b",
   "metadata": {},
   "outputs": [
    {
     "data": {
      "text/plain": [
       "True"
      ]
     },
     "execution_count": 16,
     "metadata": {},
     "output_type": "execute_result"
    }
   ],
   "source": [
    "cd.duplicated().any()"
   ]
  },
  {
   "cell_type": "code",
   "execution_count": 17,
   "id": "db4e7ec7",
   "metadata": {},
   "outputs": [
    {
     "data": {
      "text/plain": [
       "(284807, 31)"
      ]
     },
     "execution_count": 17,
     "metadata": {},
     "output_type": "execute_result"
    }
   ],
   "source": [
    "cd.shape"
   ]
  },
  {
   "cell_type": "code",
   "execution_count": 18,
   "id": "ed4b5bc4",
   "metadata": {},
   "outputs": [
    {
     "data": {
      "text/plain": [
       "25162590.009999998"
      ]
     },
     "execution_count": 18,
     "metadata": {},
     "output_type": "execute_result"
    }
   ],
   "source": [
    "cd[\"Amount\"].sum()"
   ]
  },
  {
   "cell_type": "code",
   "execution_count": 19,
   "id": "373195c8",
   "metadata": {},
   "outputs": [],
   "source": [
    "# Remove duplication\n",
    "data= cd.drop_duplicates()"
   ]
  },
  {
   "cell_type": "code",
   "execution_count": 20,
   "id": "3e3c5bef",
   "metadata": {},
   "outputs": [
    {
     "data": {
      "text/plain": [
       "0    284315\n",
       "1       492\n",
       "Name: Class, dtype: int64"
      ]
     },
     "execution_count": 20,
     "metadata": {},
     "output_type": "execute_result"
    }
   ],
   "source": [
    "cd['Class'].value_counts()"
   ]
  },
  {
   "cell_type": "code",
   "execution_count": 21,
   "id": "36f3c0cf",
   "metadata": {},
   "outputs": [
    {
     "data": {
      "text/plain": [
       "False"
      ]
     },
     "execution_count": 21,
     "metadata": {},
     "output_type": "execute_result"
    }
   ],
   "source": [
    "data.duplicated().any()"
   ]
  },
  {
   "cell_type": "code",
   "execution_count": 23,
   "id": "e204d958",
   "metadata": {},
   "outputs": [
    {
     "data": {
      "text/plain": [
       "(283726, 31)"
      ]
     },
     "execution_count": 23,
     "metadata": {},
     "output_type": "execute_result"
    }
   ],
   "source": [
    "cd.shape"
   ]
  },
  {
   "cell_type": "code",
   "execution_count": 47,
   "id": "7f29cce5",
   "metadata": {},
   "outputs": [
    {
     "name": "stdout",
     "output_type": "stream",
     "text": [
      "(284315, 31)\n",
      "(492, 31)\n"
     ]
    }
   ],
   "source": [
    "legit = cd[cd.Class==0]\n",
    "fraud = cd[cd.Class==1]\n",
    "print(legit.shape)\n",
    "print(fraud.shape)"
   ]
  },
  {
   "cell_type": "code",
   "execution_count": 48,
   "id": "b380935a",
   "metadata": {},
   "outputs": [
    {
     "data": {
      "text/plain": [
       "count    284315.000000\n",
       "mean         88.291022\n",
       "std         250.105092\n",
       "min           0.000000\n",
       "25%           5.650000\n",
       "50%          22.000000\n",
       "75%          77.050000\n",
       "max       25691.160000\n",
       "Name: Amount, dtype: float64"
      ]
     },
     "execution_count": 48,
     "metadata": {},
     "output_type": "execute_result"
    }
   ],
   "source": [
    "legit.Amount.describe()"
   ]
  },
  {
   "cell_type": "code",
   "execution_count": 49,
   "id": "78894eea",
   "metadata": {},
   "outputs": [
    {
     "data": {
      "text/plain": [
       "count     492.000000\n",
       "mean      122.211321\n",
       "std       256.683288\n",
       "min         0.000000\n",
       "25%         1.000000\n",
       "50%         9.250000\n",
       "75%       105.890000\n",
       "max      2125.870000\n",
       "Name: Amount, dtype: float64"
      ]
     },
     "execution_count": 49,
     "metadata": {},
     "output_type": "execute_result"
    }
   ],
   "source": [
    "fraud.Amount.describe()"
   ]
  },
  {
   "cell_type": "code",
   "execution_count": 50,
   "id": "ce2ed662",
   "metadata": {},
   "outputs": [
    {
     "data": {
      "text/html": [
       "<div>\n",
       "<style scoped>\n",
       "    .dataframe tbody tr th:only-of-type {\n",
       "        vertical-align: middle;\n",
       "    }\n",
       "\n",
       "    .dataframe tbody tr th {\n",
       "        vertical-align: top;\n",
       "    }\n",
       "\n",
       "    .dataframe thead th {\n",
       "        text-align: right;\n",
       "    }\n",
       "</style>\n",
       "<table border=\"1\" class=\"dataframe\">\n",
       "  <thead>\n",
       "    <tr style=\"text-align: right;\">\n",
       "      <th></th>\n",
       "      <th>Time</th>\n",
       "      <th>V1</th>\n",
       "      <th>V2</th>\n",
       "      <th>V3</th>\n",
       "      <th>V4</th>\n",
       "      <th>V5</th>\n",
       "      <th>V6</th>\n",
       "      <th>V7</th>\n",
       "      <th>V8</th>\n",
       "      <th>V9</th>\n",
       "      <th>...</th>\n",
       "      <th>V20</th>\n",
       "      <th>V21</th>\n",
       "      <th>V22</th>\n",
       "      <th>V23</th>\n",
       "      <th>V24</th>\n",
       "      <th>V25</th>\n",
       "      <th>V26</th>\n",
       "      <th>V27</th>\n",
       "      <th>V28</th>\n",
       "      <th>Amount</th>\n",
       "    </tr>\n",
       "    <tr>\n",
       "      <th>Class</th>\n",
       "      <th></th>\n",
       "      <th></th>\n",
       "      <th></th>\n",
       "      <th></th>\n",
       "      <th></th>\n",
       "      <th></th>\n",
       "      <th></th>\n",
       "      <th></th>\n",
       "      <th></th>\n",
       "      <th></th>\n",
       "      <th></th>\n",
       "      <th></th>\n",
       "      <th></th>\n",
       "      <th></th>\n",
       "      <th></th>\n",
       "      <th></th>\n",
       "      <th></th>\n",
       "      <th></th>\n",
       "      <th></th>\n",
       "      <th></th>\n",
       "      <th></th>\n",
       "    </tr>\n",
       "  </thead>\n",
       "  <tbody>\n",
       "    <tr>\n",
       "      <th>0</th>\n",
       "      <td>94838.202258</td>\n",
       "      <td>0.008258</td>\n",
       "      <td>-0.006271</td>\n",
       "      <td>0.012171</td>\n",
       "      <td>-0.007860</td>\n",
       "      <td>0.005453</td>\n",
       "      <td>0.002419</td>\n",
       "      <td>0.009637</td>\n",
       "      <td>-0.000987</td>\n",
       "      <td>0.004467</td>\n",
       "      <td>...</td>\n",
       "      <td>-0.000644</td>\n",
       "      <td>-0.001235</td>\n",
       "      <td>-0.000024</td>\n",
       "      <td>0.000070</td>\n",
       "      <td>0.000182</td>\n",
       "      <td>-0.000072</td>\n",
       "      <td>-0.000089</td>\n",
       "      <td>-0.000295</td>\n",
       "      <td>-0.000131</td>\n",
       "      <td>88.291022</td>\n",
       "    </tr>\n",
       "    <tr>\n",
       "      <th>1</th>\n",
       "      <td>80746.806911</td>\n",
       "      <td>-4.771948</td>\n",
       "      <td>3.623778</td>\n",
       "      <td>-7.033281</td>\n",
       "      <td>4.542029</td>\n",
       "      <td>-3.151225</td>\n",
       "      <td>-1.397737</td>\n",
       "      <td>-5.568731</td>\n",
       "      <td>0.570636</td>\n",
       "      <td>-2.581123</td>\n",
       "      <td>...</td>\n",
       "      <td>0.372319</td>\n",
       "      <td>0.713588</td>\n",
       "      <td>0.014049</td>\n",
       "      <td>-0.040308</td>\n",
       "      <td>-0.105130</td>\n",
       "      <td>0.041449</td>\n",
       "      <td>0.051648</td>\n",
       "      <td>0.170575</td>\n",
       "      <td>0.075667</td>\n",
       "      <td>122.211321</td>\n",
       "    </tr>\n",
       "  </tbody>\n",
       "</table>\n",
       "<p>2 rows × 30 columns</p>\n",
       "</div>"
      ],
      "text/plain": [
       "               Time        V1        V2        V3        V4        V5  \\\n",
       "Class                                                                   \n",
       "0      94838.202258  0.008258 -0.006271  0.012171 -0.007860  0.005453   \n",
       "1      80746.806911 -4.771948  3.623778 -7.033281  4.542029 -3.151225   \n",
       "\n",
       "             V6        V7        V8        V9  ...       V20       V21  \\\n",
       "Class                                          ...                       \n",
       "0      0.002419  0.009637 -0.000987  0.004467  ... -0.000644 -0.001235   \n",
       "1     -1.397737 -5.568731  0.570636 -2.581123  ...  0.372319  0.713588   \n",
       "\n",
       "            V22       V23       V24       V25       V26       V27       V28  \\\n",
       "Class                                                                         \n",
       "0     -0.000024  0.000070  0.000182 -0.000072 -0.000089 -0.000295 -0.000131   \n",
       "1      0.014049 -0.040308 -0.105130  0.041449  0.051648  0.170575  0.075667   \n",
       "\n",
       "           Amount  \n",
       "Class              \n",
       "0       88.291022  \n",
       "1      122.211321  \n",
       "\n",
       "[2 rows x 30 columns]"
      ]
     },
     "execution_count": 50,
     "metadata": {},
     "output_type": "execute_result"
    }
   ],
   "source": [
    "cd.groupby(\"Class\").mean()"
   ]
  },
  {
   "cell_type": "code",
   "execution_count": 51,
   "id": "eb62b435",
   "metadata": {},
   "outputs": [
    {
     "data": {
      "text/html": [
       "<div>\n",
       "<style scoped>\n",
       "    .dataframe tbody tr th:only-of-type {\n",
       "        vertical-align: middle;\n",
       "    }\n",
       "\n",
       "    .dataframe tbody tr th {\n",
       "        vertical-align: top;\n",
       "    }\n",
       "\n",
       "    .dataframe thead th {\n",
       "        text-align: right;\n",
       "    }\n",
       "</style>\n",
       "<table border=\"1\" class=\"dataframe\">\n",
       "  <thead>\n",
       "    <tr style=\"text-align: right;\">\n",
       "      <th></th>\n",
       "      <th>Time</th>\n",
       "      <th>V1</th>\n",
       "      <th>V2</th>\n",
       "      <th>V3</th>\n",
       "      <th>V4</th>\n",
       "      <th>V5</th>\n",
       "      <th>V6</th>\n",
       "      <th>V7</th>\n",
       "      <th>V8</th>\n",
       "      <th>V9</th>\n",
       "      <th>...</th>\n",
       "      <th>V21</th>\n",
       "      <th>V22</th>\n",
       "      <th>V23</th>\n",
       "      <th>V24</th>\n",
       "      <th>V25</th>\n",
       "      <th>V26</th>\n",
       "      <th>V27</th>\n",
       "      <th>V28</th>\n",
       "      <th>Amount</th>\n",
       "      <th>Class</th>\n",
       "    </tr>\n",
       "  </thead>\n",
       "  <tbody>\n",
       "    <tr>\n",
       "      <th>279863</th>\n",
       "      <td>169142.0</td>\n",
       "      <td>-1.927883</td>\n",
       "      <td>1.125653</td>\n",
       "      <td>-4.518331</td>\n",
       "      <td>1.749293</td>\n",
       "      <td>-1.566487</td>\n",
       "      <td>-2.010494</td>\n",
       "      <td>-0.882850</td>\n",
       "      <td>0.697211</td>\n",
       "      <td>-2.064945</td>\n",
       "      <td>...</td>\n",
       "      <td>0.778584</td>\n",
       "      <td>-0.319189</td>\n",
       "      <td>0.639419</td>\n",
       "      <td>-0.294885</td>\n",
       "      <td>0.537503</td>\n",
       "      <td>0.788395</td>\n",
       "      <td>0.292680</td>\n",
       "      <td>0.147968</td>\n",
       "      <td>390.00</td>\n",
       "      <td>1</td>\n",
       "    </tr>\n",
       "    <tr>\n",
       "      <th>280143</th>\n",
       "      <td>169347.0</td>\n",
       "      <td>1.378559</td>\n",
       "      <td>1.289381</td>\n",
       "      <td>-5.004247</td>\n",
       "      <td>1.411850</td>\n",
       "      <td>0.442581</td>\n",
       "      <td>-1.326536</td>\n",
       "      <td>-1.413170</td>\n",
       "      <td>0.248525</td>\n",
       "      <td>-1.127396</td>\n",
       "      <td>...</td>\n",
       "      <td>0.370612</td>\n",
       "      <td>0.028234</td>\n",
       "      <td>-0.145640</td>\n",
       "      <td>-0.081049</td>\n",
       "      <td>0.521875</td>\n",
       "      <td>0.739467</td>\n",
       "      <td>0.389152</td>\n",
       "      <td>0.186637</td>\n",
       "      <td>0.76</td>\n",
       "      <td>1</td>\n",
       "    </tr>\n",
       "    <tr>\n",
       "      <th>280149</th>\n",
       "      <td>169351.0</td>\n",
       "      <td>-0.676143</td>\n",
       "      <td>1.126366</td>\n",
       "      <td>-2.213700</td>\n",
       "      <td>0.468308</td>\n",
       "      <td>-1.120541</td>\n",
       "      <td>-0.003346</td>\n",
       "      <td>-2.234739</td>\n",
       "      <td>1.210158</td>\n",
       "      <td>-0.652250</td>\n",
       "      <td>...</td>\n",
       "      <td>0.751826</td>\n",
       "      <td>0.834108</td>\n",
       "      <td>0.190944</td>\n",
       "      <td>0.032070</td>\n",
       "      <td>-0.739695</td>\n",
       "      <td>0.471111</td>\n",
       "      <td>0.385107</td>\n",
       "      <td>0.194361</td>\n",
       "      <td>77.89</td>\n",
       "      <td>1</td>\n",
       "    </tr>\n",
       "    <tr>\n",
       "      <th>281144</th>\n",
       "      <td>169966.0</td>\n",
       "      <td>-3.113832</td>\n",
       "      <td>0.585864</td>\n",
       "      <td>-5.399730</td>\n",
       "      <td>1.817092</td>\n",
       "      <td>-0.840618</td>\n",
       "      <td>-2.943548</td>\n",
       "      <td>-2.208002</td>\n",
       "      <td>1.058733</td>\n",
       "      <td>-1.632333</td>\n",
       "      <td>...</td>\n",
       "      <td>0.583276</td>\n",
       "      <td>-0.269209</td>\n",
       "      <td>-0.456108</td>\n",
       "      <td>-0.183659</td>\n",
       "      <td>-0.328168</td>\n",
       "      <td>0.606116</td>\n",
       "      <td>0.884876</td>\n",
       "      <td>-0.253700</td>\n",
       "      <td>245.00</td>\n",
       "      <td>1</td>\n",
       "    </tr>\n",
       "    <tr>\n",
       "      <th>281674</th>\n",
       "      <td>170348.0</td>\n",
       "      <td>1.991976</td>\n",
       "      <td>0.158476</td>\n",
       "      <td>-2.583441</td>\n",
       "      <td>0.408670</td>\n",
       "      <td>1.151147</td>\n",
       "      <td>-0.096695</td>\n",
       "      <td>0.223050</td>\n",
       "      <td>-0.068384</td>\n",
       "      <td>0.577829</td>\n",
       "      <td>...</td>\n",
       "      <td>-0.164350</td>\n",
       "      <td>-0.295135</td>\n",
       "      <td>-0.072173</td>\n",
       "      <td>-0.450261</td>\n",
       "      <td>0.313267</td>\n",
       "      <td>-0.289617</td>\n",
       "      <td>0.002988</td>\n",
       "      <td>-0.015309</td>\n",
       "      <td>42.53</td>\n",
       "      <td>1</td>\n",
       "    </tr>\n",
       "  </tbody>\n",
       "</table>\n",
       "<p>5 rows × 31 columns</p>\n",
       "</div>"
      ],
      "text/plain": [
       "            Time        V1        V2        V3        V4        V5        V6  \\\n",
       "279863  169142.0 -1.927883  1.125653 -4.518331  1.749293 -1.566487 -2.010494   \n",
       "280143  169347.0  1.378559  1.289381 -5.004247  1.411850  0.442581 -1.326536   \n",
       "280149  169351.0 -0.676143  1.126366 -2.213700  0.468308 -1.120541 -0.003346   \n",
       "281144  169966.0 -3.113832  0.585864 -5.399730  1.817092 -0.840618 -2.943548   \n",
       "281674  170348.0  1.991976  0.158476 -2.583441  0.408670  1.151147 -0.096695   \n",
       "\n",
       "              V7        V8        V9  ...       V21       V22       V23  \\\n",
       "279863 -0.882850  0.697211 -2.064945  ...  0.778584 -0.319189  0.639419   \n",
       "280143 -1.413170  0.248525 -1.127396  ...  0.370612  0.028234 -0.145640   \n",
       "280149 -2.234739  1.210158 -0.652250  ...  0.751826  0.834108  0.190944   \n",
       "281144 -2.208002  1.058733 -1.632333  ...  0.583276 -0.269209 -0.456108   \n",
       "281674  0.223050 -0.068384  0.577829  ... -0.164350 -0.295135 -0.072173   \n",
       "\n",
       "             V24       V25       V26       V27       V28  Amount  Class  \n",
       "279863 -0.294885  0.537503  0.788395  0.292680  0.147968  390.00      1  \n",
       "280143 -0.081049  0.521875  0.739467  0.389152  0.186637    0.76      1  \n",
       "280149  0.032070 -0.739695  0.471111  0.385107  0.194361   77.89      1  \n",
       "281144 -0.183659 -0.328168  0.606116  0.884876 -0.253700  245.00      1  \n",
       "281674 -0.450261  0.313267 -0.289617  0.002988 -0.015309   42.53      1  \n",
       "\n",
       "[5 rows x 31 columns]"
      ]
     },
     "execution_count": 51,
     "metadata": {},
     "output_type": "execute_result"
    }
   ],
   "source": [
    "legit_sample = legit.sample(n=492)\n",
    "new_cd = pd.concat([legit_sample,fraud],axis = 0)\n",
    "new_cd.head()\n",
    "new_cd.tail()"
   ]
  },
  {
   "cell_type": "code",
   "execution_count": 52,
   "id": "ef27f9eb",
   "metadata": {},
   "outputs": [
    {
     "data": {
      "text/html": [
       "<div>\n",
       "<style scoped>\n",
       "    .dataframe tbody tr th:only-of-type {\n",
       "        vertical-align: middle;\n",
       "    }\n",
       "\n",
       "    .dataframe tbody tr th {\n",
       "        vertical-align: top;\n",
       "    }\n",
       "\n",
       "    .dataframe thead th {\n",
       "        text-align: right;\n",
       "    }\n",
       "</style>\n",
       "<table border=\"1\" class=\"dataframe\">\n",
       "  <thead>\n",
       "    <tr style=\"text-align: right;\">\n",
       "      <th></th>\n",
       "      <th>Time</th>\n",
       "      <th>V1</th>\n",
       "      <th>V2</th>\n",
       "      <th>V3</th>\n",
       "      <th>V4</th>\n",
       "      <th>V5</th>\n",
       "      <th>V6</th>\n",
       "      <th>V7</th>\n",
       "      <th>V8</th>\n",
       "      <th>V9</th>\n",
       "      <th>...</th>\n",
       "      <th>V20</th>\n",
       "      <th>V21</th>\n",
       "      <th>V22</th>\n",
       "      <th>V23</th>\n",
       "      <th>V24</th>\n",
       "      <th>V25</th>\n",
       "      <th>V26</th>\n",
       "      <th>V27</th>\n",
       "      <th>V28</th>\n",
       "      <th>Amount</th>\n",
       "    </tr>\n",
       "    <tr>\n",
       "      <th>Class</th>\n",
       "      <th></th>\n",
       "      <th></th>\n",
       "      <th></th>\n",
       "      <th></th>\n",
       "      <th></th>\n",
       "      <th></th>\n",
       "      <th></th>\n",
       "      <th></th>\n",
       "      <th></th>\n",
       "      <th></th>\n",
       "      <th></th>\n",
       "      <th></th>\n",
       "      <th></th>\n",
       "      <th></th>\n",
       "      <th></th>\n",
       "      <th></th>\n",
       "      <th></th>\n",
       "      <th></th>\n",
       "      <th></th>\n",
       "      <th></th>\n",
       "      <th></th>\n",
       "    </tr>\n",
       "  </thead>\n",
       "  <tbody>\n",
       "    <tr>\n",
       "      <th>0</th>\n",
       "      <td>94454.558943</td>\n",
       "      <td>0.097552</td>\n",
       "      <td>0.027021</td>\n",
       "      <td>-0.031752</td>\n",
       "      <td>-0.062246</td>\n",
       "      <td>0.011843</td>\n",
       "      <td>-0.021259</td>\n",
       "      <td>0.041381</td>\n",
       "      <td>0.014126</td>\n",
       "      <td>-0.076249</td>\n",
       "      <td>...</td>\n",
       "      <td>-0.005710</td>\n",
       "      <td>-0.011497</td>\n",
       "      <td>0.010527</td>\n",
       "      <td>0.005725</td>\n",
       "      <td>-0.003397</td>\n",
       "      <td>-0.015099</td>\n",
       "      <td>-0.022815</td>\n",
       "      <td>-0.002741</td>\n",
       "      <td>0.004172</td>\n",
       "      <td>82.882500</td>\n",
       "    </tr>\n",
       "    <tr>\n",
       "      <th>1</th>\n",
       "      <td>80746.806911</td>\n",
       "      <td>-4.771948</td>\n",
       "      <td>3.623778</td>\n",
       "      <td>-7.033281</td>\n",
       "      <td>4.542029</td>\n",
       "      <td>-3.151225</td>\n",
       "      <td>-1.397737</td>\n",
       "      <td>-5.568731</td>\n",
       "      <td>0.570636</td>\n",
       "      <td>-2.581123</td>\n",
       "      <td>...</td>\n",
       "      <td>0.372319</td>\n",
       "      <td>0.713588</td>\n",
       "      <td>0.014049</td>\n",
       "      <td>-0.040308</td>\n",
       "      <td>-0.105130</td>\n",
       "      <td>0.041449</td>\n",
       "      <td>0.051648</td>\n",
       "      <td>0.170575</td>\n",
       "      <td>0.075667</td>\n",
       "      <td>122.211321</td>\n",
       "    </tr>\n",
       "  </tbody>\n",
       "</table>\n",
       "<p>2 rows × 30 columns</p>\n",
       "</div>"
      ],
      "text/plain": [
       "               Time        V1        V2        V3        V4        V5  \\\n",
       "Class                                                                   \n",
       "0      94454.558943  0.097552  0.027021 -0.031752 -0.062246  0.011843   \n",
       "1      80746.806911 -4.771948  3.623778 -7.033281  4.542029 -3.151225   \n",
       "\n",
       "             V6        V7        V8        V9  ...       V20       V21  \\\n",
       "Class                                          ...                       \n",
       "0     -0.021259  0.041381  0.014126 -0.076249  ... -0.005710 -0.011497   \n",
       "1     -1.397737 -5.568731  0.570636 -2.581123  ...  0.372319  0.713588   \n",
       "\n",
       "            V22       V23       V24       V25       V26       V27       V28  \\\n",
       "Class                                                                         \n",
       "0      0.010527  0.005725 -0.003397 -0.015099 -0.022815 -0.002741  0.004172   \n",
       "1      0.014049 -0.040308 -0.105130  0.041449  0.051648  0.170575  0.075667   \n",
       "\n",
       "           Amount  \n",
       "Class              \n",
       "0       82.882500  \n",
       "1      122.211321  \n",
       "\n",
       "[2 rows x 30 columns]"
      ]
     },
     "execution_count": 52,
     "metadata": {},
     "output_type": "execute_result"
    }
   ],
   "source": [
    "new_cd['Class'].value_counts()\n",
    "new_cd.groupby('Class').mean()"
   ]
  },
  {
   "cell_type": "code",
   "execution_count": 53,
   "id": "296b436c",
   "metadata": {},
   "outputs": [
    {
     "name": "stdout",
     "output_type": "stream",
     "text": [
      "            Time        V1        V2        V3        V4        V5        V6  \\\n",
      "12126    21108.0 -0.929879  0.168893  2.728816  3.561186 -0.076888  0.555259   \n",
      "55434    46938.0 -0.940826  0.793784  0.418634  0.822638  0.681966  0.689998   \n",
      "217206  140805.0 -0.615392  0.795685 -0.481423  0.890839  0.443622  0.176117   \n",
      "164032  116407.0  1.990689 -0.230652 -0.453525  0.305427 -0.264612 -0.148375   \n",
      "162775  115359.0 -0.474564  1.081039 -0.948067 -0.976899  1.555452  1.305063   \n",
      "...          ...       ...       ...       ...       ...       ...       ...   \n",
      "279863  169142.0 -1.927883  1.125653 -4.518331  1.749293 -1.566487 -2.010494   \n",
      "280143  169347.0  1.378559  1.289381 -5.004247  1.411850  0.442581 -1.326536   \n",
      "280149  169351.0 -0.676143  1.126366 -2.213700  0.468308 -1.120541 -0.003346   \n",
      "281144  169966.0 -3.113832  0.585864 -5.399730  1.817092 -0.840618 -2.943548   \n",
      "281674  170348.0  1.991976  0.158476 -2.583441  0.408670  1.151147 -0.096695   \n",
      "\n",
      "              V7        V8        V9  ...       V20       V21       V22  \\\n",
      "12126  -0.824212  0.494098  1.033976  ...  0.351853  0.069954  0.629978   \n",
      "55434  -0.089020  0.800590 -0.739967  ...  0.165483  0.204323  0.431053   \n",
      "217206  2.076782 -0.414368 -0.876095  ... -0.293641  0.130362  0.711528   \n",
      "164032 -0.440176 -0.029352  1.092678  ... -0.117594 -0.173256 -0.324472   \n",
      "162775  0.527485  0.608709 -0.105246  ...  0.044535  0.411977  1.615189   \n",
      "...          ...       ...       ...  ...       ...       ...       ...   \n",
      "279863 -0.882850  0.697211 -2.064945  ...  1.252967  0.778584 -0.319189   \n",
      "280143 -1.413170  0.248525 -1.127396  ...  0.226138  0.370612  0.028234   \n",
      "280149 -2.234739  1.210158 -0.652250  ...  0.247968  0.751826  0.834108   \n",
      "281144 -2.208002  1.058733 -1.632333  ...  0.306271  0.583276 -0.269209   \n",
      "281674  0.223050 -0.068384  0.577829  ... -0.017652 -0.164350 -0.295135   \n",
      "\n",
      "             V23       V24       V25       V26       V27       V28  Amount  \n",
      "12126   0.017276  0.507466 -0.335027  0.334425  0.391350  0.224897   29.95  \n",
      "55434  -0.242894 -1.364699 -0.064995 -0.102031  0.293986  0.066901   24.43  \n",
      "217206 -0.377432 -0.421415 -0.034532 -0.399704  0.106658  0.101638  231.71  \n",
      "164032  0.382900  0.589816 -0.367917 -0.649621  0.040594 -0.022460    9.61  \n",
      "162775 -0.081227 -0.906127 -0.868381 -0.160330  0.371419  0.074449    7.50  \n",
      "...          ...       ...       ...       ...       ...       ...     ...  \n",
      "279863  0.639419 -0.294885  0.537503  0.788395  0.292680  0.147968  390.00  \n",
      "280143 -0.145640 -0.081049  0.521875  0.739467  0.389152  0.186637    0.76  \n",
      "280149  0.190944  0.032070 -0.739695  0.471111  0.385107  0.194361   77.89  \n",
      "281144 -0.456108 -0.183659 -0.328168  0.606116  0.884876 -0.253700  245.00  \n",
      "281674 -0.072173 -0.450261  0.313267 -0.289617  0.002988 -0.015309   42.53  \n",
      "\n",
      "[984 rows x 30 columns]\n",
      "12126     0\n",
      "55434     0\n",
      "217206    0\n",
      "164032    0\n",
      "162775    0\n",
      "         ..\n",
      "279863    1\n",
      "280143    1\n",
      "280149    1\n",
      "281144    1\n",
      "281674    1\n",
      "Name: Class, Length: 984, dtype: int64\n"
     ]
    }
   ],
   "source": [
    "X = new_cd.drop(columns = 'Class',axis = 1)\n",
    "Y = new_cd['Class']\n",
    "print(X)\n",
    "print(Y)"
   ]
  },
  {
   "cell_type": "code",
   "execution_count": 54,
   "id": "c0d602da",
   "metadata": {},
   "outputs": [
    {
     "name": "stdout",
     "output_type": "stream",
     "text": [
      "Fraud Transaction(0): 284315\n",
      "Legitimate Transaction (1): 492\n",
      "This is imbalnce data\n"
     ]
    }
   ],
   "source": [
    "fraud,legitimate = cd['Class'].value_counts()\n",
    "\n",
    "print(f\"Fraud Transaction(0): {fraud}\")\n",
    "print(f\"Legitimate Transaction (1): {legitimate}\")\n",
    "print(f\"This is imbalnce data\")"
   ]
  },
  {
   "cell_type": "code",
   "execution_count": 55,
   "id": "c44f6ba9",
   "metadata": {},
   "outputs": [],
   "source": [
    "fraud = cd[cd['Class']==0]\n",
    "legitimate = cd[cd['Class']==1]"
   ]
  },
  {
   "cell_type": "code",
   "execution_count": 56,
   "id": "63f52ed5",
   "metadata": {},
   "outputs": [
    {
     "data": {
      "text/plain": [
       "Time      V1         V2         V3         V4         V5         V6         V7         V8         V9         V10        V11        V12        V13        V14        V15        V16        V17        V18        V19        V20        V21        V22        V23        V24        V25        V26        V27        V28        Amount  Class\n",
       "163152.0  -1.196037   1.585949   2.883976   3.378471   1.511706   3.717077   0.585362  -0.156001   0.122648   4.217934   1.385525  -0.709405  -0.256168  -1.564352   1.693218  -0.785210  -0.228008  -0.412833   0.234834   1.375790  -0.370294   0.524395  -0.355170  -0.869790  -0.133198   0.327804  -0.035702  -0.858197  7.56    0        18\n",
       "          -1.203617   1.574009   2.889277   3.381404   1.538663   3.698747   0.560211  -0.150911   0.124136   4.220998   1.384569  -0.706897  -0.256274  -1.562583   1.692915  -0.787338  -0.226776  -0.412354   0.234322   1.385597  -0.366727   0.522223  -0.357329  -0.870174  -0.134166   0.327019  -0.042648  -0.855262  1.51    0        18\n",
       "170731.0   2.033492   0.766969  -2.107555   3.631952   1.348594  -0.499907   0.945159  -0.286392  -1.370581   1.653073  -1.600434  -1.510901  -2.143280   1.189850  -0.875588   0.175808  -0.419433  -0.464717  -1.414528  -0.430560   0.241894   0.658545  -0.102644   0.580535   0.643637   0.347240  -0.116618  -0.078601  0.76    0         9\n",
       "43153.0   -2.086016   2.203265   1.654339   2.941050  -1.683045   0.529728  -1.352162   1.793449  -0.723686   0.600365  -0.982212  -0.551636  -1.337000   0.834403   1.251862   0.033455   1.067978   0.160510   0.213087   0.079002   0.216444   0.567241  -0.035345   0.370201   0.157378   0.440341   0.210230   0.090558  0.76    0         9\n",
       "68780.0    0.491469  -0.917547   1.675188   3.001976  -1.464269   0.749245  -0.702555   0.384311   0.512069   0.338069  -0.709212  -0.268987  -1.020228  -0.303879   0.313640   0.541331  -0.068891  -0.114026  -1.643937   0.306224   0.370712   0.607597  -0.221228   0.405781   0.080558   0.148798   0.022320   0.086863  281.47  0         5\n",
       "                                                                                                                                                                                                                                                                                                                                               ..\n",
       "65179.0    1.211936   0.704387  -0.433427   0.888685   0.246402  -1.146268   0.421741  -0.268994  -0.375879  -0.792653   0.912603   0.691485   1.041027  -1.489310   1.063904   0.106578   1.364831  -0.437407  -0.855633  -0.035289  -0.090995  -0.112559  -0.028042   0.321373   0.495229   0.374352  -0.005887   0.045361  0.76    0         1\n",
       "65180.0    1.115728  -1.075991   0.633478  -0.655357  -1.068740   0.524206  -1.048665   0.367669  -0.460080   0.611242   1.440991  -0.208944  -1.136439  -0.004827   0.076652   0.618923   0.812957  -1.608246   0.188090   0.076327   0.302172   0.742218  -0.071528  -0.277770   0.265391  -0.102726   0.036093   0.011602  80.00   0         1\n",
       "           1.240745   0.776088  -0.313806   0.984619  -0.019049  -1.728700   0.520610  -0.434773  -0.423467  -0.756044   0.917694   0.804933   1.270221  -1.554132   0.769960   0.327372   1.147404  -0.085885  -0.576641   0.005514  -0.102239  -0.168868  -0.035015   0.845781   0.548841   0.331043  -0.020495   0.051391  0.76    0         1\n",
       "65181.0   -6.968622   1.552543  -1.471983   1.509984  -4.907883   2.324274  -4.959692  -1.745430  -1.017672  -0.596870  -0.618192   2.601800   0.030912   1.676190  -1.985493  -1.380569   2.485633   1.500515  -0.060186   0.574921  -2.901364   0.292703  -0.591841   0.293393   0.166165  -0.132610   0.176943  -0.280242  150.00  0         1\n",
       "172792.0  -0.533413  -0.189733   0.703337  -0.506271  -0.012546  -0.649617   1.577006  -0.414650   0.486180  -0.915427  -1.040458  -0.031513  -0.188093  -0.084316   0.041333  -0.302620  -0.660377   0.167430  -0.256117   0.382948   0.261057   0.643078   0.376777   0.008797  -0.473649  -0.818267  -0.002415   0.013649  217.00  0         1\n",
       "Length: 283253, dtype: int64"
      ]
     },
     "execution_count": 56,
     "metadata": {},
     "output_type": "execute_result"
    }
   ],
   "source": [
    "fraud.value_counts()"
   ]
  },
  {
   "cell_type": "code",
   "execution_count": 57,
   "id": "03a8ac6f",
   "metadata": {},
   "outputs": [
    {
     "data": {
      "text/plain": [
       "Time      V1          V2         V3          V4        V5          V6         V7          V8          V9         V10         V11        V12         V13        V14         V15        V16         V17         V18        V19        V20        V21         V22        V23        V24        V25        V26        V27        V28        Amount  Class\n",
       "68207.0   -13.192671  12.785971  -9.906650   3.320337  -4.801176    5.760059  -18.750889  -37.353443  -0.391540  -5.052502    4.406806  -4.610756   -1.909488  -9.072711   -0.226074  -6.211557   -6.248145   -3.149247   0.051576  -3.493050   27.202839  -8.887017   5.303607  -0.639435   0.263203  -0.108877   1.269566   0.939407  1.00    1        6\n",
       "94362.0   -26.457745  16.497472  -30.177317  8.904157  -17.892600  -1.227904  -31.197329  -11.438920  -9.462573  -22.187089   4.419997  -10.592305  -0.703796  -3.926207   -2.400246  -6.809890   -12.462315  -5.501051  -0.567940   2.812241  -8.755698    3.460893   0.896538   0.254836  -0.738097  -0.966564  -7.263482  -1.324884  1.00    1        4\n",
       "93860.0   -10.850282  6.727466   -16.760583  8.425832  -10.252697  -4.192171  -14.077086   7.168288   -3.683242  -15.239962   8.030708  -16.060306   0.270530  -14.952981  -0.241095  -11.866731  -15.486990  -5.748652   4.130031  -0.646818   2.541637    0.135535  -1.023967   0.406265   0.106593  -0.026232  -1.464630  -0.411682  78.00   1        2\n",
       "148053.0   1.261324   2.726800   -5.435019   5.342759   1.447043   -1.442584  -0.898702    0.123062   -2.748496  -3.202436    1.991361  -3.986416    0.577207  -8.485795   -0.794782  -0.666134   -1.372629   -0.104313  -1.466911   0.313332   0.209086   -0.425938  -0.154440  -0.018820   0.632234   0.192922   0.468181   0.280486  1.59    1        2\n",
       "84204.0   -1.927453   1.827621   -7.019495   5.348303  -2.739188   -2.107219  -5.015848    1.205868   -4.382713  -8.337707    7.190306  -9.424844   -0.223293  -12.875494  -0.071918  -6.299961   -12.719207  -3.740176   0.844060   2.172709   1.376938   -0.792017  -0.771414  -0.379574   0.718717   1.111151   1.277707   0.819081  512.25  1        2\n",
       "                                                                                                                                                                                                                                                                                                                                                        ..\n",
       "46057.0   -1.309441   1.786495   -1.371070   1.214335  -0.336642   -1.390120  -1.709109    0.667748   -1.699809  -3.843911    2.962599  -3.956045   -1.539232  -4.634631   -0.248403  -2.058551   -5.635494   -0.775271  -0.239310   0.253464   0.533521   -0.022180  -0.299556  -0.226416   0.364360  -0.475102   0.571426   0.293426  1.00    1        1\n",
       "45541.0   -1.519244   2.308492   -1.503599   2.064101  -1.000845   -1.016897  -2.059731   -0.275166   -1.562206  -2.755797    3.438248  -3.521529   -0.918761  -4.452100    0.499314  -2.907903   -5.248646   -0.936815   1.160120   0.175019   1.307871    0.102826  -0.017746   0.149696  -0.096602  -0.369115  -0.019244  -0.208319  1.00    1        1\n",
       "45501.0    1.001992   0.047938   -0.349002   1.493958   0.186939    0.190966  -0.001112    0.147140    0.580415  -0.792938   -0.984172  -0.567380   -1.105592  -1.381214    0.405490   0.279890    1.132160    0.092993  -0.298920   0.016004  -0.334417   -1.014315  -0.128427  -0.946242   0.456090  -0.453206   0.046627   0.064698  105.99  1        1\n",
       "45463.0   -1.476893   2.122314   -1.229470   1.201849  -0.343264   -1.317704  -1.528142   -0.620953   -1.213040  -2.975267    3.532220  -3.682640   -1.154777  -5.165229   -0.240091  -2.404927   -5.671739   -0.994294  -0.289936   0.276893   1.186036   -0.040215  -0.238930   0.110144   0.045418  -0.569232   0.481019  -0.047555  1.00    1        1\n",
       "170348.0   1.991976   0.158476   -2.583441   0.408670   1.151147   -0.096695   0.223050   -0.068384    0.577829  -0.888722    0.491140   0.728903    0.380428  -1.948883   -0.832498   0.519436    0.903562    1.197315   0.593509  -0.017652  -0.164350   -0.295135  -0.072173  -0.450261   0.313267  -0.289617   0.002988  -0.015309  42.53   1        1\n",
       "Length: 473, dtype: int64"
      ]
     },
     "execution_count": 57,
     "metadata": {},
     "output_type": "execute_result"
    }
   ],
   "source": [
    "legitimate.value_counts()"
   ]
  },
  {
   "cell_type": "code",
   "execution_count": 58,
   "id": "fa44bfcb",
   "metadata": {},
   "outputs": [],
   "source": [
    " #Handling Imbalanced Data"
   ]
  },
  {
   "cell_type": "code",
   "execution_count": 59,
   "id": "725fedd4",
   "metadata": {},
   "outputs": [
    {
     "data": {
      "text/plain": [
       "(984, 30)"
      ]
     },
     "execution_count": 59,
     "metadata": {},
     "output_type": "execute_result"
    }
   ],
   "source": [
    "X.shape"
   ]
  },
  {
   "cell_type": "code",
   "execution_count": 61,
   "id": "bde696c8",
   "metadata": {},
   "outputs": [
    {
     "data": {
      "text/plain": [
       "(984,)"
      ]
     },
     "execution_count": 61,
     "metadata": {},
     "output_type": "execute_result"
    }
   ],
   "source": [
    "Y.shape"
   ]
  },
  {
   "cell_type": "code",
   "execution_count": 62,
   "id": "98d92089",
   "metadata": {},
   "outputs": [],
   "source": [
    "# import numpy as np\n",
    "# import pandas as pd\n",
    "# import matplotlib.pyplot as plt\n",
    "# import seaborn as sns\n",
    "# from imblearn.over_sampling import SMOTE\n",
    "# from collections import Counter\n",
    "# from sklearn.model_selection import train_test_split\n",
    "# from sklearn.linear_model import LogisticRegression\n",
    "# from sklearn.metrics import confusion_matrix, classification_report\n",
    "# from tabulate import tabulate"
   ]
  },
  {
   "cell_type": "code",
   "execution_count": 63,
   "id": "e2d3823d",
   "metadata": {},
   "outputs": [
    {
     "name": "stdout",
     "output_type": "stream",
     "text": [
      "            Time        V1        V2        V3        V4        V5        V6  \\\n",
      "12126    21108.0 -0.929879  0.168893  2.728816  3.561186 -0.076888  0.555259   \n",
      "55434    46938.0 -0.940826  0.793784  0.418634  0.822638  0.681966  0.689998   \n",
      "217206  140805.0 -0.615392  0.795685 -0.481423  0.890839  0.443622  0.176117   \n",
      "164032  116407.0  1.990689 -0.230652 -0.453525  0.305427 -0.264612 -0.148375   \n",
      "162775  115359.0 -0.474564  1.081039 -0.948067 -0.976899  1.555452  1.305063   \n",
      "...          ...       ...       ...       ...       ...       ...       ...   \n",
      "279863  169142.0 -1.927883  1.125653 -4.518331  1.749293 -1.566487 -2.010494   \n",
      "280143  169347.0  1.378559  1.289381 -5.004247  1.411850  0.442581 -1.326536   \n",
      "280149  169351.0 -0.676143  1.126366 -2.213700  0.468308 -1.120541 -0.003346   \n",
      "281144  169966.0 -3.113832  0.585864 -5.399730  1.817092 -0.840618 -2.943548   \n",
      "281674  170348.0  1.991976  0.158476 -2.583441  0.408670  1.151147 -0.096695   \n",
      "\n",
      "              V7        V8        V9  ...       V20       V21       V22  \\\n",
      "12126  -0.824212  0.494098  1.033976  ...  0.351853  0.069954  0.629978   \n",
      "55434  -0.089020  0.800590 -0.739967  ...  0.165483  0.204323  0.431053   \n",
      "217206  2.076782 -0.414368 -0.876095  ... -0.293641  0.130362  0.711528   \n",
      "164032 -0.440176 -0.029352  1.092678  ... -0.117594 -0.173256 -0.324472   \n",
      "162775  0.527485  0.608709 -0.105246  ...  0.044535  0.411977  1.615189   \n",
      "...          ...       ...       ...  ...       ...       ...       ...   \n",
      "279863 -0.882850  0.697211 -2.064945  ...  1.252967  0.778584 -0.319189   \n",
      "280143 -1.413170  0.248525 -1.127396  ...  0.226138  0.370612  0.028234   \n",
      "280149 -2.234739  1.210158 -0.652250  ...  0.247968  0.751826  0.834108   \n",
      "281144 -2.208002  1.058733 -1.632333  ...  0.306271  0.583276 -0.269209   \n",
      "281674  0.223050 -0.068384  0.577829  ... -0.017652 -0.164350 -0.295135   \n",
      "\n",
      "             V23       V24       V25       V26       V27       V28  Amount  \n",
      "12126   0.017276  0.507466 -0.335027  0.334425  0.391350  0.224897   29.95  \n",
      "55434  -0.242894 -1.364699 -0.064995 -0.102031  0.293986  0.066901   24.43  \n",
      "217206 -0.377432 -0.421415 -0.034532 -0.399704  0.106658  0.101638  231.71  \n",
      "164032  0.382900  0.589816 -0.367917 -0.649621  0.040594 -0.022460    9.61  \n",
      "162775 -0.081227 -0.906127 -0.868381 -0.160330  0.371419  0.074449    7.50  \n",
      "...          ...       ...       ...       ...       ...       ...     ...  \n",
      "279863  0.639419 -0.294885  0.537503  0.788395  0.292680  0.147968  390.00  \n",
      "280143 -0.145640 -0.081049  0.521875  0.739467  0.389152  0.186637    0.76  \n",
      "280149  0.190944  0.032070 -0.739695  0.471111  0.385107  0.194361   77.89  \n",
      "281144 -0.456108 -0.183659 -0.328168  0.606116  0.884876 -0.253700  245.00  \n",
      "281674 -0.072173 -0.450261  0.313267 -0.289617  0.002988 -0.015309   42.53  \n",
      "\n",
      "[984 rows x 30 columns]\n"
     ]
    }
   ],
   "source": [
    "print(X)"
   ]
  },
  {
   "cell_type": "code",
   "execution_count": 64,
   "id": "642d2d36",
   "metadata": {},
   "outputs": [
    {
     "name": "stdout",
     "output_type": "stream",
     "text": [
      "12126     0\n",
      "55434     0\n",
      "217206    0\n",
      "164032    0\n",
      "162775    0\n",
      "         ..\n",
      "279863    1\n",
      "280143    1\n",
      "280149    1\n",
      "281144    1\n",
      "281674    1\n",
      "Name: Class, Length: 984, dtype: int64\n"
     ]
    }
   ],
   "source": [
    "print(Y)"
   ]
  },
  {
   "cell_type": "code",
   "execution_count": 65,
   "id": "2e900522",
   "metadata": {},
   "outputs": [],
   "source": [
    "X_train,X_test,Y_train,Y_test = tts(X,Y,test_size = 0.2,stratify = Y , random_state = 2)"
   ]
  },
  {
   "cell_type": "code",
   "execution_count": 67,
   "id": "c092dce8",
   "metadata": {},
   "outputs": [
    {
     "name": "stdout",
     "output_type": "stream",
     "text": [
      "(984, 30) (787, 30) (197, 30)\n"
     ]
    }
   ],
   "source": [
    "print(X.shape,X_train.shape,X_test.shape)"
   ]
  },
  {
   "cell_type": "code",
   "execution_count": 68,
   "id": "67d48406",
   "metadata": {},
   "outputs": [
    {
     "name": "stdout",
     "output_type": "stream",
     "text": [
      "(984,) (787,) (197,)\n"
     ]
    }
   ],
   "source": [
    "print(Y.shape,Y_train.shape,Y_test.shape)"
   ]
  },
  {
   "cell_type": "code",
   "execution_count": 69,
   "id": "00d8eb79",
   "metadata": {},
   "outputs": [],
   "source": [
    "lr_model = lr()\n"
   ]
  },
  {
   "cell_type": "code",
   "execution_count": 70,
   "id": "ecd35905",
   "metadata": {},
   "outputs": [
    {
     "name": "stderr",
     "output_type": "stream",
     "text": [
      "C:\\Users\\Abhiram\\anaconda3\\lib\\site-packages\\sklearn\\linear_model\\_logistic.py:460: ConvergenceWarning: lbfgs failed to converge (status=1):\n",
      "STOP: TOTAL NO. of ITERATIONS REACHED LIMIT.\n",
      "\n",
      "Increase the number of iterations (max_iter) or scale the data as shown in:\n",
      "    https://scikit-learn.org/stable/modules/preprocessing.html\n",
      "Please also refer to the documentation for alternative solver options:\n",
      "    https://scikit-learn.org/stable/modules/linear_model.html#logistic-regression\n",
      "  n_iter_i = _check_optimize_result(\n"
     ]
    },
    {
     "data": {
      "text/html": [
       "<style>#sk-container-id-1 {color: black;}#sk-container-id-1 pre{padding: 0;}#sk-container-id-1 div.sk-toggleable {background-color: white;}#sk-container-id-1 label.sk-toggleable__label {cursor: pointer;display: block;width: 100%;margin-bottom: 0;padding: 0.3em;box-sizing: border-box;text-align: center;}#sk-container-id-1 label.sk-toggleable__label-arrow:before {content: \"▸\";float: left;margin-right: 0.25em;color: #696969;}#sk-container-id-1 label.sk-toggleable__label-arrow:hover:before {color: black;}#sk-container-id-1 div.sk-estimator:hover label.sk-toggleable__label-arrow:before {color: black;}#sk-container-id-1 div.sk-toggleable__content {max-height: 0;max-width: 0;overflow: hidden;text-align: left;background-color: #f0f8ff;}#sk-container-id-1 div.sk-toggleable__content pre {margin: 0.2em;color: black;border-radius: 0.25em;background-color: #f0f8ff;}#sk-container-id-1 input.sk-toggleable__control:checked~div.sk-toggleable__content {max-height: 200px;max-width: 100%;overflow: auto;}#sk-container-id-1 input.sk-toggleable__control:checked~label.sk-toggleable__label-arrow:before {content: \"▾\";}#sk-container-id-1 div.sk-estimator input.sk-toggleable__control:checked~label.sk-toggleable__label {background-color: #d4ebff;}#sk-container-id-1 div.sk-label input.sk-toggleable__control:checked~label.sk-toggleable__label {background-color: #d4ebff;}#sk-container-id-1 input.sk-hidden--visually {border: 0;clip: rect(1px 1px 1px 1px);clip: rect(1px, 1px, 1px, 1px);height: 1px;margin: -1px;overflow: hidden;padding: 0;position: absolute;width: 1px;}#sk-container-id-1 div.sk-estimator {font-family: monospace;background-color: #f0f8ff;border: 1px dotted black;border-radius: 0.25em;box-sizing: border-box;margin-bottom: 0.5em;}#sk-container-id-1 div.sk-estimator:hover {background-color: #d4ebff;}#sk-container-id-1 div.sk-parallel-item::after {content: \"\";width: 100%;border-bottom: 1px solid gray;flex-grow: 1;}#sk-container-id-1 div.sk-label:hover label.sk-toggleable__label {background-color: #d4ebff;}#sk-container-id-1 div.sk-serial::before {content: \"\";position: absolute;border-left: 1px solid gray;box-sizing: border-box;top: 0;bottom: 0;left: 50%;z-index: 0;}#sk-container-id-1 div.sk-serial {display: flex;flex-direction: column;align-items: center;background-color: white;padding-right: 0.2em;padding-left: 0.2em;position: relative;}#sk-container-id-1 div.sk-item {position: relative;z-index: 1;}#sk-container-id-1 div.sk-parallel {display: flex;align-items: stretch;justify-content: center;background-color: white;position: relative;}#sk-container-id-1 div.sk-item::before, #sk-container-id-1 div.sk-parallel-item::before {content: \"\";position: absolute;border-left: 1px solid gray;box-sizing: border-box;top: 0;bottom: 0;left: 50%;z-index: -1;}#sk-container-id-1 div.sk-parallel-item {display: flex;flex-direction: column;z-index: 1;position: relative;background-color: white;}#sk-container-id-1 div.sk-parallel-item:first-child::after {align-self: flex-end;width: 50%;}#sk-container-id-1 div.sk-parallel-item:last-child::after {align-self: flex-start;width: 50%;}#sk-container-id-1 div.sk-parallel-item:only-child::after {width: 0;}#sk-container-id-1 div.sk-dashed-wrapped {border: 1px dashed gray;margin: 0 0.4em 0.5em 0.4em;box-sizing: border-box;padding-bottom: 0.4em;background-color: white;}#sk-container-id-1 div.sk-label label {font-family: monospace;font-weight: bold;display: inline-block;line-height: 1.2em;}#sk-container-id-1 div.sk-label-container {text-align: center;}#sk-container-id-1 div.sk-container {/* jupyter's `normalize.less` sets `[hidden] { display: none; }` but bootstrap.min.css set `[hidden] { display: none !important; }` so we also need the `!important` here to be able to override the default hidden behavior on the sphinx rendered scikit-learn.org. See: https://github.com/scikit-learn/scikit-learn/issues/21755 */display: inline-block !important;position: relative;}#sk-container-id-1 div.sk-text-repr-fallback {display: none;}</style><div id=\"sk-container-id-1\" class=\"sk-top-container\"><div class=\"sk-text-repr-fallback\"><pre>LogisticRegression()</pre><b>In a Jupyter environment, please rerun this cell to show the HTML representation or trust the notebook. <br />On GitHub, the HTML representation is unable to render, please try loading this page with nbviewer.org.</b></div><div class=\"sk-container\" hidden><div class=\"sk-item\"><div class=\"sk-estimator sk-toggleable\"><input class=\"sk-toggleable__control sk-hidden--visually\" id=\"sk-estimator-id-1\" type=\"checkbox\" checked><label for=\"sk-estimator-id-1\" class=\"sk-toggleable__label sk-toggleable__label-arrow\">LogisticRegression</label><div class=\"sk-toggleable__content\"><pre>LogisticRegression()</pre></div></div></div></div></div>"
      ],
      "text/plain": [
       "LogisticRegression()"
      ]
     },
     "execution_count": 70,
     "metadata": {},
     "output_type": "execute_result"
    }
   ],
   "source": [
    "lr_model.fit(X_train,Y_train)\n"
   ]
  },
  {
   "cell_type": "code",
   "execution_count": 71,
   "id": "97e84528",
   "metadata": {},
   "outputs": [],
   "source": [
    "lr_X_train_prediction = lr_model.predict(X_train)\n",
    "lr_training_data_accuracy = accuracy_score(lr_X_train_prediction,Y_train)\n",
    "lr_training_data_f1_score = f1_score(lr_X_train_prediction,Y_train)\n",
    "lr_training_data_confusion_matrix = cm(lr_X_train_prediction,Y_train)"
   ]
  },
  {
   "cell_type": "code",
   "execution_count": 72,
   "id": "37451824",
   "metadata": {},
   "outputs": [
    {
     "name": "stdout",
     "output_type": "stream",
     "text": [
      "Accuracy on lr Training data : 0.9428208386277002\n",
      "F1 score on lr Training Data : 0.942084942084942\n",
      "Confusion Matrix on lr training data: [[376  28]\n",
      " [ 17 366]]\n"
     ]
    }
   ],
   "source": [
    "print('Accuracy on lr Training data :',lr_training_data_accuracy)\n",
    "print(\"F1 score on lr Training Data :\" , lr_training_data_f1_score)\n",
    "print(\"Confusion Matrix on lr training data:\",lr_training_data_confusion_matrix)\n"
   ]
  },
  {
   "cell_type": "code",
   "execution_count": 73,
   "id": "26db998c",
   "metadata": {},
   "outputs": [],
   "source": [
    "lr_X_test_prediction = lr_model.predict(X_test)\n",
    "lr_testing_data_accuracy = accuracy_score(lr_X_test_prediction,Y_test)\n",
    "lr_testing_data_f1_score = f1_score(lr_X_test_prediction,Y_test)\n",
    "24\n",
    "lr_testing_data_confusion_matrix = cm(lr_X_test_prediction,Y_test)"
   ]
  },
  {
   "cell_type": "code",
   "execution_count": 74,
   "id": "d6884edb",
   "metadata": {},
   "outputs": [
    {
     "name": "stdout",
     "output_type": "stream",
     "text": [
      "Accuracy on lr Testing Data : 0.9441624365482234\n",
      "f1_score on lr Testing Data : 0.9417989417989417\n",
      "Confusion Matrix on lr Testing Data: [[97  9]\n",
      " [ 2 89]]\n"
     ]
    }
   ],
   "source": [
    "print(\"Accuracy on lr Testing Data :\",lr_testing_data_accuracy)\n",
    "print(\"f1_score on lr Testing Data :\",lr_testing_data_f1_score)\n",
    "print(\"Confusion Matrix on lr Testing Data:\",lr_testing_data_confusion_matrix)\n"
   ]
  },
  {
   "cell_type": "code",
   "execution_count": 75,
   "id": "48010f58",
   "metadata": {},
   "outputs": [],
   "source": [
    "dtc_model = dtc()"
   ]
  },
  {
   "cell_type": "code",
   "execution_count": 76,
   "id": "7649e727",
   "metadata": {},
   "outputs": [
    {
     "data": {
      "text/html": [
       "<style>#sk-container-id-2 {color: black;}#sk-container-id-2 pre{padding: 0;}#sk-container-id-2 div.sk-toggleable {background-color: white;}#sk-container-id-2 label.sk-toggleable__label {cursor: pointer;display: block;width: 100%;margin-bottom: 0;padding: 0.3em;box-sizing: border-box;text-align: center;}#sk-container-id-2 label.sk-toggleable__label-arrow:before {content: \"▸\";float: left;margin-right: 0.25em;color: #696969;}#sk-container-id-2 label.sk-toggleable__label-arrow:hover:before {color: black;}#sk-container-id-2 div.sk-estimator:hover label.sk-toggleable__label-arrow:before {color: black;}#sk-container-id-2 div.sk-toggleable__content {max-height: 0;max-width: 0;overflow: hidden;text-align: left;background-color: #f0f8ff;}#sk-container-id-2 div.sk-toggleable__content pre {margin: 0.2em;color: black;border-radius: 0.25em;background-color: #f0f8ff;}#sk-container-id-2 input.sk-toggleable__control:checked~div.sk-toggleable__content {max-height: 200px;max-width: 100%;overflow: auto;}#sk-container-id-2 input.sk-toggleable__control:checked~label.sk-toggleable__label-arrow:before {content: \"▾\";}#sk-container-id-2 div.sk-estimator input.sk-toggleable__control:checked~label.sk-toggleable__label {background-color: #d4ebff;}#sk-container-id-2 div.sk-label input.sk-toggleable__control:checked~label.sk-toggleable__label {background-color: #d4ebff;}#sk-container-id-2 input.sk-hidden--visually {border: 0;clip: rect(1px 1px 1px 1px);clip: rect(1px, 1px, 1px, 1px);height: 1px;margin: -1px;overflow: hidden;padding: 0;position: absolute;width: 1px;}#sk-container-id-2 div.sk-estimator {font-family: monospace;background-color: #f0f8ff;border: 1px dotted black;border-radius: 0.25em;box-sizing: border-box;margin-bottom: 0.5em;}#sk-container-id-2 div.sk-estimator:hover {background-color: #d4ebff;}#sk-container-id-2 div.sk-parallel-item::after {content: \"\";width: 100%;border-bottom: 1px solid gray;flex-grow: 1;}#sk-container-id-2 div.sk-label:hover label.sk-toggleable__label {background-color: #d4ebff;}#sk-container-id-2 div.sk-serial::before {content: \"\";position: absolute;border-left: 1px solid gray;box-sizing: border-box;top: 0;bottom: 0;left: 50%;z-index: 0;}#sk-container-id-2 div.sk-serial {display: flex;flex-direction: column;align-items: center;background-color: white;padding-right: 0.2em;padding-left: 0.2em;position: relative;}#sk-container-id-2 div.sk-item {position: relative;z-index: 1;}#sk-container-id-2 div.sk-parallel {display: flex;align-items: stretch;justify-content: center;background-color: white;position: relative;}#sk-container-id-2 div.sk-item::before, #sk-container-id-2 div.sk-parallel-item::before {content: \"\";position: absolute;border-left: 1px solid gray;box-sizing: border-box;top: 0;bottom: 0;left: 50%;z-index: -1;}#sk-container-id-2 div.sk-parallel-item {display: flex;flex-direction: column;z-index: 1;position: relative;background-color: white;}#sk-container-id-2 div.sk-parallel-item:first-child::after {align-self: flex-end;width: 50%;}#sk-container-id-2 div.sk-parallel-item:last-child::after {align-self: flex-start;width: 50%;}#sk-container-id-2 div.sk-parallel-item:only-child::after {width: 0;}#sk-container-id-2 div.sk-dashed-wrapped {border: 1px dashed gray;margin: 0 0.4em 0.5em 0.4em;box-sizing: border-box;padding-bottom: 0.4em;background-color: white;}#sk-container-id-2 div.sk-label label {font-family: monospace;font-weight: bold;display: inline-block;line-height: 1.2em;}#sk-container-id-2 div.sk-label-container {text-align: center;}#sk-container-id-2 div.sk-container {/* jupyter's `normalize.less` sets `[hidden] { display: none; }` but bootstrap.min.css set `[hidden] { display: none !important; }` so we also need the `!important` here to be able to override the default hidden behavior on the sphinx rendered scikit-learn.org. See: https://github.com/scikit-learn/scikit-learn/issues/21755 */display: inline-block !important;position: relative;}#sk-container-id-2 div.sk-text-repr-fallback {display: none;}</style><div id=\"sk-container-id-2\" class=\"sk-top-container\"><div class=\"sk-text-repr-fallback\"><pre>DecisionTreeClassifier()</pre><b>In a Jupyter environment, please rerun this cell to show the HTML representation or trust the notebook. <br />On GitHub, the HTML representation is unable to render, please try loading this page with nbviewer.org.</b></div><div class=\"sk-container\" hidden><div class=\"sk-item\"><div class=\"sk-estimator sk-toggleable\"><input class=\"sk-toggleable__control sk-hidden--visually\" id=\"sk-estimator-id-2\" type=\"checkbox\" checked><label for=\"sk-estimator-id-2\" class=\"sk-toggleable__label sk-toggleable__label-arrow\">DecisionTreeClassifier</label><div class=\"sk-toggleable__content\"><pre>DecisionTreeClassifier()</pre></div></div></div></div></div>"
      ],
      "text/plain": [
       "DecisionTreeClassifier()"
      ]
     },
     "execution_count": 76,
     "metadata": {},
     "output_type": "execute_result"
    }
   ],
   "source": [
    "dtc_model.fit(X_train,Y_train)"
   ]
  },
  {
   "cell_type": "code",
   "execution_count": 77,
   "id": "e3311430",
   "metadata": {},
   "outputs": [],
   "source": [
    "dtc_X_train_prediction = dtc_model.predict(X_train)\n",
    "dtc_training_data_accuracy = accuracy_score(dtc_X_train_prediction,Y_train)\n",
    "dtc_training_data_f1_score = f1_score(dtc_X_train_prediction,Y_train)\n",
    "dtc_training_data_confusion_matrix = cm(dtc_X_train_prediction,Y_train)\n"
   ]
  },
  {
   "cell_type": "code",
   "execution_count": 78,
   "id": "1d907624",
   "metadata": {},
   "outputs": [
    {
     "name": "stdout",
     "output_type": "stream",
     "text": [
      "Accuracy on dtc Training Data: 1.0\n",
      "f1_score on dtc Training Data: 1.0\n",
      "Confusion Matrix on dtc Training Data: [[393   0]\n",
      " [  0 394]]\n"
     ]
    }
   ],
   "source": [
    "print(\"Accuracy on dtc Training Data:\",dtc_training_data_accuracy)\n",
    "print(\"f1_score on dtc Training Data:\",dtc_training_data_f1_score)\n",
    "print(\"Confusion Matrix on dtc Training Data:\",dtc_training_data_confusion_matrix)"
   ]
  },
  {
   "cell_type": "code",
   "execution_count": 79,
   "id": "9ee89328",
   "metadata": {},
   "outputs": [],
   "source": [
    "dtc_X_test_prediction = dtc_model.predict(X_test)\n",
    "dtc_testing_data_accuracy = accuracy_score(dtc_X_test_prediction,Y_test)\n",
    "dtc_testing_data_f1_score = f1_score(dtc_X_test_prediction,Y_test)\n",
    "dtc_testing_data_confusion_matrix = cm(dtc_X_test_prediction,Y_test)"
   ]
  },
  {
   "cell_type": "code",
   "execution_count": 80,
   "id": "030de155",
   "metadata": {},
   "outputs": [
    {
     "name": "stdout",
     "output_type": "stream",
     "text": [
      "Accuracy on dtc testing Data: 0.9187817258883249\n",
      "f1_score on dtc testing Data: 0.9157894736842105\n",
      "Confusion Matrix on dtc testing data: [[94 11]\n",
      " [ 5 87]]\n"
     ]
    }
   ],
   "source": [
    "print(\"Accuracy on dtc testing Data:\", dtc_testing_data_accuracy)\n",
    "print(\"f1_score on dtc testing Data:\", dtc_testing_data_f1_score)\n",
    "print(\"Confusion Matrix on dtc testing data:\",dtc_testing_data_confusion_matrix)\n"
   ]
  },
  {
   "cell_type": "code",
   "execution_count": 81,
   "id": "dad415df",
   "metadata": {},
   "outputs": [],
   "source": [
    "gnb_model = gnb()\n"
   ]
  },
  {
   "cell_type": "code",
   "execution_count": 82,
   "id": "9b24a856",
   "metadata": {},
   "outputs": [
    {
     "data": {
      "text/html": [
       "<style>#sk-container-id-3 {color: black;}#sk-container-id-3 pre{padding: 0;}#sk-container-id-3 div.sk-toggleable {background-color: white;}#sk-container-id-3 label.sk-toggleable__label {cursor: pointer;display: block;width: 100%;margin-bottom: 0;padding: 0.3em;box-sizing: border-box;text-align: center;}#sk-container-id-3 label.sk-toggleable__label-arrow:before {content: \"▸\";float: left;margin-right: 0.25em;color: #696969;}#sk-container-id-3 label.sk-toggleable__label-arrow:hover:before {color: black;}#sk-container-id-3 div.sk-estimator:hover label.sk-toggleable__label-arrow:before {color: black;}#sk-container-id-3 div.sk-toggleable__content {max-height: 0;max-width: 0;overflow: hidden;text-align: left;background-color: #f0f8ff;}#sk-container-id-3 div.sk-toggleable__content pre {margin: 0.2em;color: black;border-radius: 0.25em;background-color: #f0f8ff;}#sk-container-id-3 input.sk-toggleable__control:checked~div.sk-toggleable__content {max-height: 200px;max-width: 100%;overflow: auto;}#sk-container-id-3 input.sk-toggleable__control:checked~label.sk-toggleable__label-arrow:before {content: \"▾\";}#sk-container-id-3 div.sk-estimator input.sk-toggleable__control:checked~label.sk-toggleable__label {background-color: #d4ebff;}#sk-container-id-3 div.sk-label input.sk-toggleable__control:checked~label.sk-toggleable__label {background-color: #d4ebff;}#sk-container-id-3 input.sk-hidden--visually {border: 0;clip: rect(1px 1px 1px 1px);clip: rect(1px, 1px, 1px, 1px);height: 1px;margin: -1px;overflow: hidden;padding: 0;position: absolute;width: 1px;}#sk-container-id-3 div.sk-estimator {font-family: monospace;background-color: #f0f8ff;border: 1px dotted black;border-radius: 0.25em;box-sizing: border-box;margin-bottom: 0.5em;}#sk-container-id-3 div.sk-estimator:hover {background-color: #d4ebff;}#sk-container-id-3 div.sk-parallel-item::after {content: \"\";width: 100%;border-bottom: 1px solid gray;flex-grow: 1;}#sk-container-id-3 div.sk-label:hover label.sk-toggleable__label {background-color: #d4ebff;}#sk-container-id-3 div.sk-serial::before {content: \"\";position: absolute;border-left: 1px solid gray;box-sizing: border-box;top: 0;bottom: 0;left: 50%;z-index: 0;}#sk-container-id-3 div.sk-serial {display: flex;flex-direction: column;align-items: center;background-color: white;padding-right: 0.2em;padding-left: 0.2em;position: relative;}#sk-container-id-3 div.sk-item {position: relative;z-index: 1;}#sk-container-id-3 div.sk-parallel {display: flex;align-items: stretch;justify-content: center;background-color: white;position: relative;}#sk-container-id-3 div.sk-item::before, #sk-container-id-3 div.sk-parallel-item::before {content: \"\";position: absolute;border-left: 1px solid gray;box-sizing: border-box;top: 0;bottom: 0;left: 50%;z-index: -1;}#sk-container-id-3 div.sk-parallel-item {display: flex;flex-direction: column;z-index: 1;position: relative;background-color: white;}#sk-container-id-3 div.sk-parallel-item:first-child::after {align-self: flex-end;width: 50%;}#sk-container-id-3 div.sk-parallel-item:last-child::after {align-self: flex-start;width: 50%;}#sk-container-id-3 div.sk-parallel-item:only-child::after {width: 0;}#sk-container-id-3 div.sk-dashed-wrapped {border: 1px dashed gray;margin: 0 0.4em 0.5em 0.4em;box-sizing: border-box;padding-bottom: 0.4em;background-color: white;}#sk-container-id-3 div.sk-label label {font-family: monospace;font-weight: bold;display: inline-block;line-height: 1.2em;}#sk-container-id-3 div.sk-label-container {text-align: center;}#sk-container-id-3 div.sk-container {/* jupyter's `normalize.less` sets `[hidden] { display: none; }` but bootstrap.min.css set `[hidden] { display: none !important; }` so we also need the `!important` here to be able to override the default hidden behavior on the sphinx rendered scikit-learn.org. See: https://github.com/scikit-learn/scikit-learn/issues/21755 */display: inline-block !important;position: relative;}#sk-container-id-3 div.sk-text-repr-fallback {display: none;}</style><div id=\"sk-container-id-3\" class=\"sk-top-container\"><div class=\"sk-text-repr-fallback\"><pre>GaussianNB()</pre><b>In a Jupyter environment, please rerun this cell to show the HTML representation or trust the notebook. <br />On GitHub, the HTML representation is unable to render, please try loading this page with nbviewer.org.</b></div><div class=\"sk-container\" hidden><div class=\"sk-item\"><div class=\"sk-estimator sk-toggleable\"><input class=\"sk-toggleable__control sk-hidden--visually\" id=\"sk-estimator-id-3\" type=\"checkbox\" checked><label for=\"sk-estimator-id-3\" class=\"sk-toggleable__label sk-toggleable__label-arrow\">GaussianNB</label><div class=\"sk-toggleable__content\"><pre>GaussianNB()</pre></div></div></div></div></div>"
      ],
      "text/plain": [
       "GaussianNB()"
      ]
     },
     "execution_count": 82,
     "metadata": {},
     "output_type": "execute_result"
    }
   ],
   "source": [
    "gnb_model.fit(X_train,Y_train)"
   ]
  },
  {
   "cell_type": "code",
   "execution_count": 83,
   "id": "129c04ea",
   "metadata": {},
   "outputs": [],
   "source": [
    "gnb_X_train_prediction = gnb_model.predict(X_train)\n",
    "gnb_training_data_accuracy = accuracy_score(gnb_X_train_prediction,Y_train)\n",
    "gnb_training_data_f1_score = f1_score(gnb_X_train_prediction,Y_train)\n",
    "gnb_training_data_confusion_matrix = cm(gnb_X_train_prediction,Y_train)"
   ]
  },
  {
   "cell_type": "code",
   "execution_count": 84,
   "id": "9c0711e5",
   "metadata": {},
   "outputs": [
    {
     "name": "stdout",
     "output_type": "stream",
     "text": [
      "Accuracy on gnb Training Data: 0.866581956797967\n",
      "f1_score on gnb Training Data: 0.8471615720524018\n",
      "Confusion Matrix on gnb Training Data: [[391 103]\n",
      " [  2 291]]\n"
     ]
    },
    {
     "ename": "TypeError",
     "evalue": "bad operand type for unary -: 'NoneType'",
     "output_type": "error",
     "traceback": [
      "\u001b[1;31m---------------------------------------------------------------------------\u001b[0m",
      "\u001b[1;31mTypeError\u001b[0m                                 Traceback (most recent call last)",
      "\u001b[1;32m~\\AppData\\Local\\Temp/ipykernel_21720/4014159244.py\u001b[0m in \u001b[0;36m<module>\u001b[1;34m\u001b[0m\n\u001b[0;32m      2\u001b[0m \u001b[1;36m25\u001b[0m\u001b[1;33m\u001b[0m\u001b[1;33m\u001b[0m\u001b[0m\n\u001b[0;32m      3\u001b[0m \u001b[0mprint\u001b[0m\u001b[1;33m(\u001b[0m\u001b[1;34m\"f1_score on gnb Training Data:\"\u001b[0m\u001b[1;33m,\u001b[0m\u001b[0mgnb_training_data_f1_score\u001b[0m\u001b[1;33m)\u001b[0m\u001b[1;33m\u001b[0m\u001b[1;33m\u001b[0m\u001b[0m\n\u001b[1;32m----> 4\u001b[1;33m \u001b[1;33m-\u001b[0m\u001b[0mprint\u001b[0m\u001b[1;33m(\u001b[0m\u001b[1;34m\"Confusion Matrix on gnb Training Data:\"\u001b[0m\u001b[1;33m,\u001b[0m\u001b[0mgnb_training_data_confusion_matrix\u001b[0m\u001b[1;33m)\u001b[0m\u001b[1;33m\u001b[0m\u001b[1;33m\u001b[0m\u001b[0m\n\u001b[0m",
      "\u001b[1;31mTypeError\u001b[0m: bad operand type for unary -: 'NoneType'"
     ]
    }
   ],
   "source": [
    "print(\"Accuracy on gnb Training Data:\",gnb_training_data_accuracy)\n",
    "25\n",
    "print(\"f1_score on gnb Training Data:\",gnb_training_data_f1_score)\n",
    "-print(\"Confusion Matrix on gnb Training Data:\",gnb_training_data_confusion_matrix)\n"
   ]
  },
  {
   "cell_type": "code",
   "execution_count": 85,
   "id": "dcad7134",
   "metadata": {},
   "outputs": [],
   "source": [
    "gnb_X_test_prediction = gnb_model.predict(X_test)\n",
    "gnb_testing_data_accuracy = accuracy_score(gnb_X_test_prediction,Y_test)\n",
    "gnb_testing_data_f1_score = f1_score(gnb_X_test_prediction,Y_test)\n",
    "gnb_testing_data_confusion_matrix = cm(gnb_X_test_prediction,Y_test)"
   ]
  },
  {
   "cell_type": "code",
   "execution_count": 86,
   "id": "734292d2",
   "metadata": {},
   "outputs": [
    {
     "name": "stdout",
     "output_type": "stream",
     "text": [
      "Accuracy on gnb testing Data: 0.868020304568528\n",
      "f1_score on gnb testing Data: 0.8488372093023255\n",
      "Confusion Matrix on gnb testing Data: [[98 25]\n",
      " [ 1 73]]\n"
     ]
    }
   ],
   "source": [
    "print(\"Accuracy on gnb testing Data:\", gnb_testing_data_accuracy)\n",
    "print(\"f1_score on gnb testing Data:\", gnb_testing_data_f1_score)\n",
    "print(\"Confusion Matrix on gnb testing Data:\",gnb_testing_data_confusion_matrix)"
   ]
  },
  {
   "cell_type": "code",
   "execution_count": 87,
   "id": "8828c11e",
   "metadata": {},
   "outputs": [],
   "source": [
    "pickle.dump(dtc_model,open('dtc_model.sav','wb'))\n",
    "\n"
   ]
  },
  {
   "cell_type": "code",
   "execution_count": 88,
   "id": "19906eaf",
   "metadata": {},
   "outputs": [],
   "source": [
    "pickle.dump(lr_model,open('lr_model.sav','wb'))\n"
   ]
  },
  {
   "cell_type": "code",
   "execution_count": 89,
   "id": "e4fc31d7",
   "metadata": {},
   "outputs": [],
   "source": [
    "pickle.dump(gnb_model,open('gnb_model.sav','wb'))\n"
   ]
  },
  {
   "cell_type": "code",
   "execution_count": 90,
   "id": "4b0d1f47",
   "metadata": {},
   "outputs": [],
   "source": [
    "dtc_model = pickle.load(open('dtc_model.sav','rb'))\n"
   ]
  },
  {
   "cell_type": "code",
   "execution_count": 91,
   "id": "28f6ddf6",
   "metadata": {},
   "outputs": [],
   "source": [
    "lr_model = pickle.load(open('lr_model.sav','rb'))\n"
   ]
  },
  {
   "cell_type": "code",
   "execution_count": 92,
   "id": "d8d298f3",
   "metadata": {},
   "outputs": [],
   "source": [
    "gnb_model = pickle.load(open('gnb_model.sav','rb'))"
   ]
  },
  {
   "cell_type": "code",
   "execution_count": 93,
   "id": "87474fb5",
   "metadata": {},
   "outputs": [
    {
     "name": "stdout",
     "output_type": "stream",
     "text": [
      "[[-1.358354, -1.340163, 1.773209, 0.37978, -0.503198, 1.800499, 0.791461, 0.247676, -1.514654, 0.207643, 0.624501, 0.066084, 0.717293, -0.165946, 2.345865, -2.890083, 1.109969, -0.121359, -2.261857, 0.52498, 0.247998, 0.771679, 0.909412, -0.689281, -0.327642, -0.139097, -0.055353, -0.059752, -0.38505, 378.66]] [0]\n",
      "\n",
      "\n",
      "Decision Tree Model classifies the transaction as GENUINE \n"
     ]
    },
    {
     "name": "stderr",
     "output_type": "stream",
     "text": [
      "C:\\Users\\Abhiram\\anaconda3\\lib\\site-packages\\sklearn\\base.py:465: UserWarning: X does not have valid feature names, but DecisionTreeClassifier was fitted with feature names\n",
      "  warnings.warn(\n"
     ]
    }
   ],
   "source": [
    "new_input = [[-1.358354 ,-1.340163, 1.773209, 0.379780, -0.503198 ,\n",
    "1.800499, 0.791461, 0.247676, -1.514654 ,0.207643,\n",
    "0.624501, 0.066084, 0.717293, -0.165946 ,2.345865 ,\n",
    "-2.890083, 1.109969, -0.121359 ,-2.261857, 0.524980,\n",
    "0.247998, 0.771679, 0.909412, -0.689281 ,-0.327642,\n",
    "-0.139097 ,-0.055353, -0.059752 ,-0.385050,378.66]]\n",
    "dtc_output = dtc_model.predict(new_input)\n",
    "print(new_input, dtc_output)\n",
    "print('\\n')\n",
    "if dtc_output==0:\n",
    " print('Decision Tree Model classifies the transaction as GENUINE ')\n",
    "if dtc_output==1:\n",
    " print('Decision Tree Regression Model classifies the transaction as FRAUD ')"
   ]
  },
  {
   "cell_type": "code",
   "execution_count": 94,
   "id": "560e82ec",
   "metadata": {},
   "outputs": [
    {
     "name": "stdout",
     "output_type": "stream",
     "text": [
      "[[-0.623525, 0.176955, 2.565, 1.54428, 0.109686, 0.055218, 0.259801, -0.192566, -0.320106, 0.869786, 1.170672, 0.490575, 0.427361, -0.660374, -0.377799, 1.40579, -1.66726, 0.887032, -1.786332, -0.074807, 0.3878, 1.408297, 0.019451, 0.545551, -1.35758, -0.332164, -0.13854, -0.200151, 0.483331, 67.1]] [0]\n",
      "\n",
      "\n",
      "Decision Tree Model classifies the transaction as GENUINE \n",
      "\n",
      "\n",
      "[[-0.623525, 0.176955, 2.565, 1.54428, 0.109686, 0.055218, 0.259801, -0.192566, -0.320106, 0.869786, 1.170672, 0.490575, 0.427361, -0.660374, -0.377799, 1.40579, -1.66726, 0.887032, -1.786332, -0.074807, 0.3878, 1.408297, 0.019451, 0.545551, -1.35758, -0.332164, -0.13854, -0.200151, 0.483331, 67.1]] [0]\n",
      "\n",
      "\n",
      "Logistic Regression Model classifies the transaction as GENUINE \n",
      "\n",
      "\n",
      "[[-0.623525, 0.176955, 2.565, 1.54428, 0.109686, 0.055218, 0.259801, -0.192566, -0.320106, 0.869786, 1.170672, 0.490575, 0.427361, -0.660374, -0.377799, 1.40579, -1.66726, 0.887032, -1.786332, -0.074807, 0.3878, 1.408297, 0.019451, 0.545551, -1.35758, -0.332164, -0.13854, -0.200151, 0.483331, 67.1]] [0]\n",
      "\n",
      "\n",
      "Naive Bayes Model classifies the transaction as GENUINE \n",
      "\n",
      "\n"
     ]
    },
    {
     "name": "stderr",
     "output_type": "stream",
     "text": [
      "C:\\Users\\Abhiram\\anaconda3\\lib\\site-packages\\sklearn\\base.py:465: UserWarning: X does not have valid feature names, but DecisionTreeClassifier was fitted with feature names\n",
      "  warnings.warn(\n",
      "C:\\Users\\Abhiram\\anaconda3\\lib\\site-packages\\sklearn\\base.py:465: UserWarning: X does not have valid feature names, but LogisticRegression was fitted with feature names\n",
      "  warnings.warn(\n",
      "C:\\Users\\Abhiram\\anaconda3\\lib\\site-packages\\sklearn\\base.py:465: UserWarning: X does not have valid feature names, but GaussianNB was fitted with feature names\n",
      "  warnings.warn(\n"
     ]
    }
   ],
   "source": [
    "new_input = [[-0.623525 , 0.176955 , 2.565, 1.54428 , 0.109686 ,\n",
    "0.055218, 0.259801, -0.192566 ,-0.320106 , 0.869786 ,\n",
    "1.170672 , 0.490575 , 0.427361 ,-0.660374 ,-0.377799 ,\n",
    "1.40579 ,-1.66726 , 0.887032 ,-1.786332, -0.074807 ,\n",
    "0.3878 , 1.408297 , 0.019451 , 0.545551 ,-1.35758,\n",
    "-0.332164 ,-0.13854, -0.200151,0.483331 , 67.1 ]]\n",
    "dtc_output = dtc_model.predict(new_input)\n",
    "print(new_input, dtc_output)\n",
    "print('\\n')\n",
    "if dtc_output==0:\n",
    " print('Decision Tree Model classifies the transaction as GENUINE ')\n",
    "if dtc_output==1:\n",
    " print('Decision Tree Regression Model classifies the transaction as FRAUD ')\n",
    "print('\\n')\n",
    "lr_model_output = lr_model.predict(new_input)\n",
    "print(new_input, lr_model_output)\n",
    "print('\\n')\n",
    "if lr_model_output==0:\n",
    " print('Logistic Regression Model classifies the transaction as GENUINE ')\n",
    "if lr_model_output==1:\n",
    " print('Logistic Regression Model classifies the transaction as FRAUD ')\n",
    "print('\\n')\n",
    "gnb_model_output = gnb_model.predict(new_input)\n",
    "print(new_input, gnb_model_output)\n",
    "print('\\n')\n",
    "if gnb_model_output==0:\n",
    " print('Naive Bayes Model classifies the transaction as GENUINE ')\n",
    "if gnb_model_output==1:\n",
    " print('Naive Bayes Model classifies the transaction as FRAUD ')\n",
    "print('\\n')"
   ]
  },
  {
   "cell_type": "code",
   "execution_count": 95,
   "id": "e1ba26de",
   "metadata": {},
   "outputs": [
    {
     "name": "stdout",
     "output_type": "stream",
     "text": [
      "[[-0.338262, 1.119593, 1.044367, -0.222187, 0.499361, -0.246761, 0.651583, 0.069539, -0.736727, -0.366846, 1.017614, 0.83639, 1.006844, -0.443523, 0.150219, 0.739453, -0.54098, 0.476677, 0.451773, 0.203711, -0.246914, -0.633753, -0.120794, -0.38505, -0.069733, 0.094199, 0.246219, 0.083076, -0.38505, 3.68]] [0]\n",
      "\n",
      "\n",
      "Decision Tree Model classifies the transaction as GENUINE \n",
      "\n",
      "\n",
      "[[-0.338262, 1.119593, 1.044367, -0.222187, 0.499361, -0.246761, 0.651583, 0.069539, -0.736727, -0.366846, 1.017614, 0.83639, 1.006844, -0.443523, 0.150219, 0.739453, -0.54098, 0.476677, 0.451773, 0.203711, -0.246914, -0.633753, -0.120794, -0.38505, -0.069733, 0.094199, 0.246219, 0.083076, -0.38505, 3.68]] [0]\n",
      "\n",
      "\n",
      "Logistic Regression Model classifies the transaction as GENUINE \n",
      "\n",
      "\n",
      "[[-0.338262, 1.119593, 1.044367, -0.222187, 0.499361, -0.246761, 0.651583, 0.069539, -0.736727, -0.366846, 1.017614, 0.83639, 1.006844, -0.443523, 0.150219, 0.739453, -0.54098, 0.476677, 0.451773, 0.203711, -0.246914, -0.633753, -0.120794, -0.38505, -0.069733, 0.094199, 0.246219, 0.083076, -0.38505, 3.68]] [0]\n",
      "\n",
      "\n",
      "Naive Bayes Model classifies the transaction as GENUINE \n",
      "\n",
      "\n"
     ]
    },
    {
     "name": "stderr",
     "output_type": "stream",
     "text": [
      "C:\\Users\\Abhiram\\anaconda3\\lib\\site-packages\\sklearn\\base.py:465: UserWarning: X does not have valid feature names, but DecisionTreeClassifier was fitted with feature names\n",
      "  warnings.warn(\n",
      "C:\\Users\\Abhiram\\anaconda3\\lib\\site-packages\\sklearn\\base.py:465: UserWarning: X does not have valid feature names, but LogisticRegression was fitted with feature names\n",
      "  warnings.warn(\n",
      "C:\\Users\\Abhiram\\anaconda3\\lib\\site-packages\\sklearn\\base.py:465: UserWarning: X does not have valid feature names, but GaussianNB was fitted with feature names\n",
      "  warnings.warn(\n"
     ]
    }
   ],
   "source": [
    "new_input = [[ -0.338262 ,1.119593, 1.044367, -0.222187, 0.499361, \n",
    " -0.246761, 0.651583, 0.069539, -0.736727, -0.366846, \n",
    " 1.017614, 0.836390, 1.006844, -0.443523, 0.150219, \n",
    " 0.739453, -0.540980, 0.476677, 0.451773, 0.203711, \n",
    " -0.246914, -0.633753, -0.120794 ,-0.385050, -0.069733 ,\n",
    " 0.094199, 0.246219, 0.083076, -0.385050 ,3.68]]\n",
    "dtc_output = dtc_model.predict(new_input)\n",
    "print(new_input, dtc_output)\n",
    "print('\\n')\n",
    "if dtc_output==0:\n",
    " print('Decision Tree Model classifies the transaction as GENUINE ')\n",
    "if dtc_output==1:\n",
    " print('Decision Tree Regression Model classifies the transaction as FRAUD ')\n",
    "print('\\n')\n",
    "lr_model_output = lr_model.predict(new_input)\n",
    "print(new_input, lr_model_output)\n",
    "print('\\n')\n",
    "if lr_model_output==0:\n",
    " print('Logistic Regression Model classifies the transaction as GENUINE ')\n",
    "if lr_model_output==1:\n",
    " print('Logistic Regression Model classifies the transaction as FRAUD ')\n",
    "print('\\n')\n",
    "gnb_model_output = gnb_model.predict(new_input)\n",
    "print(new_input, gnb_model_output)\n",
    "print('\\n')\n",
    "if gnb_model_output==0:\n",
    " print('Naive Bayes Model classifies the transaction as GENUINE ')\n",
    "if gnb_model_output==1:\n",
    " print('Naive Bayes Model classifies the transaction as FRAUD ')\n",
    "print('\\n')"
   ]
  },
  {
   "cell_type": "code",
   "execution_count": 96,
   "id": "1120d73f",
   "metadata": {},
   "outputs": [
    {
     "name": "stdout",
     "output_type": "stream",
     "text": [
      "[[-1.358354, -1.340163, 1.773209, 0.37978, -0.503198, 1.800499, 0.791461, 0.247676, -1.514654, 0.207643, 0.624501, 0.066084, 0.717293, -0.165946, 2.345865, -2.890083, 1.109969, -0.121359, -2.261857, 0.52498, 0.247998, 0.771679, 0.909412, -0.689281, -0.327642, -0.139097, -0.055353, -0.059752, -0.38505, 378.66]] [0]\n",
      "\n",
      "\n",
      "Decision Tree Model classifies the transaction as GENUINE \n",
      "\n",
      "\n",
      "[[-1.358354, -1.340163, 1.773209, 0.37978, -0.503198, 1.800499, 0.791461, 0.247676, -1.514654, 0.207643, 0.624501, 0.066084, 0.717293, -0.165946, 2.345865, -2.890083, 1.109969, -0.121359, -2.261857, 0.52498, 0.247998, 0.771679, 0.909412, -0.689281, -0.327642, -0.139097, -0.055353, -0.059752, -0.38505, 378.66]] [0]\n",
      "\n",
      "\n",
      "Logistic Regression Model classifies the transaction as GENUINE \n",
      "\n",
      "\n",
      "[[-1.358354, -1.340163, 1.773209, 0.37978, -0.503198, 1.800499, 0.791461, 0.247676, -1.514654, 0.207643, 0.624501, 0.066084, 0.717293, -0.165946, 2.345865, -2.890083, 1.109969, -0.121359, -2.261857, 0.52498, 0.247998, 0.771679, 0.909412, -0.689281, -0.327642, -0.139097, -0.055353, -0.059752, -0.38505, 378.66]] [0]\n",
      "\n",
      "\n",
      "Naive Bayes Model classifies the transaction as GENUINE \n",
      "\n",
      "\n"
     ]
    },
    {
     "name": "stderr",
     "output_type": "stream",
     "text": [
      "C:\\Users\\Abhiram\\anaconda3\\lib\\site-packages\\sklearn\\base.py:465: UserWarning: X does not have valid feature names, but DecisionTreeClassifier was fitted with feature names\n",
      "  warnings.warn(\n",
      "C:\\Users\\Abhiram\\anaconda3\\lib\\site-packages\\sklearn\\base.py:465: UserWarning: X does not have valid feature names, but LogisticRegression was fitted with feature names\n",
      "  warnings.warn(\n",
      "C:\\Users\\Abhiram\\anaconda3\\lib\\site-packages\\sklearn\\base.py:465: UserWarning: X does not have valid feature names, but GaussianNB was fitted with feature names\n",
      "  warnings.warn(\n"
     ]
    }
   ],
   "source": [
    "new_input = [[-1.358354 ,-1.340163, 1.773209, 0.379780, -0.503198 ,\n",
    " 1.800499, 0.791461, 0.247676, -1.514654 ,0.207643, \n",
    " 0.624501, 0.066084, 0.717293, -0.165946 ,2.345865 ,\n",
    " -2.890083, 1.109969, -0.121359 ,-2.261857, 0.524980,\n",
    " 0.247998, 0.771679, 0.909412, -0.689281 ,-0.327642, \n",
    " -0.139097 ,-0.055353, -0.059752 ,-0.385050,378.66]]\n",
    "\n",
    "dtc_output = dtc_model.predict(new_input)\n",
    "print(new_input, dtc_output)\n",
    "print('\\n')\n",
    "if dtc_output==0:\n",
    " print('Decision Tree Model classifies the transaction as GENUINE ')\n",
    "if dtc_output==1:\n",
    " print('Decision Tree Regression Model classifies the transaction as FRAUD ')\n",
    "print('\\n')\n",
    "lr_model_output = lr_model.predict(new_input)\n",
    "print(new_input, lr_model_output)\n",
    "print('\\n')\n",
    "if lr_model_output==0:\n",
    " print('Logistic Regression Model classifies the transaction as GENUINE ')\n",
    "if lr_model_output==1:\n",
    " print('Logistic Regression Model classifies the transaction as FRAUD ')\n",
    "print('\\n')\n",
    "gnb_model_output = gnb_model.predict(new_input)\n",
    "print(new_input, gnb_model_output)\n",
    "print('\\n')\n",
    "if gnb_model_output==0:\n",
    " print('Naive Bayes Model classifies the transaction as GENUINE ')\n",
    "if gnb_model_output==1:\n",
    " print('Naive Bayes Model classifies the transaction as FRAUD ')\n",
    "\n",
    "print('\\n')"
   ]
  },
  {
   "cell_type": "code",
   "execution_count": 97,
   "id": "69e32a93",
   "metadata": {},
   "outputs": [
    {
     "name": "stdout",
     "output_type": "stream",
     "text": [
      "[[-0.623525, 0.176955, 2.565, 1.54428, 0.109686, 0.055218, 0.259801, -0.192566, -0.320106, 0.869786, 1.170672, 0.490575, 0.427361, -0.660374, -0.377799, 1.40579, -1.66726, 0.887032, -1.786332, -0.074807, 0.3878, 1.408297, 0.019451, 0.545551, -1.35758, -0.332164, -0.13854, -0.200151, 0.483331, 67.1]] [0]\n",
      "\n",
      "\n",
      "Decision Tree Model classifies the transaction as GENUINE \n",
      "\n",
      "\n",
      "[[-0.623525, 0.176955, 2.565, 1.54428, 0.109686, 0.055218, 0.259801, -0.192566, -0.320106, 0.869786, 1.170672, 0.490575, 0.427361, -0.660374, -0.377799, 1.40579, -1.66726, 0.887032, -1.786332, -0.074807, 0.3878, 1.408297, 0.019451, 0.545551, -1.35758, -0.332164, -0.13854, -0.200151, 0.483331, 67.1]] [0]\n",
      "\n",
      "\n",
      "Logistic Regression Model classifies the transaction as GENUINE \n",
      "\n",
      "\n",
      "[[-0.623525, 0.176955, 2.565, 1.54428, 0.109686, 0.055218, 0.259801, -0.192566, -0.320106, 0.869786, 1.170672, 0.490575, 0.427361, -0.660374, -0.377799, 1.40579, -1.66726, 0.887032, -1.786332, -0.074807, 0.3878, 1.408297, 0.019451, 0.545551, -1.35758, -0.332164, -0.13854, -0.200151, 0.483331, 67.1]] [0]\n",
      "\n",
      "\n",
      "Naive Bayes Model classifies the transaction as GENUINE \n",
      "\n",
      "\n"
     ]
    },
    {
     "name": "stderr",
     "output_type": "stream",
     "text": [
      "C:\\Users\\Abhiram\\anaconda3\\lib\\site-packages\\sklearn\\base.py:465: UserWarning: X does not have valid feature names, but DecisionTreeClassifier was fitted with feature names\n",
      "  warnings.warn(\n",
      "C:\\Users\\Abhiram\\anaconda3\\lib\\site-packages\\sklearn\\base.py:465: UserWarning: X does not have valid feature names, but LogisticRegression was fitted with feature names\n",
      "  warnings.warn(\n",
      "C:\\Users\\Abhiram\\anaconda3\\lib\\site-packages\\sklearn\\base.py:465: UserWarning: X does not have valid feature names, but GaussianNB was fitted with feature names\n",
      "  warnings.warn(\n"
     ]
    }
   ],
   "source": [
    "new_input = [[-0.623525 , 0.176955 , 2.565, 1.54428 , 0.109686 ,\n",
    " 0.055218, 0.259801, -0.192566 ,-0.320106 , 0.869786 , \n",
    " 1.170672 , 0.490575 , 0.427361 ,-0.660374 ,-0.377799 ,\n",
    " 1.40579 ,-1.66726 , 0.887032 ,-1.786332, -0.074807 ,\n",
    " 0.3878 , 1.408297 , 0.019451 , 0.545551 ,-1.35758, \n",
    " -0.332164 ,-0.13854, -0.200151,0.483331 , 67.1 ]]\n",
    "dtc_output = dtc_model.predict(new_input)\n",
    "print(new_input, dtc_output)\n",
    "print('\\n')\n",
    "if dtc_output==0:\n",
    " print('Decision Tree Model classifies the transaction as GENUINE ')\n",
    "if dtc_output==1:\n",
    " print('Decision Tree Regression Model classifies the transaction as FRAUD ')\n",
    "print('\\n')\n",
    "lr_model_output = lr_model.predict(new_input)\n",
    "print(new_input, lr_model_output)\n",
    "print('\\n')\n",
    "if lr_model_output==0:\n",
    " print('Logistic Regression Model classifies the transaction as GENUINE ')\n",
    "if lr_model_output==1:\n",
    " print('Logistic Regression Model classifies the transaction as FRAUD ')\n",
    "print('\\n')\n",
    "gnb_model_output = gnb_model.predict(new_input)\n",
    "print(new_input, gnb_model_output)\n",
    "print('\\n')\n",
    "if gnb_model_output==0:\n",
    " print('Naive Bayes Model classifies the transaction as GENUINE ')\n",
    "if gnb_model_output==1:\n",
    " print('Naive Bayes Model classifies the transaction as FRAUD ')\n",
    "\n",
    "print('\\n')\n",
    "\n"
   ]
  },
  {
   "cell_type": "code",
   "execution_count": 98,
   "id": "ffdbc84c",
   "metadata": {
    "scrolled": true
   },
   "outputs": [
    {
     "name": "stdout",
     "output_type": "stream",
     "text": [
      "[[-0.338262, 1.119593, 1.044367, -0.222187, 0.499361, -0.246761, 0.651583, 0.069539, -0.736727, -0.366846, 1.017614, 0.83639, 1.006844, -0.443523, 0.150219, 0.739453, -0.54098, 0.476677, 0.451773, 0.203711, -0.246914, -0.633753, -0.120794, -0.38505, -0.069733, 0.094199, 0.246219, 0.083076, -0.38505, 3.68]] [0]\n",
      "\n",
      "\n",
      "Decision Tree Model classifies the transaction as GENUINE \n",
      "\n",
      "\n",
      "[[-0.338262, 1.119593, 1.044367, -0.222187, 0.499361, -0.246761, 0.651583, 0.069539, -0.736727, -0.366846, 1.017614, 0.83639, 1.006844, -0.443523, 0.150219, 0.739453, -0.54098, 0.476677, 0.451773, 0.203711, -0.246914, -0.633753, -0.120794, -0.38505, -0.069733, 0.094199, 0.246219, 0.083076, -0.38505, 3.68]] [0]\n",
      "\n",
      "\n",
      "Logistic Regression Model classifies the transaction as GENUINE \n",
      "\n",
      "\n",
      "[[-0.338262, 1.119593, 1.044367, -0.222187, 0.499361, -0.246761, 0.651583, 0.069539, -0.736727, -0.366846, 1.017614, 0.83639, 1.006844, -0.443523, 0.150219, 0.739453, -0.54098, 0.476677, 0.451773, 0.203711, -0.246914, -0.633753, -0.120794, -0.38505, -0.069733, 0.094199, 0.246219, 0.083076, -0.38505, 3.68]] [0]\n",
      "\n",
      "\n",
      "Naive Bayes Model classifies the transaction as GENUINE \n",
      "\n",
      "\n"
     ]
    },
    {
     "name": "stderr",
     "output_type": "stream",
     "text": [
      "C:\\Users\\Abhiram\\anaconda3\\lib\\site-packages\\sklearn\\base.py:465: UserWarning: X does not have valid feature names, but DecisionTreeClassifier was fitted with feature names\n",
      "  warnings.warn(\n",
      "C:\\Users\\Abhiram\\anaconda3\\lib\\site-packages\\sklearn\\base.py:465: UserWarning: X does not have valid feature names, but LogisticRegression was fitted with feature names\n",
      "  warnings.warn(\n",
      "C:\\Users\\Abhiram\\anaconda3\\lib\\site-packages\\sklearn\\base.py:465: UserWarning: X does not have valid feature names, but GaussianNB was fitted with feature names\n",
      "  warnings.warn(\n"
     ]
    }
   ],
   "source": [
    "new_input = [[ -0.338262 ,1.119593, 1.044367, -0.222187, 0.499361, \n",
    " -0.246761, 0.651583, 0.069539, -0.736727, -0.366846, \n",
    " 1.017614, 0.836390, 1.006844, -0.443523, 0.150219, \n",
    " 0.739453, -0.540980, 0.476677, 0.451773, 0.203711, \n",
    " -0.246914, -0.633753, -0.120794 ,-0.385050, -0.069733 ,\n",
    " 0.094199, 0.246219, 0.083076, -0.385050 ,3.68]]\n",
    "dtc_output = dtc_model.predict(new_input)\n",
    "print(new_input, dtc_output)\n",
    "print('\\n')\n",
    "if dtc_output==0:\n",
    " print('Decision Tree Model classifies the transaction as GENUINE ')\n",
    "if dtc_output==1:\n",
    " print('Decision Tree Regression Model classifies the transaction as FRAUD ')\n",
    "print('\\n')\n",
    "lr_model_output = lr_model.predict(new_input)\n",
    "print(new_input, lr_model_output)\n",
    "print('\\n')\n",
    "if lr_model_output==0:\n",
    " print('Logistic Regression Model classifies the transaction as GENUINE ')\n",
    "if lr_model_output==1:\n",
    " print('Logistic Regression Model classifies the transaction as FRAUD ')\n",
    "print('\\n')\n",
    "gnb_model_output = gnb_model.predict(new_input)\n",
    "print(new_input, gnb_model_output)\n",
    "print('\\n')\n",
    "if gnb_model_output==0:\n",
    " print('Naive Bayes Model classifies the transaction as GENUINE ')\n",
    "if gnb_model_output==1:\n",
    " print('Naive Bayes Model classifies the transaction as FRAUD ')\n",
    "\n",
    "print('\\n')"
   ]
  },
  {
   "cell_type": "code",
   "execution_count": 99,
   "id": "27876d7f",
   "metadata": {},
   "outputs": [],
   "source": [
    "import imblearn \n",
    "from imblearn.under_sampling import RandomUnderSampler \n",
    "\n",
    "undersample = RandomUnderSampler(sampling_strategy=0.5)"
   ]
  },
  {
   "cell_type": "code",
   "execution_count": 100,
   "id": "02125610",
   "metadata": {},
   "outputs": [],
   "source": [
    "cols = cd.columns.tolist()\n",
    "cols = [c for c in cols if c not in [\"Class\"]]\n",
    "target = \"Class\""
   ]
  },
  {
   "cell_type": "code",
   "execution_count": 101,
   "id": "e6ecfca3",
   "metadata": {},
   "outputs": [],
   "source": [
    "X = cd[cols]\n",
    "Y = cd[target]\n",
    "\n",
    "#undersample\n",
    "X_under, Y_under = undersample.fit_resample(X, Y)"
   ]
  },
  {
   "cell_type": "code",
   "execution_count": 102,
   "id": "0455c45b",
   "metadata": {},
   "outputs": [],
   "source": [
    "from pandas import DataFrame\n",
    "test = pd.DataFrame(Y_under, columns = ['Class'])"
   ]
  },
  {
   "cell_type": "code",
   "execution_count": 104,
   "id": "b926c281",
   "metadata": {},
   "outputs": [
    {
     "data": {
      "text/plain": [
       "Text(0.5, 1.0, 'After')"
      ]
     },
     "execution_count": 104,
     "metadata": {},
     "output_type": "execute_result"
    },
    {
     "data": {
      "image/png": "[encoded data removed]",
      "text/plain": [
       "<Figure size 936x324 with 2 Axes>"
      ]
     },
     "metadata": {
      "needs_background": "light"
     },
     "output_type": "display_data"
    }
   ],
   "source": [
    "fig, axs = plt.subplots(ncols=2, figsize=(13,4.5))\n",
    "sns.countplot(x=\"Class\", data=cd, ax=axs[0])\n",
    "sns.countplot(x=\"Class\", data=test, ax=axs[1])\n",
    "\n",
    "fig.suptitle(\"Class repartition before and after undersampling\")\n",
    "a1=fig.axes[0]\n",
    "a1.set_title(\"Before\")\n",
    "a2=fig.axes[1]\n",
    "a2.set_title(\"After\")"
   ]
  },
  {
   "cell_type": "code",
   "execution_count": 105,
   "id": "ee92da3b",
   "metadata": {},
   "outputs": [],
   "source": [
    "from sklearn.model_selection import train_test_split\n",
    "\n",
    "X_train, X_test, y_train, y_test = train_test_split(X_under, Y_under, test_size=0.2, random_state=1)"
   ]
  },
  {
   "cell_type": "code",
   "execution_count": 106,
   "id": "1490ee03",
   "metadata": {},
   "outputs": [],
   "source": [
    "from sklearn.svm import SVC\n",
    "\n",
    "from sklearn import metrics\n",
    "from sklearn.metrics import confusion_matrix\n",
    "from sklearn.metrics import roc_curve\n",
    "from sklearn.metrics import roc_auc_score\n",
    "from sklearn.metrics import auc\n",
    "from sklearn.metrics import precision_recall_curve"
   ]
  },
  {
   "cell_type": "code",
   "execution_count": 107,
   "id": "a0098f11",
   "metadata": {},
   "outputs": [],
   "source": [
    "model = SVC()"
   ]
  },
  {
   "cell_type": "code",
   "execution_count": 108,
   "id": "8430d477",
   "metadata": {},
   "outputs": [],
   "source": [
    "#train the model\n",
    "model2 = SVC(probability=True, random_state=2)\n",
    "svm = model2.fit(X_train, y_train)"
   ]
  },
  {
   "cell_type": "code",
   "execution_count": 109,
   "id": "c9599f18",
   "metadata": {},
   "outputs": [],
   "source": [
    "#predictions\n",
    "y_pred_svm = model2.predict(X_test)"
   ]
  },
  {
   "cell_type": "code",
   "execution_count": 110,
   "id": "016c3f58",
   "metadata": {},
   "outputs": [
    {
     "name": "stdout",
     "output_type": "stream",
     "text": [
      "Accuracy SVM: 0.6351351351351351\n",
      "Precision SVM: 0.0\n",
      "Recall SVM: 0.0\n",
      "F1 Score SVM: 0.0\n"
     ]
    },
    {
     "name": "stderr",
     "output_type": "stream",
     "text": [
      "C:\\Users\\Abhiram\\anaconda3\\lib\\site-packages\\sklearn\\metrics\\_classification.py:1471: UndefinedMetricWarning: Precision is ill-defined and being set to 0.0 due to no predicted samples. Use `zero_division` parameter to control this behavior.\n",
      "  _warn_prf(average, modifier, msg_start, len(result))\n"
     ]
    }
   ],
   "source": [
    "print(\"Accuracy SVM:\",metrics.accuracy_score(y_test, y_pred_svm))\n",
    "print(\"Precision SVM:\",metrics.precision_score(y_test, y_pred_svm))\n",
    "print(\"Recall SVM:\",metrics.recall_score(y_test, y_pred_svm))\n",
    "print(\"F1 Score SVM:\",metrics.f1_score(y_test, y_pred_svm))\n"
   ]
  },
  {
   "cell_type": "code",
   "execution_count": 111,
   "id": "a32d07d2",
   "metadata": {},
   "outputs": [
    {
     "data": {
      "image/png": "[encoded data removed]",
      "text/plain": [
       "<Figure size 432x288 with 1 Axes>"
      ]
     },
     "metadata": {
      "needs_background": "light"
     },
     "output_type": "display_data"
    }
   ],
   "source": [
    "matrix_svm = confusion_matrix(y_test, y_pred_svm)\n",
    "cm_svm = pd.DataFrame(matrix_svm, index=['not_fraud', 'fraud'], columns=['not_fraud', 'fraud'])\n",
    "\n",
    "sns.heatmap(cm_svm, annot=True, cbar=None, cmap=\"Blues\", fmt = 'g')\n",
    "plt.title(\"Confusion Matrix SVM\"), plt.tight_layout()\n",
    "plt.ylabel(\"True Class\"), plt.xlabel(\"Predicted Class\")\n",
    "plt.show()"
   ]
  },
  {
   "cell_type": "code",
   "execution_count": 112,
   "id": "09e3a158",
   "metadata": {},
   "outputs": [
    {
     "name": "stdout",
     "output_type": "stream",
     "text": [
      "AUC SVM : 0.573827817178881\n"
     ]
    }
   ],
   "source": [
    "#AUC\n",
    "y_pred_svm_proba = model2.predict_proba(X_test)[::,1]\n",
    "fpr_svm, tpr_svm, _ = metrics.roc_curve(y_test,  y_pred_svm_proba)\n",
    "auc_svm = metrics.roc_auc_score(y_test, y_pred_svm_proba)\n",
    "print(\"AUC SVM :\", auc_svm)"
   ]
  },
  {
   "cell_type": "code",
   "execution_count": 113,
   "id": "af303589",
   "metadata": {},
   "outputs": [
    {
     "data": {
      "image/png": "[encoded data removed]",
      "text/plain": [
       "<Figure size 432x288 with 1 Axes>"
      ]
     },
     "metadata": {
      "needs_background": "light"
     },
     "output_type": "display_data"
    }
   ],
   "source": [
    "#ROC\n",
    "plt.plot(fpr_svm,tpr_svm,label=\"SVM, auc={:.3f})\".format(auc_svm))\n",
    "plt.plot([0, 1], [0, 1], 'k--')\n",
    "plt.xlabel('False positive rate')\n",
    "plt.ylabel('True positive rate')\n",
    "plt.title('SVM ROC curve')\n",
    "plt.legend(loc=4)\n",
    "plt.show()"
   ]
  },
  {
   "cell_type": "code",
   "execution_count": 114,
   "id": "55ffc994",
   "metadata": {},
   "outputs": [
    {
     "data": {
      "image/png": "[encoded data removed]",
      "text/plain": [
       "<Figure size 432x288 with 1 Axes>"
      ]
     },
     "metadata": {
      "needs_background": "light"
     },
     "output_type": "display_data"
    }
   ],
   "source": [
    "svm_precision, svm_recall, _ = precision_recall_curve(y_test, y_pred_svm_proba)\n",
    "no_skill = len(y_test[y_test==1]) / len(y_test)\n",
    "plt.plot([0, 1], [no_skill, no_skill], linestyle='--', color='black', label='No Skill')\n",
    "plt.plot(svm_recall, svm_precision, color='orange', label='SVM')\n",
    "plt.xlabel('Recall')\n",
    "plt.ylabel('Precision')\n",
    "plt.title('Precision-Recall curve')\n",
    "plt.legend()\n",
    "plt.show()"
   ]
  },
  {
   "cell_type": "code",
   "execution_count": 115,
   "id": "99b11f53",
   "metadata": {},
   "outputs": [
    {
     "name": "stdout",
     "output_type": "stream",
     "text": [
      "0    284315\n",
      "1       492\n",
      "Name: Class, dtype: int64\n"
     ]
    }
   ],
   "source": [
    "fraud_counts = cd['Class'].value_counts()\n",
    "print(fraud_counts)"
   ]
  },
  {
   "cell_type": "code",
   "execution_count": 116,
   "id": "03cb9f24",
   "metadata": {},
   "outputs": [
    {
     "data": {
      "text/plain": [
       "<Figure size 864x432 with 0 Axes>"
      ]
     },
     "metadata": {},
     "output_type": "display_data"
    },
    {
     "data": {
      "image/png": "[encoded data removed]",
      "text/plain": [
       "<Figure size 360x360 with 1 Axes>"
      ]
     },
     "metadata": {},
     "output_type": "display_data"
    },
    {
     "data": {
      "image/png": "[encoded data removed]",
      "text/plain": [
       "<Figure size 360x360 with 1 Axes>"
      ]
     },
     "metadata": {},
     "output_type": "display_data"
    }
   ],
   "source": [
    "# Set the style of the visualization\n",
    "sns.set(style=\"whitegrid\")\n",
    "\n",
    "# Create a plot\n",
    "plt.figure(figsize=(12, 6))\n",
    "\n",
    "# Plot the distribution of the 'Amount' for fraudulent transactions\n",
    "sns.displot(cd[cd['Class'] == 1]['Amount'], bins=50, label='Fraud', kde=False, color='red')\n",
    "\n",
    "# Plot the distribution of the 'Amount' for non-fraudulent transactions\n",
    "sns.displot(cd[cd['Class'] == 0]['Amount'], bins=50, label='Not Fraud', kde=False, color='green')\n",
    "\n",
    "plt.title('Distribution of Transaction Amounts for Fraudulent vs. Non-Fraudulent Transactions')\n",
    "plt.xlabel('Amount')\n",
    "plt.ylabel('Number of Transactions')\n",
    "plt.legend()\n",
    "plt.xlim([0, 2500])  # Limiting x-axis to 2500 for better visualization, as there might be some outliers\n",
    "plt.tight_layout()\n",
    "plt.show()"
   ]
  },
  {
   "cell_type": "code",
   "execution_count": 117,
   "id": "511cca4a",
   "metadata": {},
   "outputs": [],
   "source": [
    "#importing libraries\n",
    "import numpy as np\n",
    "import pandas as pd\n",
    "import sklearn\n",
    "import scipy\n",
    "import matplotlib.pyplot as plt\n",
    "import seaborn as sns\n",
    "from sklearn.metrics import classification_report,accuracy_score\n",
    "from sklearn.ensemble import IsolationForest\n",
    "from sklearn.neighbors import LocalOutlierFactor\n",
    "from sklearn.svm import OneClassSVM\n",
    "from pylab import rcParams\n",
    "rcParams['figure.figsize'] = 14, 8\n",
    "RANDOM_SEED = 42\n",
    "LABELS = [\"Normal\", \"Fraud\"]"
   ]
  },
  {
   "cell_type": "code",
   "execution_count": 118,
   "id": "1e8679be",
   "metadata": {},
   "outputs": [],
   "source": [
    "#checking the number of frauds and valid transactions\n",
    "\n",
    "Fraud = cd[cd['Class']==1]\n",
    "Valid = cd[cd['Class']==0]\n",
    "outlier_fraction = len(Fraud)/float(len(Valid))"
   ]
  },
  {
   "cell_type": "code",
   "execution_count": 119,
   "id": "057f732d",
   "metadata": {},
   "outputs": [
    {
     "name": "stdout",
     "output_type": "stream",
     "text": [
      "(284807, 30)\n",
      "(284807,)\n"
     ]
    }
   ],
   "source": [
    "#creating dependent and independent features\n",
    "columns = cd.columns.tolist()\n",
    "#Filtering the columns to remove the data\n",
    "columns = [c for c in columns if c not in [\"Class\"]]\n",
    "#alocating variable we are predicting\n",
    "target = \"Class\"\n",
    "#Defining a random state\n",
    "state = np.random.RandomState(42)\n",
    "X = cd[columns]\n",
    "Y = cd[target]\n",
    "X_outliers = state.uniform(low=0, high=1, size=(X.shape[0], X.shape[1]))\n",
    "print(X.shape)\n",
    "print(Y.shape)"
   ]
  },
  {
   "cell_type": "code",
   "execution_count": 120,
   "id": "e2f6a8ca",
   "metadata": {},
   "outputs": [],
   "source": [
    "##Define the outlier detection methods\n",
    "\n",
    "classifiers = {\n",
    "    \"Isolation Forest\":IsolationForest(n_estimators=100, max_samples=len(X), \n",
    "                                       contamination=outlier_fraction,random_state=5, verbose=0),\n",
    "    \"Local Outlier Factor\":LocalOutlierFactor(n_neighbors=20, algorithm='auto', \n",
    "                                              leaf_size=30, metric='minkowski',\n",
    "                                              p=2, metric_params=None, contamination=outlier_fraction),\n",
    "    \"Support Vector Machine\":OneClassSVM(kernel='rbf', degree=3, gamma=0.1,nu=0.05, \n",
    "                                         max_iter=-1)\n",
    "   \n",
    "}"
   ]
  },
  {
   "cell_type": "code",
   "execution_count": 121,
   "id": "d19b37f7",
   "metadata": {},
   "outputs": [
    {
     "data": {
      "text/plain": [
       "dict"
      ]
     },
     "execution_count": 121,
     "metadata": {},
     "output_type": "execute_result"
    }
   ],
   "source": [
    "type(classifiers)"
   ]
  },
  {
   "cell_type": "code",
   "execution_count": null,
   "id": "a3b48ff4",
   "metadata": {},
   "outputs": [
    {
     "name": "stdout",
     "output_type": "stream",
     "text": [
      "Isolation Forest: 697\n",
      "Accuracy Score :\n",
      "0.9975527286899549\n",
      "Classification Report :\n",
      "              precision    recall  f1-score   support\n",
      "\n",
      "           0       1.00      1.00      1.00    284315\n",
      "           1       0.29      0.29      0.29       492\n",
      "\n",
      "    accuracy                           1.00    284807\n",
      "   macro avg       0.65      0.65      0.65    284807\n",
      "weighted avg       1.00      1.00      1.00    284807\n",
      "\n",
      "Local Outlier Factor: 935\n",
      "Accuracy Score :\n",
      "0.9967170750718908\n",
      "Classification Report :\n",
      "              precision    recall  f1-score   support\n",
      "\n",
      "           0       1.00      1.00      1.00    284315\n",
      "           1       0.05      0.05      0.05       492\n",
      "\n",
      "    accuracy                           1.00    284807\n",
      "   macro avg       0.52      0.52      0.52    284807\n",
      "weighted avg       1.00      1.00      1.00    284807\n",
      "\n"
     ]
    }
   ],
   "source": [
    "n_outliers = len(Fraud)\n",
    "for i, (clf_name, clf) in enumerate(classifiers.items()):\n",
    "    #Fitting the data and tagging outliers\n",
    "    if clf_name == \"Local Outlier Factor\":\n",
    "        y_pred = clf.fit_predict(X)\n",
    "        scores_prediction = clf.negative_outlier_factor_\n",
    "    elif clf_name == \"Support Vector Machine\":\n",
    "        clf.fit(X)\n",
    "        y_pred = clf.predict(X)\n",
    "    else:\n",
    "        clf.fit(X)\n",
    "        scores_prediction = clf.decision_function(X)\n",
    "        y_pred = clf.predict(X)\n",
    "    #Reshaping the prediction values to 0 for Valid transaction, 1 for Fraud transactions\n",
    "    y_pred[y_pred == 1] = 0\n",
    "    y_pred[y_pred == -1] = 1\n",
    "    n_errors = (y_pred != Y).sum()\n",
    "    #Running Classifcation metrics\n",
    "    print(\"{}: {}\".format(clf_name,n_errors))\n",
    "    print(\"Accuracy Score :\")\n",
    "    print(accuracy_score(Y, y_pred))\n",
    "    print(\"Classification Report :\")\n",
    "    print(classification_report(Y,y_pred))"
   ]
  },
  {
   "cell_type": "code",
   "execution_count": null,
   "id": "e19b6e5a",
   "metadata": {},
   "outputs": [],
   "source": [
    " print(\"{}: {}\".format(clf_fit,n_errors))\n",
    "    print(\"Accuracy Score :\")\n",
    "    print(accuracy_score(X, y_pred))\n",
    "    print(\"Classification Report :\")\n",
    "    print(classification_report(X,y_pred))"
   ]
  },
  {
   "cell_type": "code",
   "execution_count": null,
   "id": "7d59377e",
   "metadata": {},
   "outputs": [],
   "source": [
    "# scaling Time and Amount \n",
    "from sklearn.preprocessing import StandardScaler\n",
    "cd[\"Amount\"]= StandardScaler().fit_transform(cd[\"Amount\"].values.reshape(-1, 1))\n",
    "cd[\"Time\"]= StandardScaler().fit_transform(cd[\"Time\"].values.reshape(-1, 1))"
   ]
  },
  {
   "cell_type": "code",
   "execution_count": null,
   "id": "abf12509",
   "metadata": {},
   "outputs": [],
   "source": [
    "cd[[\"Time\",\"Amount\"]].describe()"
   ]
  },
  {
   "cell_type": "code",
   "execution_count": null,
   "id": "ebde690d",
   "metadata": {},
   "outputs": [],
   "source": [
    "X=cd.drop(\"Class\", axis=1)\n",
    "y=cd[\"Class\"].values.reshape(-1,1)"
   ]
  },
  {
   "cell_type": "code",
   "execution_count": 99,
   "id": "eee7b179",
   "metadata": {},
   "outputs": [],
   "source": [
    "from imblearn.over_sampling import SMOTE\n",
    "smote = SMOTE(sampling_strategy='auto', random_state=42)\n",
    "X_resampled, y_resampled = smote.fit_resample(X, y)"
   ]
  },
  {
   "cell_type": "code",
   "execution_count": 100,
   "id": "f8f5b9f8",
   "metadata": {},
   "outputs": [],
   "source": [
    "from sklearn.model_selection import train_test_split\n",
    "X_train_resampled,X_test,y_train_resampled,y_test= train_test_split(X_resampled,y_resampled)"
   ]
  },
  {
   "cell_type": "code",
   "execution_count": 101,
   "id": "8944746e",
   "metadata": {},
   "outputs": [],
   "source": [
    "from sklearn.linear_model import LogisticRegression\n",
    "model=LogisticRegression()\n",
    "model.fit(X_train_resampled, y_train_resampled)\n",
    "y_pred=model.predict(X_test)"
   ]
  },
  {
   "cell_type": "code",
   "execution_count": 102,
   "id": "39a4b9bc",
   "metadata": {},
   "outputs": [
    {
     "name": "stdout",
     "output_type": "stream",
     "text": [
      "              precision    recall  f1-score   support\n",
      "\n",
      "           0       0.92      0.97      0.95     70793\n",
      "           1       0.97      0.92      0.94     70834\n",
      "\n",
      "    accuracy                           0.95    141627\n",
      "   macro avg       0.95      0.95      0.95    141627\n",
      "weighted avg       0.95      0.95      0.95    141627\n",
      "\n"
     ]
    }
   ],
   "source": [
    "from sklearn.metrics import classification_report\n",
    "report = classification_report(y_test, y_pred)\n",
    "print(report)"
   ]
  },
  {
   "cell_type": "code",
   "execution_count": 103,
   "id": "32ae1d56",
   "metadata": {},
   "outputs": [
    {
     "data": {
      "text/plain": [
       "0.9455481617818954"
      ]
     },
     "execution_count": 103,
     "metadata": {},
     "output_type": "execute_result"
    }
   ],
   "source": [
    "from sklearn.metrics import roc_auc_score\n",
    "roc_auc_score(y_test, y_pred)"
   ]
  },
  {
   "cell_type": "code",
   "execution_count": 104,
   "id": "4c086444",
   "metadata": {},
   "outputs": [
    {
     "name": "stdout",
     "output_type": "stream",
     "text": [
      "0.9720315280956013\n",
      "0.9175113645989215\n"
     ]
    }
   ],
   "source": [
    "from sklearn.metrics import precision_score, recall_score\n",
    "print(precision_score(y_test,y_pred))\n",
    "print(recall_score(y_test,y_pred))"
   ]
  },
  {
   "cell_type": "code",
   "execution_count": 105,
   "id": "d6e76173",
   "metadata": {},
   "outputs": [
    {
     "data": {
      "text/plain": [
       "0.9439848941501144"
      ]
     },
     "execution_count": 105,
     "metadata": {},
     "output_type": "execute_result"
    }
   ],
   "source": [
    "from sklearn.metrics import f1_score\n",
    "f1_score(y_test,y_pred)"
   ]
  },
  {
   "cell_type": "code",
   "execution_count": 106,
   "id": "b0ab5515",
   "metadata": {},
   "outputs": [],
   "source": [
    "from sklearn.linear_model import SGDClassifier\n",
    "sgd_clf = SGDClassifier(random_state=42)\n",
    "sgd_clf.fit(X_train_resampled, y_train_resampled)\n",
    "y_pred2 = sgd_clf.predict(X_test)"
   ]
  },
  {
   "cell_type": "code",
   "execution_count": 107,
   "id": "35aea1f4",
   "metadata": {},
   "outputs": [
    {
     "data": {
      "text/plain": [
       "0.9458511487074086"
      ]
     },
     "execution_count": 107,
     "metadata": {},
     "output_type": "execute_result"
    }
   ],
   "source": [
    "from sklearn.metrics import roc_auc_score\n",
    "roc_auc_score(y_test, y_pred2)"
   ]
  },
  {
   "cell_type": "code",
   "execution_count": 108,
   "id": "02b09a80",
   "metadata": {},
   "outputs": [
    {
     "name": "stdout",
     "output_type": "stream",
     "text": [
      "0.9701941400666985\n",
      "0.9199819295818392\n"
     ]
    }
   ],
   "source": [
    "from sklearn.metrics import precision_score, recall_score\n",
    "print(precision_score(y_test,y_pred2))\n",
    "print(recall_score(y_test,y_pred2))"
   ]
  },
  {
   "cell_type": "code",
   "execution_count": 109,
   "id": "c612817b",
   "metadata": {},
   "outputs": [
    {
     "data": {
      "text/plain": [
       "0.9444210953464444"
      ]
     },
     "execution_count": 109,
     "metadata": {},
     "output_type": "execute_result"
    }
   ],
   "source": [
    "from sklearn.metrics import f1_score\n",
    "f1_score(y_test,y_pred2)"
   ]
  },
  {
   "cell_type": "code",
   "execution_count": 110,
   "id": "46f4a06c",
   "metadata": {},
   "outputs": [],
   "source": [
    "X = data.drop('Class', axis=1)\n",
    "Y = data['Class']"
   ]
  },
  {
   "cell_type": "code",
   "execution_count": 111,
   "id": "6cfe47cf",
   "metadata": {},
   "outputs": [
    {
     "data": {
      "text/plain": [
       "(283726, 30)"
      ]
     },
     "execution_count": 111,
     "metadata": {},
     "output_type": "execute_result"
    }
   ],
   "source": [
    "X.shape"
   ]
  },
  {
   "cell_type": "code",
   "execution_count": 112,
   "id": "1b55c741",
   "metadata": {},
   "outputs": [
    {
     "data": {
      "text/plain": [
       "(283726,)"
      ]
     },
     "execution_count": 112,
     "metadata": {},
     "output_type": "execute_result"
    }
   ],
   "source": [
    "Y.shape"
   ]
  },
  {
   "cell_type": "code",
   "execution_count": 113,
   "id": "c7f9b97c",
   "metadata": {},
   "outputs": [],
   "source": [
    " # You can specify a random state for reproducibility\n",
    "smote = SMOTE(random_state=42) \n",
    "x_smote, y_smote = smote.fit_resample(X, Y)"
   ]
  },
  {
   "cell_type": "code",
   "execution_count": 114,
   "id": "276b6f5f",
   "metadata": {},
   "outputs": [
    {
     "data": {
      "text/plain": [
       "0    283253\n",
       "1    283253\n",
       "Name: Class, dtype: int64"
      ]
     },
     "execution_count": 114,
     "metadata": {},
     "output_type": "execute_result"
    }
   ],
   "source": [
    "y_smote.value_counts()"
   ]
  },
  {
   "cell_type": "code",
   "execution_count": 115,
   "id": "a9d88e16",
   "metadata": {},
   "outputs": [
    {
     "name": "stdout",
     "output_type": "stream",
     "text": [
      "Original dataset shape Counter({0: 283253, 1: 473})\n",
      "Resample dataset shape Counter({0: 283253, 1: 283253})\n"
     ]
    }
   ],
   "source": [
    "print('Original dataset shape', Counter(Y))\n",
    "print('Resample dataset shape', Counter(y_smote))"
   ]
  },
  {
   "cell_type": "code",
   "execution_count": 116,
   "id": "1de4ebca",
   "metadata": {},
   "outputs": [],
   "source": [
    "X_train, X_test, Y_train, Y_test = train_test_split(x_smote, y_smote, test_size=0.20, random_state=42)"
   ]
  },
  {
   "cell_type": "code",
   "execution_count": 117,
   "id": "9444f5ad",
   "metadata": {},
   "outputs": [
    {
     "data": {
      "image/png": "[encoded data removed]",
      "text/plain": [
       "<Figure size 576x432 with 1 Axes>"
      ]
     },
     "metadata": {},
     "output_type": "display_data"
    }
   ],
   "source": [
    "fraud_data = data[data['Class'] == 0]\n",
    "legitimate_data = data[data['Class'] == 1]\n",
    "plt.figure(figsize=(8, 6))\n",
    "plt.title(\"Transaction Amount - Fraud vs. Legitimate\")\n",
    "plt.xlabel(\"Amount ($)\")\n",
    "plt.ylabel(\"Frequency\")\n",
    "sns.histplot(fraud_data['Amount'], bins=50, kde=True, color=\"gold\", label=\"Fraud\")\n",
    "sns.histplot(legitimate_data['Amount'], bins=50, kde=True, color=\"blue\", label=\"Legitimate\")\n",
    "plt.legend()\n",
    "plt.show()"
   ]
  },
  {
   "cell_type": "code",
   "execution_count": 118,
   "id": "af65dce2",
   "metadata": {},
   "outputs": [
    {
     "data": {
      "image/png": "[encoded data removed]",
      "text/plain": [
       "<Figure size 576x432 with 1 Axes>"
      ]
     },
     "metadata": {},
     "output_type": "display_data"
    }
   ],
   "source": [
    "plt.figure(figsize=(8, 6))\n",
    "plt.title(\"Transaction Amount\")\n",
    "sns.boxplot(x=\"Class\", y=\"Amount\", data=data, boxprops=dict(facecolor=\"blue\"), whiskerprops=dict(color=\"gold\"), capprops=dict(color=\"gold\"))\n",
    "plt.show()"
   ]
  },
  {
   "cell_type": "code",
   "execution_count": 121,
   "id": "66aa6b89",
   "metadata": {},
   "outputs": [
    {
     "data": {
      "text/plain": [
       "<function matplotlib.pyplot.show(close=None, block=None)>"
      ]
     },
     "execution_count": 121,
     "metadata": {},
     "output_type": "execute_result"
    },
    {
     "data": {
      "image/png": "[encoded data removed]",
      "text/plain": [
       "<Figure size 576x432 with 2 Axes>"
      ]
     },
     "metadata": {},
     "output_type": "display_data"
    }
   ],
   "source": [
    "corr_imbalanced = cd.corr()\n",
    "plt.figure(figsize=(8, 6))\n",
    "sns.heatmap(corr_imbalanced, annot=False, cmap=\"plasma\", linewidths=0.5)\n",
    "plt.title(\"Correlation Matrix for Imbalanced Data\")\n",
    "plt.show"
   ]
  },
  {
   "cell_type": "code",
   "execution_count": 122,
   "id": "2205f42d",
   "metadata": {},
   "outputs": [
    {
     "data": {
      "image/png": "[encoded data removed]",
      "text/plain": [
       "<Figure size 576x432 with 2 Axes>"
      ]
     },
     "metadata": {},
     "output_type": "display_data"
    }
   ],
   "source": [
    "corr_balanced = x_smote.corr()\n",
    "plt.figure(figsize=(8, 6))\n",
    "sns.heatmap(corr_balanced, annot=False, cmap=\"plasma\", linewidths=0.5)\n",
    "plt.title(\"Correlation Matrix for Balanced Data\")\n",
    "plt.show()"
   ]
  },
  {
   "cell_type": "code",
   "execution_count": 123,
   "id": "cf3d3c9d",
   "metadata": {},
   "outputs": [
    {
     "data": {
      "image/png": "[encoded data removed]",
      "text/plain": [
       "<Figure size 576x432 with 1 Axes>"
      ]
     },
     "metadata": {},
     "output_type": "display_data"
    }
   ],
   "source": [
    "custom_palette = sns.color_palette([\"blue\", \"gold\"])\n",
    "plt.figure(figsize=(8, 6))\n",
    "sns.countplot(x=\"Class\", data=data, palette=custom_palette)\n",
    "plt.title(\"Class Distribution\")\n",
    "plt.show()"
   ]
  },
  {
   "cell_type": "code",
   "execution_count": 124,
   "id": "1d834721",
   "metadata": {},
   "outputs": [
    {
     "data": {
      "image/png": "[encoded data removed]",
      "text/plain": [
       "<Figure size 576x432 with 1 Axes>"
      ]
     },
     "metadata": {},
     "output_type": "display_data"
    }
   ],
   "source": [
    "custom_palette = sns.color_palette([\"blue\", \"gold\"])\n",
    "plt.figure(figsize=(8, 6))\n",
    "sns.countplot(x=y_smote, palette=custom_palette)\n",
    "plt.title(\"Distribution of Classes After Resampling (SMOTE)\")\n",
    "plt.xlabel(\"Class (0: Fraud, 1: Legitimate)\")\n",
    "plt.ylabel(\"Count\")\n",
    "plt.show()"
   ]
  },
  {
   "cell_type": "code",
   "execution_count": 125,
   "id": "b625eee1",
   "metadata": {},
   "outputs": [
    {
     "name": "stderr",
     "output_type": "stream",
     "text": [
      "C:\\Users\\vivek vardhan reddy\\anaconda3\\lib\\site-packages\\sklearn\\linear_model\\_logistic.py:460: ConvergenceWarning: lbfgs failed to converge (status=1):\n",
      "STOP: TOTAL NO. of ITERATIONS REACHED LIMIT.\n",
      "\n",
      "Increase the number of iterations (max_iter) or scale the data as shown in:\n",
      "    https://scikit-learn.org/stable/modules/preprocessing.html\n",
      "Please also refer to the documentation for alternative solver options:\n",
      "    https://scikit-learn.org/stable/modules/linear_model.html#logistic-regression\n",
      "  n_iter_i = _check_optimize_result(\n"
     ]
    },
    {
     "data": {
      "text/html": [
       "<style>#sk-container-id-4 {color: black;}#sk-container-id-4 pre{padding: 0;}#sk-container-id-4 div.sk-toggleable {background-color: white;}#sk-container-id-4 label.sk-toggleable__label {cursor: pointer;display: block;width: 100%;margin-bottom: 0;padding: 0.3em;box-sizing: border-box;text-align: center;}#sk-container-id-4 label.sk-toggleable__label-arrow:before {content: \"▸\";float: left;margin-right: 0.25em;color: #696969;}#sk-container-id-4 label.sk-toggleable__label-arrow:hover:before {color: black;}#sk-container-id-4 div.sk-estimator:hover label.sk-toggleable__label-arrow:before {color: black;}#sk-container-id-4 div.sk-toggleable__content {max-height: 0;max-width: 0;overflow: hidden;text-align: left;background-color: #f0f8ff;}#sk-container-id-4 div.sk-toggleable__content pre {margin: 0.2em;color: black;border-radius: 0.25em;background-color: #f0f8ff;}#sk-container-id-4 input.sk-toggleable__control:checked~div.sk-toggleable__content {max-height: 200px;max-width: 100%;overflow: auto;}#sk-container-id-4 input.sk-toggleable__control:checked~label.sk-toggleable__label-arrow:before {content: \"▾\";}#sk-container-id-4 div.sk-estimator input.sk-toggleable__control:checked~label.sk-toggleable__label {background-color: #d4ebff;}#sk-container-id-4 div.sk-label input.sk-toggleable__control:checked~label.sk-toggleable__label {background-color: #d4ebff;}#sk-container-id-4 input.sk-hidden--visually {border: 0;clip: rect(1px 1px 1px 1px);clip: rect(1px, 1px, 1px, 1px);height: 1px;margin: -1px;overflow: hidden;padding: 0;position: absolute;width: 1px;}#sk-container-id-4 div.sk-estimator {font-family: monospace;background-color: #f0f8ff;border: 1px dotted black;border-radius: 0.25em;box-sizing: border-box;margin-bottom: 0.5em;}#sk-container-id-4 div.sk-estimator:hover {background-color: #d4ebff;}#sk-container-id-4 div.sk-parallel-item::after {content: \"\";width: 100%;border-bottom: 1px solid gray;flex-grow: 1;}#sk-container-id-4 div.sk-label:hover label.sk-toggleable__label {background-color: #d4ebff;}#sk-container-id-4 div.sk-serial::before {content: \"\";position: absolute;border-left: 1px solid gray;box-sizing: border-box;top: 0;bottom: 0;left: 50%;z-index: 0;}#sk-container-id-4 div.sk-serial {display: flex;flex-direction: column;align-items: center;background-color: white;padding-right: 0.2em;padding-left: 0.2em;position: relative;}#sk-container-id-4 div.sk-item {position: relative;z-index: 1;}#sk-container-id-4 div.sk-parallel {display: flex;align-items: stretch;justify-content: center;background-color: white;position: relative;}#sk-container-id-4 div.sk-item::before, #sk-container-id-4 div.sk-parallel-item::before {content: \"\";position: absolute;border-left: 1px solid gray;box-sizing: border-box;top: 0;bottom: 0;left: 50%;z-index: -1;}#sk-container-id-4 div.sk-parallel-item {display: flex;flex-direction: column;z-index: 1;position: relative;background-color: white;}#sk-container-id-4 div.sk-parallel-item:first-child::after {align-self: flex-end;width: 50%;}#sk-container-id-4 div.sk-parallel-item:last-child::after {align-self: flex-start;width: 50%;}#sk-container-id-4 div.sk-parallel-item:only-child::after {width: 0;}#sk-container-id-4 div.sk-dashed-wrapped {border: 1px dashed gray;margin: 0 0.4em 0.5em 0.4em;box-sizing: border-box;padding-bottom: 0.4em;background-color: white;}#sk-container-id-4 div.sk-label label {font-family: monospace;font-weight: bold;display: inline-block;line-height: 1.2em;}#sk-container-id-4 div.sk-label-container {text-align: center;}#sk-container-id-4 div.sk-container {/* jupyter's `normalize.less` sets `[hidden] { display: none; }` but bootstrap.min.css set `[hidden] { display: none !important; }` so we also need the `!important` here to be able to override the default hidden behavior on the sphinx rendered scikit-learn.org. See: https://github.com/scikit-learn/scikit-learn/issues/21755 */display: inline-block !important;position: relative;}#sk-container-id-4 div.sk-text-repr-fallback {display: none;}</style><div id=\"sk-container-id-4\" class=\"sk-top-container\"><div class=\"sk-text-repr-fallback\"><pre>LogisticRegression(random_state=42)</pre><b>In a Jupyter environment, please rerun this cell to show the HTML representation or trust the notebook. <br />On GitHub, the HTML representation is unable to render, please try loading this page with nbviewer.org.</b></div><div class=\"sk-container\" hidden><div class=\"sk-item\"><div class=\"sk-estimator sk-toggleable\"><input class=\"sk-toggleable__control sk-hidden--visually\" id=\"sk-estimator-id-4\" type=\"checkbox\" checked><label for=\"sk-estimator-id-4\" class=\"sk-toggleable__label sk-toggleable__label-arrow\">LogisticRegression</label><div class=\"sk-toggleable__content\"><pre>LogisticRegression(random_state=42)</pre></div></div></div></div></div>"
      ],
      "text/plain": [
       "LogisticRegression(random_state=42)"
      ]
     },
     "execution_count": 125,
     "metadata": {},
     "output_type": "execute_result"
    }
   ],
   "source": [
    "# Build the Logistic Regression model\n",
    "logistic_model = LogisticRegression(random_state=42)\n",
    "logistic_model.fit(X_train, Y_train)"
   ]
  },
  {
   "cell_type": "code",
   "execution_count": 126,
   "id": "227611a1",
   "metadata": {},
   "outputs": [],
   "source": [
    "Y_pred_logistic = logistic_model.predict(X_test)"
   ]
  },
  {
   "cell_type": "code",
   "execution_count": 127,
   "id": "a4edf274",
   "metadata": {},
   "outputs": [
    {
     "name": "stdout",
     "output_type": "stream",
     "text": [
      "Time: 16\n",
      "Predict: Fraudulent Transaction\n"
     ]
    }
   ],
   "source": [
    "transaction_data = pd.DataFrame({\n",
    "    'Time': [16],\n",
    "    'V1': [1.322707269],\n",
    "    'V2': [-0.174040833],\n",
    "    'V3': [0.434555031],\n",
    "    'V4': [0.576037652],\n",
    "    'V5': [-0.836758046],\n",
    "    'V6': [-0.831083411],\n",
    "    'V7': [-0.264904961],\n",
    "    'V8': [-0.220981943],\n",
    "    'V9': [-1.071424618],\n",
    "    'V10': [0.868558548],\n",
    "    'V11': [-0.64150629],\n",
    "    'V12': [-0.111315775],\n",
    "    'V13': [0.36148541],\n",
    "    'V14': [0.171945122],\n",
    "    'V15': [0.782166532],\n",
    "    'V16': [-1.35587073],\n",
    "    'V17': [-0.216935153],\n",
    "    'V18': [1.271765385],\n",
    "    'V19': [-1.240621935],\n",
    "    'V20': [-0.522950941],\n",
    "    'V21': [-0.284375572],\n",
    "    'V22': [-0.323357411],\n",
    "    'V23': [-0.037709905],\n",
    "    'V24': [0.347150939],\n",
    "    'V25': [0.559639137],\n",
    "    'V26': [-0.280158166],\n",
    "    'V27': [0.042335258],\n",
    "    'V28': [0.0288223],\n",
    "    'Amount': [0],\n",
    "    'Class': [0]  \n",
    "})\n",
    "\n",
    "new_predictions = logistic_model.predict(transaction_data.drop(columns=['Class']))\n",
    "\n",
    "if new_predictions[0] == 1:\n",
    "    print(\"Time: 16\\nPredict: Fraudulent Transaction\")\n",
    "else:\n",
    "    print(\"Time: 16\\nPredict: Genuine Transaction\")"
   ]
  },
  {
   "cell_type": "code",
   "execution_count": 128,
   "id": "a491a745",
   "metadata": {},
   "outputs": [
    {
     "name": "stdout",
     "output_type": "stream",
     "text": [
      "Transaction 1: Genuine Transaction\n",
      "Transaction 2: Genuine Transaction\n",
      "Transaction 3: Genuine Transaction\n",
      "Transaction 4: Genuine Transaction\n",
      "Transaction 5: Genuine Transaction\n",
      "Transaction 6: Genuine Transaction\n",
      "Transaction 7: Genuine Transaction\n",
      "Transaction 8: Genuine Transaction\n",
      "Transaction 9: Genuine Transaction\n",
      "Transaction 10: Genuine Transaction\n",
      "Transaction 11: Genuine Transaction\n",
      "Transaction 12: Fraudulent Transaction\n",
      "Transaction 13: Genuine Transaction\n",
      "Transaction 14: Genuine Transaction\n",
      "Transaction 15: Genuine Transaction\n",
      "Transaction 16: Genuine Transaction\n",
      "Transaction 17: Genuine Transaction\n",
      "Transaction 18: Fraudulent Transaction\n",
      "Transaction 19: Genuine Transaction\n",
      "Transaction 20: Genuine Transaction\n",
      "Transaction 21: Genuine Transaction\n",
      "Transaction 22: Genuine Transaction\n",
      "Transaction 23: Genuine Transaction\n",
      "Transaction 24: Genuine Transaction\n",
      "Transaction 25: Genuine Transaction\n",
      "Transaction 26: Genuine Transaction\n",
      "Transaction 27: Fraudulent Transaction\n",
      "Transaction 28: Genuine Transaction\n"
     ]
    }
   ],
   "source": [
    "# Define the minimum and maximum 'Time' values from your training data\n",
    "min_time = data['Time'].min()\n",
    "max_time = data['Time'].max()\n",
    "\n",
    "random_transactions = []\n",
    "\n",
    "# Generate 28 random transactions\n",
    "for _ in range(28):\n",
    "    new_transaction = {\n",
    "        'Time': np.random.uniform(min_time, max_time), \n",
    "        'Amount': np.random.uniform(0, 500),\n",
    "        'V1': np.random.uniform(-2, 2),\n",
    "        'V2': np.random.uniform(-2, 2),\n",
    "        'V3': np.random.uniform(-2, 2),\n",
    "        'V4': np.random.uniform(-2, 2),\n",
    "        'V5': np.random.uniform(-2, 2),\n",
    "        'V6': np.random.uniform(-2, 2),\n",
    "        'V7': np.random.uniform(-2, 2),\n",
    "        'V8': np.random.uniform(-2, 2),\n",
    "        'V9': np.random.uniform(-2, 2),\n",
    "        'V10': np.random.uniform(-2, 2),\n",
    "        'V11': np.random.uniform(-2, 2),\n",
    "        'V12': np.random.uniform(-2, 2),\n",
    "        'V13': np.random.uniform(-2, 2),\n",
    "        'V14': np.random.uniform(-2, 2),\n",
    "        'V15': np.random.uniform(-2, 2),\n",
    "        'V16': np.random.uniform(-2, 2),\n",
    "        'V17': np.random.uniform(-2, 2),\n",
    "        'V18': np.random.uniform(-2, 2),\n",
    "        'V19': np.random.uniform(-2, 2),\n",
    "        'V20': np.random.uniform(-2, 2),\n",
    "        'V21': np.random.uniform(-2, 2),\n",
    "        'V22': np.random.uniform(-2, 2),\n",
    "        'V23': np.random.uniform(-2, 2),\n",
    "        'V24': np.random.uniform(-2, 2),\n",
    "        'V25': np.random.uniform(-2, 2),\n",
    "        'V26': np.random.uniform(-2, 2),\n",
    "        'V27': np.random.uniform(-2, 2),\n",
    "        'V28': np.random.uniform(-2, 2),\n",
    "    }\n",
    "    random_transactions.append(new_transaction)\n",
    "\n",
    "\n",
    "random_data = pd.DataFrame(random_transactions, columns=X_train.columns)  # Use the same feature order\n",
    "random_predictions = logistic_model.predict(random_data)\n",
    "\n",
    "for i, prediction in enumerate(random_predictions):\n",
    "    if prediction == 0:\n",
    "        print(f\"Transaction {i + 1}: Genuine Transaction\")\n",
    "    else:\n",
    "        print(f\"Transaction {i + 1}: Fraudulent Transaction\")"
   ]
  },
  {
   "cell_type": "code",
   "execution_count": 129,
   "id": "54d20b69",
   "metadata": {},
   "outputs": [
    {
     "name": "stdout",
     "output_type": "stream",
     "text": [
      "Logistic Regression Model - Confusion Matrix:\n",
      "                     Predicted Negative (0)  Predicted Positive (1)\n",
      "Actual Negative (0)                   55227                    1236\n",
      "Actual Positive (1)                    2114                   54725\n",
      "\n",
      "Logistic Regression Model - Classification Report:\n",
      "                      0             1  accuracy      macro avg   weighted avg\n",
      "precision      0.963133      0.977913  0.970433       0.970523       0.970548\n",
      "recall         0.978110      0.962807  0.970433       0.970458       0.970433\n",
      "f1-score       0.970563      0.970301  0.970433       0.970432       0.970432\n",
      "support    56463.000000  56839.000000  0.970433  113302.000000  113302.000000\n"
     ]
    }
   ],
   "source": [
    "# Calculate performance metrics for the Logistic Regression model\n",
    "confusion_matrix_logistic = confusion_matrix(Y_test, Y_pred_logistic)\n",
    "classification_report_logistic = classification_report(Y_test, Y_pred_logistic, output_dict=True)\n",
    "\n",
    "confusion_matrix_df = pd.DataFrame(confusion_matrix_logistic, \n",
    "                                   columns=[\"Predicted Negative (0)\", \"Predicted Positive (1)\"],\n",
    "                                   index=[\"Actual Negative (0)\", \"Actual Positive (1)\"])\n",
    "\n",
    "classification_report_df = pd.DataFrame(classification_report_logistic)\n",
    "\n",
    "print(\"Logistic Regression Model - Confusion Matrix:\")\n",
    "print(confusion_matrix_df)\n",
    "\n",
    "print(\"\\nLogistic Regression Model - Classification Report:\")\n",
    "print(classification_report_df)"
   ]
  },
  {
   "cell_type": "code",
   "execution_count": 130,
   "id": "e215cc4d",
   "metadata": {},
   "outputs": [
    {
     "data": {
      "image/png": "[encoded data removed]",
      "text/plain": [
       "<Figure size 504x360 with 2 Axes>"
      ]
     },
     "metadata": {},
     "output_type": "display_data"
    }
   ],
   "source": [
    "plt.figure(figsize=(7, 5))\n",
    "sns.heatmap(confusion_matrix_df, annot=True, fmt=\"d\", cmap=\"Blues\")\n",
    "plt.title(\"Confusion Matrix\")\n",
    "plt.xlabel(\"Predicted\")\n",
    "plt.ylabel(\"Actual\")\n",
    "plt.show()"
   ]
  },
  {
   "cell_type": "code",
   "execution_count": 131,
   "id": "a6096c0e",
   "metadata": {},
   "outputs": [
    {
     "data": {
      "image/png": "[encoded data removed]",
      "text/plain": [
       "<Figure size 504x360 with 1 Axes>"
      ]
     },
     "metadata": {},
     "output_type": "display_data"
    }
   ],
   "source": [
    "from sklearn.metrics import roc_curve, auc\n",
    "y_scores = logistic_model.predict_proba(X_test)[:, 1]\n",
    "fpr, tpr, thresholds = roc_curve(Y_test, y_scores)\n",
    "roc_auc = auc(fpr, tpr)\n",
    "\n",
    "plt.figure(figsize=(7, 5))\n",
    "plt.plot(fpr, tpr, color='blue', lw=2, label='ROC curve (area = %0.2f)' % roc_auc)\n",
    "plt.plot([0, 1], [0, 1], color='gold', lw=2, linestyle='--')\n",
    "plt.xlim([0.0, 1.0])\n",
    "plt.ylim([0.0, 1.05])\n",
    "plt.xlabel('False Positive Rate')\n",
    "plt.ylabel('True Positive Rate')\n",
    "plt.title('Receiver Operating Characteristic (ROC)')\n",
    "plt.legend(loc=\"lower right\")\n",
    "plt.show()"
   ]
  },
  {
   "cell_type": "code",
   "execution_count": 132,
   "id": "5e42e006",
   "metadata": {},
   "outputs": [
    {
     "data": {
      "image/png": "[encoded data removed]",
      "text/plain": [
       "<Figure size 576x432 with 1 Axes>"
      ]
     },
     "metadata": {},
     "output_type": "display_data"
    }
   ],
   "source": [
    "fraud_metrics = [classification_report_df['0']['precision'], classification_report_df['0']['recall'], classification_report_df['0']['f1-score']]\n",
    "legitimate_metrics = [classification_report_df['1']['precision'], classification_report_df['1']['recall'], classification_report_df['1']['f1-score']]\n",
    "\n",
    "metrics_labels = ['Precision', 'Recall', 'F1-Score']\n",
    "x = range(len(metrics_labels))\n",
    "\n",
    "plt.figure(figsize=(8, 6))\n",
    "plt.bar(x, fraud_metrics, width=0.4, label='Fraudulent', align='center', color='gold')\n",
    "plt.bar(x, legitimate_metrics, width=0.4, label='Genuine', align='edge', color='blue')\n",
    "plt.xlabel('Metrics')\n",
    "plt.xticks(x, metrics_labels)\n",
    "plt.title(\"Precision, Recall, and F1-Score by Class\")\n",
    "plt.legend()\n",
    "plt.show()"
   ]
  },
  {
   "cell_type": "code",
   "execution_count": null,
   "id": "0e313e1c",
   "metadata": {},
   "outputs": [],
   "source": []
  }
 ],
 "metadata": {
  "kernelspec": {
   "display_name": "Python 3 (ipykernel)",
   "language": "python",
   "name": "python3"
  },
  "language_info": {
   "codemirror_mode": {
    "name": "ipython",
    "version": 3
   },
   "file_extension": ".py",
   "mimetype": "text/x-python",
   "name": "python",
   "nbconvert_exporter": "python",
   "pygments_lexer": "ipython3",
   "version": "3.9.7"
  }
 },
 "nbformat": 4,
 "nbformat_minor": 5
}
